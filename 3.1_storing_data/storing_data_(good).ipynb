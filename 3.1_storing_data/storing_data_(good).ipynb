{
 "cells": [
  {
   "attachments": {},
   "cell_type": "markdown",
   "id": "123456",
   "metadata": {},
   "source": [
    "<div style=\"text-align:left;font-size:2em\"><span style=\"font-weight:bolder;font-size:1.25em\">SP2273 | Learning Portfolio</span><br><br><span style=\"font-weight:bold;color:darkred\">Storing Data (Good)</span></div>"
   ]
  },
  {
   "attachments": {},
   "cell_type": "markdown",
   "id": "408f4353",
   "metadata": {},
   "source": [
    "# What to expect in this chapter"
   ]
  },
  {
   "attachments": {},
   "cell_type": "markdown",
   "id": "83fd6553",
   "metadata": {},
   "source": [
    "# 1 Subsetting: Indexing and Slicing"
   ]
  },
  {
   "cell_type": "markdown",
   "id": "bc728544-25bb-4e57-81df-7658fc0e673c",
   "metadata": {},
   "source": [
    "**Subsetting** = 'Select' (Think set theory, it's the exact same thing!)\n",
    "- **Indexing** = Selecting 1 element\n",
    "- **Slicing** = Selecting a range of elements."
   ]
  },
  {
   "attachments": {},
   "cell_type": "markdown",
   "id": "4d2e1411",
   "metadata": {},
   "source": [
    "## 1.1 Lists & Arrays in 1D | Subsetting & Indexing"
   ]
  },
  {
   "cell_type": "code",
   "execution_count": 11,
   "id": "2b400c04-bdba-44ed-861e-cb22c81bdd54",
   "metadata": {},
   "outputs": [
    {
     "data": {
      "text/plain": [
       "['j10', 'i9', 'h8', 'g7', 'f6', 'e5', 'd4', 'c3', 'b2', 'a1']"
      ]
     },
     "execution_count": 11,
     "metadata": {},
     "output_type": "execute_result"
    }
   ],
   "source": [
    "import numpy as np\n",
    "py_list = ['a1', 'b2', 'c3', 'd4', 'e5', 'f6', 'g7', 'h8', 'i9', 'j10']\n",
    "np_array = np.array(py_list)\n",
    "\n",
    "x = py_list\n",
    "# x = np_array   # Pick One!!\n",
    "\n",
    "x[0]           # First element\n",
    "x[-1]          # Last element\n",
    "x[0:3]         # Index 0 to 2\n",
    "x[1:6]         # Indexes 1-5 (or 2nd entry to 6th entry)\n",
    "x[1:6:2]       # Index 1 to 5 in steps of 2\n",
    "x[5:]          # Index 5 to the end\n",
    "x[:5]          # Index 0 to 5\n",
    "x[5:2:-1]      # Index 5 to 3 but in reverse.\n",
    "x[::-1]        # Reverses the entire list"
   ]
  },
  {
   "attachments": {},
   "cell_type": "markdown",
   "id": "ade7a551",
   "metadata": {},
   "source": [
    "## 1.2 Arrays only | Subsetting by masking"
   ]
  },
  {
   "cell_type": "code",
   "execution_count": 13,
   "id": "5b6675ae-f029-45bd-a196-10d8007c8e92",
   "metadata": {},
   "outputs": [
    {
     "data": {
      "text/plain": [
       "array([False, False, False,  True,  True,  True,  True,  True,  True,\n",
       "        True])"
      ]
     },
     "execution_count": 13,
     "metadata": {},
     "output_type": "execute_result"
    }
   ],
   "source": [
    "# We can subset via Masking!\n",
    "np_array = np.array([1, 2, 3, 4, 5, 6, 7, 8, 9, 10])\n",
    "my_mask = np_array > 3\n",
    "my_mask    # Shows which ones obey the rule of > 3"
   ]
  },
  {
   "cell_type": "code",
   "execution_count": 15,
   "id": "3741074b-d8f4-426b-8411-e5a7e96be35c",
   "metadata": {},
   "outputs": [
    {
     "data": {
      "text/plain": [
       "array([ 4,  5,  6,  7,  8,  9, 10])"
      ]
     },
     "execution_count": 15,
     "metadata": {},
     "output_type": "execute_result"
    }
   ],
   "source": [
    "np_array[my_mask]   # This returns the elements that are ONLY TRUE."
   ]
  },
  {
   "cell_type": "code",
   "execution_count": 16,
   "id": "8be7be68-f8a1-4775-bad0-eb0029820fa2",
   "metadata": {},
   "outputs": [
    {
     "data": {
      "text/plain": [
       "array([ 4,  5,  6,  7,  8,  9, 10])"
      ]
     },
     "execution_count": 16,
     "metadata": {},
     "output_type": "execute_result"
    }
   ],
   "source": [
    "np_array[np_array > 3]    # This is a more compact version of the above"
   ]
  },
  {
   "cell_type": "markdown",
   "id": "4ef9427d-3de7-4303-8daf-f23a506859cb",
   "metadata": {},
   "source": [
    "Note the following examples and how different symbols can be used to further filter the elements we want:"
   ]
  },
  {
   "cell_type": "code",
   "execution_count": 21,
   "id": "f88b7304-b449-4bea-b571-7532c0a55ffd",
   "metadata": {},
   "outputs": [
    {
     "data": {
      "text/plain": [
       "array([1, 2, 3])"
      ]
     },
     "execution_count": 21,
     "metadata": {},
     "output_type": "execute_result"
    }
   ],
   "source": [
    "np_array[~(np_array > 3)]   # '~' indicates NO"
   ]
  },
  {
   "cell_type": "code",
   "execution_count": 22,
   "id": "fef790e5-3073-4d7e-bc15-e59147a8904a",
   "metadata": {},
   "outputs": [
    {
     "data": {
      "text/plain": [
       "array([4, 5, 6, 7])"
      ]
     },
     "execution_count": 22,
     "metadata": {},
     "output_type": "execute_result"
    }
   ],
   "source": [
    "np_array[(np_array > 3) & (np_array < 8)]   # '&' means AND."
   ]
  },
  {
   "cell_type": "code",
   "execution_count": 23,
   "id": "13bf8587-045e-49de-abd6-6dc78198eb05",
   "metadata": {},
   "outputs": [
    {
     "data": {
      "text/plain": [
       "array([ 1,  2,  9, 10])"
      ]
     },
     "execution_count": 23,
     "metadata": {},
     "output_type": "execute_result"
    }
   ],
   "source": [
    "np_array[(np_array < 3) | (np_array > 8)]   # '|' indicates OR (similar to math)"
   ]
  },
  {
   "attachments": {},
   "cell_type": "markdown",
   "id": "b360d3bc",
   "metadata": {},
   "source": [
    "## 1.3 Lists & Arrays in 2D | Indexing & Slicing"
   ]
  },
  {
   "cell_type": "code",
   "execution_count": 25,
   "id": "30563fb1-5a82-4402-8a49-bbf14334eb0b",
   "metadata": {},
   "outputs": [],
   "source": [
    "# Increasing the dimension! Lists within Lists!! Arrays within Arrays!! Dreams within dreams!! (hsr reference)\n",
    "\n",
    "py_list_2d = [[1,'A'], [2, 'B'], [3, 'C'], [4, 'D'], [5, 'E'], [6, 'F'], [7, 'G'], [8, 'H'], [9, 'I'], [10,'J']]\n",
    "np_array_2d = np.array(py_list_2d)"
   ]
  },
  {
   "cell_type": "code",
   "execution_count": 27,
   "id": "bf5706a4-bea6-4dc3-a32c-860585b196e2",
   "metadata": {},
   "outputs": [
    {
     "data": {
      "text/plain": [
       "[4, 'D']"
      ]
     },
     "execution_count": 27,
     "metadata": {},
     "output_type": "execute_result"
    }
   ],
   "source": [
    "py_list_2d[3]  # Pulls the 4th position (Note how it is another array)"
   ]
  },
  {
   "cell_type": "code",
   "execution_count": 30,
   "id": "c602f671-bf52-4acc-90e3-496dbb71fa92",
   "metadata": {},
   "outputs": [
    {
     "data": {
      "text/plain": [
       "4"
      ]
     },
     "execution_count": 30,
     "metadata": {},
     "output_type": "execute_result"
    }
   ],
   "source": [
    "py_list_2d[3][0]     # First element of position 4 (index 3)\n",
    "# OR np_array_2d[3,0]"
   ]
  },
  {
   "cell_type": "code",
   "execution_count": 33,
   "id": "3e1d8b93-e871-4633-8471-3a2aa76a30f7",
   "metadata": {},
   "outputs": [
    {
     "data": {
      "text/plain": [
       "[[1, 'A'], [2, 'B'], [3, 'C']]"
      ]
     },
     "execution_count": 33,
     "metadata": {},
     "output_type": "execute_result"
    }
   ],
   "source": [
    "py_list_2d[:3]      # First 3 elements of the array!!\n",
    "# OR np_array_2d[:3]"
   ]
  },
  {
   "cell_type": "markdown",
   "id": "433f7747-d38a-4337-a48d-7e3d495cdc83",
   "metadata": {},
   "source": [
    "Note the differences between the lists & arrays:"
   ]
  },
  {
   "cell_type": "code",
   "execution_count": 39,
   "id": "6703bce5-f3c3-4536-9c98-c39963327835",
   "metadata": {},
   "outputs": [
    {
     "data": {
      "text/plain": [
       "[1, 'A']"
      ]
     },
     "execution_count": 39,
     "metadata": {},
     "output_type": "execute_result"
    }
   ],
   "source": [
    "py_list_2d[:3][0]   # This pulls up the FIRST ENTRY of the list WITH the FIRST 3 indexes."
   ]
  },
  {
   "cell_type": "code",
   "execution_count": 40,
   "id": "bd5c256e-bf66-4883-a6dd-7e781658d1c4",
   "metadata": {},
   "outputs": [
    {
     "data": {
      "text/plain": [
       "array(['1', '2', '3'], dtype='<U21')"
      ]
     },
     "execution_count": 40,
     "metadata": {},
     "output_type": "execute_result"
    }
   ],
   "source": [
    "np_array_2d[:3, 0]   # This pulls up the FIRST ELEMENT of each of the FIRST 3 indexes."
   ]
  },
  {
   "cell_type": "code",
   "execution_count": 41,
   "id": "b91b296d-182c-48c0-9f79-bac7a62b949a",
   "metadata": {},
   "outputs": [
    {
     "data": {
      "text/plain": [
       "[4, 'D']"
      ]
     },
     "execution_count": 41,
     "metadata": {},
     "output_type": "execute_result"
    }
   ],
   "source": [
    "py_list_2d[3:6][0]   # This pulls up the FIRST ENTRY of the list WITH the FINAL 3 indexes."
   ]
  },
  {
   "cell_type": "code",
   "execution_count": 43,
   "id": "65a0c64d-fceb-4531-a5cd-19b27d9c62c1",
   "metadata": {},
   "outputs": [
    {
     "data": {
      "text/plain": [
       "array(['4', '5', '6'], dtype='<U21')"
      ]
     },
     "execution_count": 43,
     "metadata": {},
     "output_type": "execute_result"
    }
   ],
   "source": [
    "np_array_2d[3:6, 0]   # This pulls up the FIRST ELEMENT of each of the LAST 3 indexes."
   ]
  },
  {
   "cell_type": "code",
   "execution_count": 45,
   "id": "c6149781-79d4-43b6-ba19-f44b6cd5f7ad",
   "metadata": {},
   "outputs": [
    {
     "data": {
      "text/plain": [
       "array(['1', '2', '3', '4', '5', '6', '7', '8', '9', '10'], dtype='<U21')"
      ]
     },
     "execution_count": 45,
     "metadata": {},
     "output_type": "execute_result"
    }
   ],
   "source": [
    "np_array_2d[:, 0]     # This pulls up the FIRST ELEMENT of each index."
   ]
  },
  {
   "attachments": {},
   "cell_type": "markdown",
   "id": "7ae12f2c",
   "metadata": {},
   "source": [
    "## 1.4 Growing lists"
   ]
  },
  {
   "cell_type": "markdown",
   "id": "24057f77-7846-47d2-aa93-04ca443f3820",
   "metadata": {},
   "source": [
    "NumPy arrays are good for math operations, as long as you don't change their size."
   ]
  },
  {
   "cell_type": "code",
   "execution_count": 47,
   "id": "2949cc00-88a1-482c-9cec-94e3c561f3d0",
   "metadata": {},
   "outputs": [
    {
     "data": {
      "text/plain": [
       "[1, 2, 1, 2, 1, 2, 1, 2, 1, 2]"
      ]
     },
     "execution_count": 47,
     "metadata": {},
     "output_type": "execute_result"
    }
   ],
   "source": [
    "x = [1, 2] * 5     # to append the lists x 5\n",
    "x "
   ]
  },
  {
   "cell_type": "code",
   "execution_count": 53,
   "id": "a83dda19-331c-4787-9055-abcfeac12879",
   "metadata": {},
   "outputs": [
    {
     "name": "stdout",
     "output_type": "stream",
     "text": [
      "[1, 2, 3, 4] [1, 2, 3, 4] [1, 2, 3, 4]\n"
     ]
    }
   ],
   "source": [
    "# To grow a list via appending one element at a time (SLOW)\n",
    "x = [1]\n",
    "x = x + [2]\n",
    "x = x + [3]\n",
    "x = x + [4]\n",
    "\n",
    "# To grow a list via appending one element at a time (SLOW-ish)\n",
    "y = [1]\n",
    "y += [2]\n",
    "y += [3]\n",
    "y += [4]\n",
    "\n",
    "# To grow a list via manually appending (fast-ish)\n",
    "z = [1]\n",
    "z.append(2)\n",
    "z.append(3)\n",
    "z.append(4)\n",
    "\n",
    "print(x, y, z)"
   ]
  },
  {
   "cell_type": "code",
   "execution_count": 55,
   "id": "d3ec45e5-50cf-46bf-82a9-f8c91c78fd62",
   "metadata": {},
   "outputs": [
    {
     "name": "stdout",
     "output_type": "stream",
     "text": [
      "[1, 2, 3, 4, 5, 6] [1, 2, 3, 4, 5, 6] [1, 2, 3, [4, 5, 6]]\n"
     ]
    }
   ],
   "source": [
    "# to append it together\n",
    "x = [1, 2, 3]\n",
    "x += [4, 5, 6]\n",
    "\n",
    "# to extend! '.extend'\n",
    "y = [1, 2, 3]\n",
    "y.extend([4, 5, 6])\n",
    "\n",
    "# to append but BE CAREFUL!\n",
    "z = [1, 2, 3]\n",
    "z.append([4, 5, 6])   # THIS WILL APPEND THE LIST [4, 5, 6] AS AN ENTRY.\n",
    "\n",
    "print(x, y, z)"
   ]
  },
  {
   "attachments": {},
   "cell_type": "markdown",
   "id": "3d289a8b",
   "metadata": {},
   "source": [
    "# Some loose ends"
   ]
  },
  {
   "attachments": {},
   "cell_type": "markdown",
   "id": "7b67382c",
   "metadata": {},
   "source": [
    "## 1.5 Tuples"
   ]
  },
  {
   "cell_type": "markdown",
   "id": "8ca153bc-dd7d-4c3e-a4db-5dcf5dfa893a",
   "metadata": {},
   "source": [
    "A tuple is denoted by '( )' and cannot be changed!!"
   ]
  },
  {
   "cell_type": "code",
   "execution_count": 59,
   "id": "87f4762e-75f7-4337-927d-55cfd590c8b2",
   "metadata": {},
   "outputs": [
    {
     "name": "stdout",
     "output_type": "stream",
     "text": [
      "1\n"
     ]
    }
   ],
   "source": [
    "a = (1, 2, 3)   # Define tuple\n",
    "print(a[0])     # Access data, first entry\n",
    "\n",
    "# The following will not work as you cant change it\n",
    "# a[0] =- 1\n",
    "# a[0] += [10]"
   ]
  },
  {
   "attachments": {},
   "cell_type": "markdown",
   "id": "64c7c73c",
   "metadata": {},
   "source": [
    "## 1.6 Be VERY careful when copying"
   ]
  },
  {
   "cell_type": "markdown",
   "id": "79603aa3-3b2e-4008-802d-9d2f17fbfb38",
   "metadata": {},
   "source": [
    "Note: DO NOT DO THE FOLLOWING!!"
   ]
  },
  {
   "cell_type": "code",
   "execution_count": 61,
   "id": "8c4afb59-5b40-42d1-9a9e-9128ebc1a007",
   "metadata": {},
   "outputs": [],
   "source": [
    "x = [1, 2, 3]\n",
    "y = x\n",
    "z = x\n",
    "# DO NOT DO THIS!"
   ]
  },
  {
   "cell_type": "markdown",
   "id": "575631d2-bef7-4e91-87aa-badc92613f7a",
   "metadata": {},
   "source": [
    "DO THE FOLLOWING INSTEAD:"
   ]
  },
  {
   "cell_type": "code",
   "execution_count": 62,
   "id": "69757641-8408-472c-94e3-3c02c05528ae",
   "metadata": {},
   "outputs": [],
   "source": [
    "x = [1, 2, 3]\n",
    "y = x.copy()\n",
    "z = x.copy()"
   ]
  },
  {
   "attachments": {},
   "cell_type": "markdown",
   "id": "629950f2",
   "metadata": {},
   "source": [
    "## Footnotes"
   ]
  }
 ],
 "metadata": {
  "kernelspec": {
   "display_name": "Python 3 (ipykernel)",
   "language": "python",
   "name": "python3"
  },
  "language_info": {
   "codemirror_mode": {
    "name": "ipython",
    "version": 3
   },
   "file_extension": ".py",
   "mimetype": "text/x-python",
   "name": "python",
   "nbconvert_exporter": "python",
   "pygments_lexer": "ipython3",
   "version": "3.12.3"
  },
  "toc": {
   "base_numbering": 1,
   "nav_menu": {},
   "number_sections": true,
   "sideBar": true,
   "skip_h1_title": false,
   "title_cell": "Table of Contents",
   "title_sidebar": "Contents",
   "toc_cell": false,
   "toc_position": {},
   "toc_section_display": true,
   "toc_window_display": false
  },
  "vscode": {
   "interpreter": {
    "hash": "31f2aee4e71d21fbe5cf8b01ff0e069b9275f58929596ceb00d14d90e3e16cd6"
   }
  }
 },
 "nbformat": 4,
 "nbformat_minor": 5
}
