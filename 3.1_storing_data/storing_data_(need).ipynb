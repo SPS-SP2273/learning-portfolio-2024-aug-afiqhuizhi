{
 "cells": [
  {
   "attachments": {},
   "cell_type": "markdown",
   "id": "123456",
   "metadata": {},
   "source": [
    "<div style=\"text-align:left;font-size:2em\"><span style=\"font-weight:bolder;font-size:1.25em\">SP2273 | Learning Portfolio</span><br><br><span style=\"font-weight:bold;color:darkred\">Storing Data (Need)</span></div>"
   ]
  },
  {
   "attachments": {},
   "cell_type": "markdown",
   "id": "68d6cfbb",
   "metadata": {},
   "source": [
    "# What to expect in this chapter"
   ]
  },
  {
   "attachments": {},
   "cell_type": "markdown",
   "id": "dbc5beeb",
   "metadata": {},
   "source": [
    "# 1 Lists, Arrays & Dictionaries"
   ]
  },
  {
   "cell_type": "code",
   "execution_count": 1,
   "id": "87e8c020-7830-469c-a597-d7f81761e964",
   "metadata": {},
   "outputs": [],
   "source": [
    "import numpy as np"
   ]
  },
  {
   "attachments": {},
   "cell_type": "markdown",
   "id": "16b0a32e",
   "metadata": {},
   "source": [
    "## 1.1 Let’s compare"
   ]
  },
  {
   "cell_type": "code",
   "execution_count": null,
   "id": "a8290ad8-a030-4aed-89b1-a33026bd432b",
   "metadata": {},
   "outputs": [],
   "source": [
    "# To have a list, we have to define it (for python)\n",
    "py_super_names = [\"Black Widow\", \"Iron Man\", \"Doctor Strange\"]\n",
    "py_real_names = [\"Natasha Romanoff\", \"Tony Stark\", \"Stephen Strange\"]\n",
    "\n",
    "# To have an array, we have to define it (for Numpy)\n",
    "np_super_names = np.array(['Black Widow', 'Iron Man', 'Doctor Strange'])\n",
    "np_real_names = np.array(['Natasha Romanoff', 'Tony Stark', 'Stephen Strange'])\n",
    "\n",
    "# Dictionary (Note the ':' which separates stuff)\n",
    "superhero_info = {\n",
    "    'Natasha Romanoff': 'Black Window',\n",
    "    'Tony Stark': 'Iron Man',\n",
    "    'Stephen Strange': 'Doctor Strange'\n",
    "}"
   ]
  },
  {
   "attachments": {},
   "cell_type": "markdown",
   "id": "00efafca",
   "metadata": {},
   "source": [
    "## 1.2 Accessing data from a list (or array)"
   ]
  },
  {
   "cell_type": "code",
   "execution_count": 5,
   "id": "934f52d7-e0be-466f-90b1-49adf22fd359",
   "metadata": {},
   "outputs": [
    {
     "data": {
      "text/plain": [
       "'Natasha Romanoff'"
      ]
     },
     "execution_count": 5,
     "metadata": {},
     "output_type": "execute_result"
    }
   ],
   "source": [
    "py_super_names = [\"Black Widow\", \"Iron Man\", \"Doctor Strange\"]\n",
    "py_real_names = [\"Natasha Romanoff\", \"Tony Stark\", \"Stephen Strange\"]\n",
    "\n",
    "py_real_names[0]\n",
    "# Specifies for the index starting from 0."
   ]
  },
  {
   "cell_type": "code",
   "execution_count": 6,
   "id": "3b6b1f9d-e433-46ed-a2e1-52730b4cd544",
   "metadata": {},
   "outputs": [
    {
     "data": {
      "text/plain": [
       "'Black Widow'"
      ]
     },
     "execution_count": 6,
     "metadata": {},
     "output_type": "execute_result"
    }
   ],
   "source": [
    "py_super_names[0]"
   ]
  },
  {
   "cell_type": "markdown",
   "id": "676cd88e-ce67-48cd-af0d-292eb83e1fa5",
   "metadata": {},
   "source": [
    "We can also use negative numbers for indexing to pull up the index starting from the back."
   ]
  },
  {
   "cell_type": "code",
   "execution_count": 8,
   "id": "4a469d0a-fc30-40ba-8226-4a20d17dc1d4",
   "metadata": {},
   "outputs": [
    {
     "data": {
      "text/plain": [
       "'Doctor Strange'"
      ]
     },
     "execution_count": 8,
     "metadata": {},
     "output_type": "execute_result"
    }
   ],
   "source": [
    "py_super_names[2] # Forward indexing, to get the second index from the front"
   ]
  },
  {
   "cell_type": "code",
   "execution_count": 9,
   "id": "31cb4a22-6d16-4bad-9f79-b4ad7866dfef",
   "metadata": {},
   "outputs": [
    {
     "data": {
      "text/plain": [
       "'Doctor Strange'"
      ]
     },
     "execution_count": 9,
     "metadata": {},
     "output_type": "execute_result"
    }
   ],
   "source": [
    "py_super_names[-1] # Reverse Indexing, to get the first index from the back"
   ]
  },
  {
   "attachments": {},
   "cell_type": "markdown",
   "id": "0c5b51a2",
   "metadata": {},
   "source": [
    "## 1.3 Accessing data from a dictionary"
   ]
  },
  {
   "cell_type": "code",
   "execution_count": 11,
   "id": "acd94f3e-59ad-41fb-bbe6-8a9b59474e82",
   "metadata": {},
   "outputs": [],
   "source": [
    "superhero_info = {\n",
    "    \"Natasha Romanoff\": \"Black Widow\",\n",
    "    \"Tony Stark\": \"Iron Man\",\n",
    "    \"Stephen Strange\": \"Doctor Strange\"\n",
    "}                  "
   ]
  },
  {
   "cell_type": "code",
   "execution_count": 12,
   "id": "7135a6fa-a08d-401a-955c-4c2c7b86faaf",
   "metadata": {},
   "outputs": [
    {
     "data": {
      "text/plain": [
       "'Black Widow'"
      ]
     },
     "execution_count": 12,
     "metadata": {},
     "output_type": "execute_result"
    }
   ],
   "source": [
    "superhero_info['Natasha Romanoff']"
   ]
  },
  {
   "cell_type": "code",
   "execution_count": 15,
   "id": "71e3ee42-b791-4de6-b2e3-e3ef2b29652f",
   "metadata": {},
   "outputs": [
    {
     "data": {
      "text/plain": [
       "dict_keys(['Natasha Romanoff', 'Tony Stark', 'Stephen Strange'])"
      ]
     },
     "execution_count": 15,
     "metadata": {},
     "output_type": "execute_result"
    }
   ],
   "source": [
    "superhero_info.keys() # Shows the keys, i.e. first values"
   ]
  },
  {
   "cell_type": "code",
   "execution_count": 17,
   "id": "ea8ce030-745b-4adb-91d9-6ff32742a03e",
   "metadata": {},
   "outputs": [
    {
     "data": {
      "text/plain": [
       "dict_values(['Black Widow', 'Iron Man', 'Doctor Strange'])"
      ]
     },
     "execution_count": 17,
     "metadata": {},
     "output_type": "execute_result"
    }
   ],
   "source": [
    "superhero_info.values() # Shows the values for the specific keys"
   ]
  },
  {
   "attachments": {},
   "cell_type": "markdown",
   "id": "9d60d27c",
   "metadata": {},
   "source": [
    "## 1.4 Higher dimensional lists"
   ]
  },
  {
   "cell_type": "code",
   "execution_count": 20,
   "id": "5587119d-c498-4dd2-83da-56e688d9d7c7",
   "metadata": {},
   "outputs": [],
   "source": [
    "# It is possible to have a 2D list/array as follow:\n",
    "py_superhero_info = [['Natasha Romanoff', 'Black Widow'],\n",
    "                     ['Tony Stark', 'Iron Man'], \n",
    "                     ['Stephen Strange', 'Doctor Strange']]\n",
    "# Lists within lists :O Inception!"
   ]
  },
  {
   "attachments": {},
   "cell_type": "markdown",
   "id": "ab4c4803",
   "metadata": {},
   "source": [
    "# 2 Lists vs. Arrays"
   ]
  },
  {
   "attachments": {},
   "cell_type": "markdown",
   "id": "6ab054d0",
   "metadata": {},
   "source": [
    "## 2.1 Size"
   ]
  },
  {
   "cell_type": "code",
   "execution_count": 21,
   "id": "a25ea9dc-f85b-41a6-bbe0-982b15b3ce56",
   "metadata": {},
   "outputs": [],
   "source": [
    "# Use of len() function to show the amount of elements in lists or arrays\n",
    "py_list_2d = [[1,'A'], [2, 'B'], [3, 'C'], [4, 'D'], [5, 'E'], [6, 'F'], [7, 'G'], [8, 'H'], [9, 'I'], [10, 'J']]\n",
    "\n",
    "np_array_2d = np.array(py_list_2d)            # reuses the python list to create a new array"
   ]
  },
  {
   "cell_type": "code",
   "execution_count": 24,
   "id": "ba06e4d7-3bbe-49b8-a7a3-9b7221bdcf8c",
   "metadata": {},
   "outputs": [
    {
     "name": "stdout",
     "output_type": "stream",
     "text": [
      "10\n",
      "10\n",
      "(10, 2)\n"
     ]
    }
   ],
   "source": [
    "print(len(py_list_2d))\n",
    "print(len(np_array_2d))\n",
    "print(np_array_2d.shape) \n",
    "# Note how shape is NOT a function, but is a property or attribute of the Numpy array"
   ]
  },
  {
   "attachments": {},
   "cell_type": "markdown",
   "id": "a8cd2ba7",
   "metadata": {},
   "source": [
    "## 2.2 Arrays are fussy about type"
   ]
  },
  {
   "cell_type": "code",
   "execution_count": 25,
   "id": "1dc7953a-78c1-483f-9d08-511814152603",
   "metadata": {},
   "outputs": [],
   "source": [
    "# Arrays are particular about single data types\n",
    "# lists are more accommodating\n",
    "py_list = [1, 1.5, 'A']\n",
    "np_array = np.array(py_list)"
   ]
  },
  {
   "cell_type": "code",
   "execution_count": 28,
   "id": "3df3d90d-23cd-499f-aeda-54dc64df59f0",
   "metadata": {},
   "outputs": [
    {
     "data": {
      "text/plain": [
       "array(['1', '1.5', 'A'], dtype='<U32')"
      ]
     },
     "execution_count": 28,
     "metadata": {},
     "output_type": "execute_result"
    }
   ],
   "source": [
    "py_list\n",
    "np_array \n",
    "# Note that we have to be careful for arrays (use of astypes() are required)"
   ]
  },
  {
   "attachments": {},
   "cell_type": "markdown",
   "id": "a735ea27",
   "metadata": {},
   "source": [
    "## 2.3 Adding a number"
   ]
  },
  {
   "cell_type": "code",
   "execution_count": 31,
   "id": "8c136d0b-ed92-470a-ac02-439977196369",
   "metadata": {},
   "outputs": [
    {
     "data": {
      "text/plain": [
       "array([11, 12, 13, 14, 15])"
      ]
     },
     "execution_count": 31,
     "metadata": {},
     "output_type": "execute_result"
    }
   ],
   "source": [
    "py_list = [1, 2, 3, 4, 5]\n",
    "np_array = np.array(py_list)\n",
    "np_array + 10 # Adds 10 to every entry\n",
    "# Note that this won't work for python\n",
    "# py_list + 10 # Try removing the first '#' in this row to convince yourself"
   ]
  },
  {
   "attachments": {},
   "cell_type": "markdown",
   "id": "e930553d",
   "metadata": {},
   "source": [
    "## 2.4 Adding another list"
   ]
  },
  {
   "cell_type": "code",
   "execution_count": 32,
   "id": "fd84a34d-300a-4a24-afbd-2a06ec1edab3",
   "metadata": {},
   "outputs": [],
   "source": [
    "py_list_1 = [1, 2, 3, 4, 5]\n",
    "py_list_2 = [10, 20, 30, 40, 50]\n",
    "\n",
    "np_array_1 = np.array(py_list_1)\n",
    "np_array_2 = np.array(py_list_2)"
   ]
  },
  {
   "cell_type": "code",
   "execution_count": 36,
   "id": "7c257d5a-b2c5-447d-9495-32a6130692d4",
   "metadata": {},
   "outputs": [
    {
     "name": "stdout",
     "output_type": "stream",
     "text": [
      "[1, 2, 3, 4, 5, 10, 20, 30, 40, 50]\n"
     ]
    },
    {
     "data": {
      "text/plain": [
       "array([11, 22, 33, 44, 55])"
      ]
     },
     "execution_count": 36,
     "metadata": {},
     "output_type": "execute_result"
    }
   ],
   "source": [
    "print(py_list_1 + py_list_2)\n",
    "np_array_1 + np_array_2\n",
    "# Note that adding lists appends them, while adding arrays is an element-wise"
   ]
  },
  {
   "attachments": {},
   "cell_type": "markdown",
   "id": "3788b724",
   "metadata": {},
   "source": [
    "## 2.5 Multiplying by a Number"
   ]
  },
  {
   "cell_type": "code",
   "execution_count": 38,
   "id": "b4037436-f263-4700-9841-acfce469cec2",
   "metadata": {},
   "outputs": [
    {
     "name": "stdout",
     "output_type": "stream",
     "text": [
      "[1, 2, 3, 4, 5, 1, 2, 3, 4, 5]\n"
     ]
    },
    {
     "data": {
      "text/plain": [
       "array([ 2,  4,  6,  8, 10])"
      ]
     },
     "execution_count": 38,
     "metadata": {},
     "output_type": "execute_result"
    }
   ],
   "source": [
    "py_list = [1, 2, 3, 4, 5]\n",
    "np_array = np.array(py_list)\n",
    "\n",
    "print(py_list*2)\n",
    "np_array*2\n",
    "# Note that multiplying lists makes them grow, but arrays multiplies its elements by the number."
   ]
  },
  {
   "attachments": {},
   "cell_type": "markdown",
   "id": "85bacd63",
   "metadata": {},
   "source": [
    "## 2.6 Squaring"
   ]
  },
  {
   "cell_type": "code",
   "execution_count": 39,
   "id": "e91766d1-8715-4d55-b894-69c90e9984cb",
   "metadata": {},
   "outputs": [
    {
     "data": {
      "text/plain": [
       "array([ 1,  4,  9, 16, 25])"
      ]
     },
     "execution_count": 39,
     "metadata": {},
     "output_type": "execute_result"
    }
   ],
   "source": [
    "py_list = [1, 2, 3, 4, 5]\n",
    "np_array = np.array(py_list)\n",
    "\n",
    "np_array**2\n",
    "# py_list**2 # will not work (try to remove '#' to convince yourself)"
   ]
  },
  {
   "attachments": {},
   "cell_type": "markdown",
   "id": "5bd03708",
   "metadata": {},
   "source": [
    "## 2.7 Asking questions"
   ]
  },
  {
   "cell_type": "code",
   "execution_count": 43,
   "id": "46d48b3d-531e-4eff-bcf8-69de5b16529f",
   "metadata": {},
   "outputs": [
    {
     "data": {
      "text/plain": [
       "False"
      ]
     },
     "execution_count": 43,
     "metadata": {},
     "output_type": "execute_result"
    }
   ],
   "source": [
    "py_list = [1, 2, 3, 4, 5]\n",
    "np_array = np.array(py_list)\n",
    "py_list == 3     # This works, but note that it checks if the variable is equal to 3"
   ]
  },
  {
   "cell_type": "code",
   "execution_count": 44,
   "id": "0276a668-7278-4863-961f-6d3065c2a923",
   "metadata": {},
   "outputs": [
    {
     "data": {
      "text/plain": [
       "array([False, False,  True, False, False])"
      ]
     },
     "execution_count": 44,
     "metadata": {},
     "output_type": "execute_result"
    }
   ],
   "source": [
    "np_array == 3    # This checks all indexes in the array\n",
    "#np_array > 3     # Note: This won't work (try removing the '#' in the line)"
   ]
  },
  {
   "attachments": {},
   "cell_type": "markdown",
   "id": "e45943c1",
   "metadata": {},
   "source": [
    "## 2.8 Mathematics"
   ]
  },
  {
   "cell_type": "code",
   "execution_count": 47,
   "id": "7b1c05f8-d751-47cb-a8ae-e0dd3e531057",
   "metadata": {},
   "outputs": [
    {
     "name": "stdout",
     "output_type": "stream",
     "text": [
      "15\n",
      "5\n",
      "1\n",
      "15\n",
      "5\n",
      "1\n",
      "3.0\n",
      "1.4142135623730951\n"
     ]
    }
   ],
   "source": [
    "py_list = [1, 2, 3, 4, 5]\n",
    "np_array = np.array(py_list)\n",
    "print(sum(py_list)) # sum() is a base python function\n",
    "print(max(py_list)) # max() is a base python function\n",
    "print(min(py_list)) # min() is a base python function\n",
    "# Note: py_list.sum() WILL NOT WORK\n",
    "print(np_array.sum())\n",
    "print(np_array.max())\n",
    "print(np_array.min())\n",
    "print(np_array.mean())\n",
    "print(np_array.std())  # Standard deviation"
   ]
  },
  {
   "attachments": {},
   "cell_type": "markdown",
   "id": "686fee1f",
   "metadata": {},
   "source": [
    "## Footnotes"
   ]
  }
 ],
 "metadata": {
  "kernelspec": {
   "display_name": "Python 3 (ipykernel)",
   "language": "python",
   "name": "python3"
  },
  "language_info": {
   "codemirror_mode": {
    "name": "ipython",
    "version": 3
   },
   "file_extension": ".py",
   "mimetype": "text/x-python",
   "name": "python",
   "nbconvert_exporter": "python",
   "pygments_lexer": "ipython3",
   "version": "3.12.3"
  },
  "toc": {
   "base_numbering": 1,
   "nav_menu": {},
   "number_sections": true,
   "sideBar": true,
   "skip_h1_title": false,
   "title_cell": "Table of Contents",
   "title_sidebar": "Contents",
   "toc_cell": false,
   "toc_position": {},
   "toc_section_display": true,
   "toc_window_display": false
  },
  "vscode": {
   "interpreter": {
    "hash": "31f2aee4e71d21fbe5cf8b01ff0e069b9275f58929596ceb00d14d90e3e16cd6"
   }
  }
 },
 "nbformat": 4,
 "nbformat_minor": 5
}
