{
 "cells": [
  {
   "attachments": {},
   "cell_type": "markdown",
   "id": "123456",
   "metadata": {},
   "source": [
    "<div style=\"text-align:left;font-size:2em\"><span style=\"font-weight:bolder;font-size:1.25em\">SP2273 | Learning Portfolio</span><br><br><span style=\"font-weight:bold;color:darkred\">Loops (Good) Exercises</span></div>"
   ]
  },
  {
   "cell_type": "markdown",
   "id": "bf86bf98-11da-4cb6-b3c6-5b77114ef4c5",
   "metadata": {},
   "source": [
    "### Exercise 1 (Make me an odd list)"
   ]
  },
  {
   "cell_type": "code",
   "execution_count": 20,
   "id": "4ffee4c1-e284-473e-98b9-62e779e3e1d2",
   "metadata": {},
   "outputs": [
    {
     "name": "stdout",
     "output_type": "stream",
     "text": [
      "1.13 μs ± 37.3 ns per loop (mean ± std. dev. of 7 runs, 1,000,000 loops each)\n"
     ]
    }
   ],
   "source": [
    "%%timeit \n",
    "numbers = []\n",
    "for i in range(10):\n",
    "    if i % 2 == 0:\n",
    "        continue\n",
    "    numbers.append(i ** 2)\n",
    "#print(numbers)"
   ]
  },
  {
   "cell_type": "markdown",
   "id": "42f1113a-e539-4683-be77-4370f0375f36",
   "metadata": {},
   "source": [
    "### Exercise 2 (Make me another odd list)"
   ]
  },
  {
   "cell_type": "code",
   "execution_count": 17,
   "id": "20cb7010-85c7-46b7-8eb5-b120bb1526e7",
   "metadata": {},
   "outputs": [
    {
     "name": "stdout",
     "output_type": "stream",
     "text": [
      "994 ns ± 30.5 ns per loop (mean ± std. dev. of 7 runs, 1,000,000 loops each)\n"
     ]
    }
   ],
   "source": [
    "%%timeit\n",
    "[number ** 2 for number in range(10) if number % 2 == 1]"
   ]
  },
  {
   "cell_type": "markdown",
   "id": "bc504386-aefd-4da5-8cdc-dd1bc0044f25",
   "metadata": {},
   "source": [
    "### Exercise 3 (Time me!)"
   ]
  },
  {
   "cell_type": "markdown",
   "id": "33344559-9b94-4062-90ed-7de182262a17",
   "metadata": {},
   "source": [
    "From exercise 1, the mean time taken per loop is 1.13 μs, with a standard deviation of 37.3ns out of the 7 x 1,000,000 loops done.  \n",
    "From exercise 2, the mean time taken per loop is 994 ns, with a standard deviation of 30.5ns out of the 7 x 1,000,000 loops done.  \n",
    "\n",
    "This implies that:  \n",
    "- Using list comprehension results in faster processing speeds for the same work done from growing lists (994 ns < 1.13 μs)\n",
    "- Furthermore, list comprehension yields more consistent speeds for the same work done as compared to growing lists (30.5 ns < 37.5 ns)"
   ]
  },
  {
   "cell_type": "markdown",
   "id": "5fe17934-6ea7-4393-a9b0-8e4b9765e400",
   "metadata": {},
   "source": [
    "### Exercise 4 (A problem of decay)"
   ]
  },
  {
   "cell_type": "code",
   "execution_count": 33,
   "id": "f0219ee2-acfe-4bb9-9eb2-6e08e6422c25",
   "metadata": {},
   "outputs": [
    {
     "name": "stdin",
     "output_type": "stream",
     "text": [
      "Initial Quantity of Sample is ___ units? 100\n"
     ]
    },
    {
     "name": "stdout",
     "output_type": "stream",
     "text": [
      "Half-life = 14 days\n"
     ]
    }
   ],
   "source": [
    "decay = int(input('Initial Quantity of Sample is ___ units?'))\n",
    "sample = decay * 0.5\n",
    "day = 0\n",
    "while True:\n",
    "    day += 1\n",
    "    decay *= 0.95\n",
    "    if decay <= sample: break\n",
    "print(f'Half-life = {day} days') "
   ]
  },
  {
   "cell_type": "markdown",
   "id": "49495521-5fc7-4235-8f3c-b6ce077a6fc4",
   "metadata": {},
   "source": [
    "### Exercise 5 (Changes in CO<sub>2</sub>)"
   ]
  },
  {
   "cell_type": "code",
   "execution_count": 34,
   "id": "1c02cf10-2d71-4f41-8381-2c51aefc2f6e",
   "metadata": {},
   "outputs": [],
   "source": [
    "co2_data = [\n",
    "    (2000, 369.55), (2001, 371.14), (2002, 373.28), \n",
    "    (2003, 375.80), (2004, 377.52), (2005, 379.80), \n",
    "    (2006, 381.90), (2007, 383.79), (2008, 385.60), \n",
    "    (2009, 387.43), (2010, 389.90), (2011, 391.65), \n",
    "    (2012, 393.85), (2013, 396.52), (2014, 398.65),\n",
    "    (2015, 400.83), (2016, 404.24), (2017, 406.55), \n",
    "    (2018, 408.52), (2019, 411.44), (2020, 414.24)\n",
    "]"
   ]
  },
  {
   "cell_type": "code",
   "execution_count": 69,
   "id": "50794c7c-bac2-40c6-8e59-452d3d5eb922",
   "metadata": {},
   "outputs": [
    {
     "name": "stdout",
     "output_type": "stream",
     "text": [
      "There is an increase in the level of CO2 in the atmosphere from 2015 to 2016 of 3.41 ppm\n"
     ]
    }
   ],
   "source": [
    "year1 = []\n",
    "year2 = []\n",
    "increase = []\n",
    "a = len(co2_data) \n",
    "for i in range(a):\n",
    "    if co2_data[i][1] - co2_data[i-1][1] < 3:\n",
    "        continue\n",
    "    year1.append(co2_data[i-1][0])\n",
    "    year2.append(co2_data[i][0])\n",
    "    increase.append(co2_data[i][1] - co2_data[i-1][1])\n",
    "n = len(year1)\n",
    "for j in range(n):\n",
    "    print(f'There is an increase in the level of CO2 in the atmosphere from {year1[j]} to {year2[j]} of {increase[j]:.2f} ppm')\n"
   ]
  }
 ],
 "metadata": {
  "kernelspec": {
   "display_name": "Python 3 (ipykernel)",
   "language": "python",
   "name": "python3"
  },
  "language_info": {
   "codemirror_mode": {
    "name": "ipython",
    "version": 3
   },
   "file_extension": ".py",
   "mimetype": "text/x-python",
   "name": "python",
   "nbconvert_exporter": "python",
   "pygments_lexer": "ipython3",
   "version": "3.12.3"
  },
  "toc": {
   "base_numbering": 1,
   "nav_menu": {},
   "number_sections": true,
   "sideBar": true,
   "skip_h1_title": false,
   "title_cell": "Table of Contents",
   "title_sidebar": "Contents",
   "toc_cell": false,
   "toc_position": {},
   "toc_section_display": true,
   "toc_window_display": false
  },
  "vscode": {
   "interpreter": {
    "hash": "31f2aee4e71d21fbe5cf8b01ff0e069b9275f58929596ceb00d14d90e3e16cd6"
   }
  }
 },
 "nbformat": 4,
 "nbformat_minor": 5
}
