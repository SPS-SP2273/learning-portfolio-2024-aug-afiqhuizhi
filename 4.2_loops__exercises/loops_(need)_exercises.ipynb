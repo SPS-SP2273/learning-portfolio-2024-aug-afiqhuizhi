{
 "cells": [
  {
   "attachments": {},
   "cell_type": "markdown",
   "id": "123456",
   "metadata": {},
   "source": [
    "<div style=\"text-align:left;font-size:2em\"><span style=\"font-weight:bolder;font-size:1.25em\">SP2273 | Learning Portfolio</span><br><br><span style=\"font-weight:bold;color:darkred\">Loops (Need) Exercises</span></div>"
   ]
  },
  {
   "cell_type": "markdown",
   "id": "b76bf6bd-e2bd-4136-9f55-52bce4b53cea",
   "metadata": {},
   "source": [
    "### Exercise 1 (Celsius to Farenheit)"
   ]
  },
  {
   "cell_type": "code",
   "execution_count": 4,
   "id": "4666d109-4660-42f3-9015-e204ce2e9067",
   "metadata": {},
   "outputs": [],
   "source": [
    "temperatures_celsius = [0, 5, 10, 15, 20, 25, 30, 35, 40, 45, 50]"
   ]
  },
  {
   "cell_type": "code",
   "execution_count": 5,
   "id": "eaa5cc30-e164-4c6b-b93d-e501fe5bda47",
   "metadata": {},
   "outputs": [
    {
     "name": "stdout",
     "output_type": "stream",
     "text": [
      "0 degrees celsius is 32.0 degree Farenheit!\n",
      "5 degrees celsius is 41.0 degree Farenheit!\n",
      "10 degrees celsius is 50.0 degree Farenheit!\n",
      "15 degrees celsius is 59.0 degree Farenheit!\n",
      "20 degrees celsius is 68.0 degree Farenheit!\n",
      "25 degrees celsius is 77.0 degree Farenheit!\n",
      "30 degrees celsius is 86.0 degree Farenheit!\n",
      "35 degrees celsius is 95.0 degree Farenheit!\n",
      "40 degrees celsius is 104.0 degree Farenheit!\n",
      "45 degrees celsius is 113.0 degree Farenheit!\n",
      "50 degrees celsius is 122.0 degree Farenheit!\n"
     ]
    }
   ],
   "source": [
    "import numpy as np\n",
    "c = np.array(temperatures_celsius)\n",
    "f = np.array((np.float64(c) * 9 / 5) + 32)     # To float C for math calculation\n",
    "for index, name in enumerate(c):               # arranging the array 'C' with an index (i.e. in numerical order)\n",
    "    Temp = f[index]                            # matching f with the specific C\n",
    "    print(f'{name} degrees celsius is {Temp} degree Farenheit!')"
   ]
  },
  {
   "cell_type": "markdown",
   "id": "59010aa6-3fbd-4b05-9401-9c33e4b1bacc",
   "metadata": {},
   "source": [
    "### Exercise 2 (multiplication table)"
   ]
  },
  {
   "cell_type": "code",
   "execution_count": 6,
   "id": "21d082ef-9009-4a26-8d04-4beeabff8ab7",
   "metadata": {},
   "outputs": [
    {
     "name": "stdout",
     "output_type": "stream",
     "text": [
      "A1\tA2\tA3\t\n",
      "\n",
      "B1\tB2\tB3\t\n",
      "\n",
      "C1\tC2\tC3\t\n",
      "\n"
     ]
    }
   ],
   "source": [
    "# Example\n",
    "for letter in ['A', 'B', 'C']:\n",
    "    for number in [1, 2, 3]:\n",
    "        print(f'{letter}{number}', end='\\t')\n",
    "    print('\\n')"
   ]
  },
  {
   "cell_type": "code",
   "execution_count": 7,
   "id": "d0d2aee5-9d1f-4f58-b1a8-014fb1a41192",
   "metadata": {},
   "outputs": [
    {
     "name": "stdout",
     "output_type": "stream",
     "text": [
      "1 : 1 2 3 4 5\t\n",
      "2 :  2  4  6  8 10\t\n",
      "3 :  3  6  9 12 15\t\n",
      "4 :  4  8 12 16 20\t\n",
      "5 :  5 10 15 20 25\t\n"
     ]
    }
   ],
   "source": [
    "# First Attempt\n",
    "horizontal_row = np.array([1, 2, 3, 4, 5])\n",
    "for count, vertical_1 in enumerate(horizontal_row, 1):       # enumerate to multiply the array with a number corresponding to the row.\n",
    "    result = str(vertical_1 * horizontal_row).strip('[]')     # turns it into string, and strips it of '[]'\n",
    "    print(f'{count} \\b : \\b {result}', end='\\t')\n",
    "    print( )\n",
    "\n",
    "# Question for mentor: Is there a way to fix this? (like to fix the spacing issue)"
   ]
  },
  {
   "cell_type": "code",
   "execution_count": 12,
   "id": "c3ed91a3-1667-4830-9341-9298aaced099",
   "metadata": {},
   "outputs": [
    {
     "name": "stdout",
     "output_type": "stream",
     "text": [
      "1 :\t1\t2\t3\t4\t5\t\n",
      "2 :\t2\t4\t6\t8\t10\t\n",
      "3 :\t3\t6\t9\t12\t15\t\n",
      "4 :\t4\t8\t12\t16\t20\t\n",
      "5 :\t5\t10\t15\t20\t25\t\n"
     ]
    }
   ],
   "source": [
    "# With TA help!\n",
    "for i in range(1, 6):\n",
    "    result = np.array([])                       \n",
    "    print(f'{i} :', end='\\t')                  # This prints out the 1st column\n",
    "    for j in range(1, 6):\n",
    "        result = np.append(result, i * j)      # Appends the i * j into the row\n",
    "        print(int(result[j-1]), end='\\t')      # j-1 is in the range!\n",
    "    print()"
   ]
  },
  {
   "cell_type": "code",
   "execution_count": 26,
   "id": "6365a018-0853-4a1b-8ce5-9531adc292e1",
   "metadata": {},
   "outputs": [
    {
     "name": "stdout",
     "output_type": "stream",
     "text": [
      "1 : 1   2   3   4   5   \n",
      "2 : 2   4   6   8   10  \n",
      "3 : 3   6   9   12  15  \n",
      "4 : 4   8   12  16  20  \n",
      "5 : 5   10  15  20  25  \n"
     ]
    }
   ],
   "source": [
    "# Mentor code:\n",
    "for i in range(1, 6):\n",
    "    print(i, ': ', end = '')                        #get rid of new line when printing i : \n",
    "    multiples = [str(i*t) for t in range(1,6)]      #form a list of string\n",
    "    for multiple in multiples:\n",
    "        print(f'{multiple:<4}', end = '')           #print in blocks of 4 left aligned\n",
    "    print()                                         #to start new line for second row"
   ]
  },
  {
   "cell_type": "code",
   "execution_count": 55,
   "id": "6751b5ad-99af-4cd5-b9e8-c599f2d69c18",
   "metadata": {},
   "outputs": [
    {
     "name": "stdout",
     "output_type": "stream",
     "text": [
      "1 : 1   2   3   4   5   \n",
      "2 : 2   4   6   8   10  \n",
      "3 : 3   6   9   12  15  \n",
      "4 : 4   8   12  16  20  \n",
      "5 : 5   10  15  20  25  \n"
     ]
    }
   ],
   "source": [
    "# Revised Code:\n",
    "for i in range(1, 6):\n",
    "    print(i, ': ', end = '')\n",
    "    for j in range(1, 6):\n",
    "        print(f'{i*j : <4}', end = '')\n",
    "    print()"
   ]
  },
  {
   "cell_type": "markdown",
   "id": "26c1d026-a4ba-4366-b783-9237815252eb",
   "metadata": {},
   "source": [
    "### Exercise 3 (Simulating a coin flip experiment)"
   ]
  },
  {
   "cell_type": "code",
   "execution_count": 86,
   "id": "9a23636e-6d51-43c9-a7bb-28df20eb3a72",
   "metadata": {},
   "outputs": [
    {
     "data": {
      "text/plain": [
       "array([0.3811495 , 0.44481243, 0.41312619, 0.7883073 , 0.10362433,\n",
       "       0.14002319, 0.66520477, 0.37723979, 0.53008427, 0.00613017])"
      ]
     },
     "execution_count": 86,
     "metadata": {},
     "output_type": "execute_result"
    }
   ],
   "source": [
    "# Example to simulate an experiment:\n",
    "np.random.rand(10)"
   ]
  },
  {
   "cell_type": "code",
   "execution_count": 186,
   "id": "96cb95c6-1e29-4026-9997-c0f77a08a0d4",
   "metadata": {},
   "outputs": [
    {
     "name": "stdout",
     "output_type": "stream",
     "text": [
      "Experiment 1: Number of Heads = 6\n",
      "Experiment 2: Number of Heads = 8\n",
      "Experiment 3: Number of Heads = 6\n",
      "Experiment 4: Number of Heads = 6\n",
      "Experiment 5: Number of Heads = 5\n",
      "Experiment 6: Number of Heads = 3\n",
      "Experiment 7: Number of Heads = 3\n",
      "Experiment 8: Number of Heads = 7\n",
      "Experiment 9: Number of Heads = 8\n",
      "Experiment 10: Number of Heads = 4\n"
     ]
    }
   ],
   "source": [
    "for count, i in enumerate([1, 2, 3, 4, 5, 6, 7, 8, 9, 10], 1):    # A loop denoting experiment number\n",
    "    results = np.array(np.random.rand(10))                        # To generate the random numbers\n",
    "    mask_head = results >= 0.5                                    # A mask to identify the results\n",
    "    head = sum(mask_head == 1)                                    # To sum up true values.\n",
    "    print(f'Experiment {count}: \\b', \"Number of Heads = \" f'{head}')   # To print everything out"
   ]
  }
 ],
 "metadata": {
  "kernelspec": {
   "display_name": "Python 3 (ipykernel)",
   "language": "python",
   "name": "python3"
  },
  "language_info": {
   "codemirror_mode": {
    "name": "ipython",
    "version": 3
   },
   "file_extension": ".py",
   "mimetype": "text/x-python",
   "name": "python",
   "nbconvert_exporter": "python",
   "pygments_lexer": "ipython3",
   "version": "3.12.3"
  },
  "toc": {
   "base_numbering": 1,
   "nav_menu": {},
   "number_sections": true,
   "sideBar": true,
   "skip_h1_title": false,
   "title_cell": "Table of Contents",
   "title_sidebar": "Contents",
   "toc_cell": false,
   "toc_position": {},
   "toc_section_display": true,
   "toc_window_display": false
  },
  "vscode": {
   "interpreter": {
    "hash": "31f2aee4e71d21fbe5cf8b01ff0e069b9275f58929596ceb00d14d90e3e16cd6"
   }
  }
 },
 "nbformat": 4,
 "nbformat_minor": 5
}
