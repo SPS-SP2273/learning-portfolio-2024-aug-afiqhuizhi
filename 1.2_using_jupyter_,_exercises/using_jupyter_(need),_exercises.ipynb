{
 "cells": [
  {
   "cell_type": "markdown",
   "id": "5f04aad0-0451-4fac-be91-70ddb8bfcced",
   "metadata": {},
   "source": [
    "# **Exercise 1**  "
   ]
  },
  {
   "cell_type": "markdown",
   "id": "57670a64-a474-4e3a-95b4-95595e8eaeab",
   "metadata": {
    "jp-MarkdownHeadingCollapsed": true
   },
   "source": [
    "  \n",
    "# **1. Quadratic Equation**  \n",
    "*****\n",
    "## **Introduction**  \n",
    "![](https://upload.wikimedia.org/wikipedia/commons/thumb/f/f8/Polynomialdeg2.svg/480px-Polynomialdeg2.svg.png?20190719125724)  \n",
    "*(Image from the [Wikipedia page on Quadratic equations](https://commons.wikimedia.org/wiki/File:Polynomialdeg2.svg#/media/File:Polynomialdeg2.svg))*\n",
    "\n",
    "The general form of a quadratic equation is:  \n",
    "$ax^2 + bx + c = 0$  \n",
    "\n",
    "## **Solutions**  \n",
    "Provided $a \\ne 0$, we can use an elementary algebraic method called [completing the square](https://en.wikipedia.org/wiki/Completing_the_square) to show that a quadratic equation has the following solution:  \n",
    "$x = \\dfrac{-b \\pm \\sqrt{b^2 -4ac}}{2a}$  \n",
    "\n",
    "## **Discriminant**  \n",
    "The quantity $\\Delta = b^2-4ac$ is called the **discriminant** of the equation and decides the nature of its solutions. The table below shows the various possibilities.  \n",
    "|**Discriminant**         |                      **Roots**      |\n",
    "|:------------------------|------------------------------------:|\n",
    "|$\\Delta = b^2 -4ac = 0$  |A single solution of $\\dfrac{-b}{2a}$|\n",
    "|$\\Delta = b^2 -4ac \\gt 0$|               Two distinct solutions|\n",
    "|$\\Delta = b^2 -4ac \\lt 0$| No real solutions; both are complex.|  \n",
    "******"
   ]
  },
  {
   "cell_type": "markdown",
   "id": "3b18a090-65d1-4a49-ae8f-1f8eb6cef78a",
   "metadata": {},
   "source": [
    "\n",
    "# **Exercise 2**  \n",
    "\n",
    "1. What is a Git **repository**?  \n",
    "Ans: The Git repository is where a mass of code is stored and where changes to said code can be checked and tapped on should something happens.\n",
    "\n",
    "2. Git keeps tracks of ___**the changes we make to the code**___ in the files in our repository.\n",
    "\n",
    "3. What is a **commit**?  \n",
    "Ans: Records down the changes made to a specific section of the code, which can be tracked in the future or to be used to check progress.\n",
    "\n",
    "4. What is a **push**?  \n",
    "Ans: A push is to share the changes that were made locally on the computer up to the Git repository cloud (online).\n",
    "\n",
    "5. What is a **pull**?  \n",
    "Ans: A pull is to save the changes that are made to the cloud via the Git repository to save it onto the computer locally.\n",
    "\n",
    "6. What is the difference between **GitHub** and **GitHub Desktop**?  \n",
    "Ans: GitHub is the site where the repository for all the code and past changes to code exists. GitHub Desktop is the tool used to commit, push and pull code to and from the repository to the computer.\n",
    "\n",
    "******"
   ]
  },
  {
   "cell_type": "markdown",
   "id": "9e49fdf0-6e10-410c-9f4a-1930e4c8cbed",
   "metadata": {},
   "source": [
    "# **Exercise 3**  \n",
    "\n",
    "Mean, $\\mu = \\frac{\\sum_{i=1}^{n}x_i}{n}$  \n",
    "\n",
    "Standard deviation (s.d.), $\\sigma = \\sqrt{\\frac{\\sum_{i=1}^{n}(x_i - \\mu)^2}{n}}$  \n",
    "\n",
    "Pearson correlation coefficient (r), $r = \\frac{\\sum_{i=1}^{n}(x_i - \\mu_X)(y_i - \\mu_Y)}{\\sqrt{\\sum_{i=1}^{n}(x_i - \\mu_X)^2 \\sum_{i=1}^{n}(y_i- \\mu_Y)^2}}$"
   ]
  },
  {
   "cell_type": "code",
   "execution_count": null,
   "id": "800bd2f3-9c97-47f3-ba7c-a8ae8f2c1cfb",
   "metadata": {},
   "outputs": [],
   "source": []
  }
 ],
 "metadata": {
  "kernelspec": {
   "display_name": "Python 3 (ipykernel)",
   "language": "python",
   "name": "python3"
  },
  "language_info": {
   "codemirror_mode": {
    "name": "ipython",
    "version": 3
   },
   "file_extension": ".py",
   "mimetype": "text/x-python",
   "name": "python",
   "nbconvert_exporter": "python",
   "pygments_lexer": "ipython3",
   "version": "3.12.3"
  }
 },
 "nbformat": 4,
 "nbformat_minor": 5
}
