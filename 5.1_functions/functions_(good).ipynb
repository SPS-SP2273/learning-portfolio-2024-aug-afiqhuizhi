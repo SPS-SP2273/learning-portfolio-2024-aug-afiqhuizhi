{
 "cells": [
  {
   "attachments": {},
   "cell_type": "markdown",
   "id": "123456",
   "metadata": {},
   "source": [
    "<div style=\"text-align:left;font-size:2em\"><span style=\"font-weight:bolder;font-size:1.25em\">SP2273 | Learning Portfolio</span><br><br><span style=\"font-weight:bold;color:darkred\">Functions (Good)</span></div>"
   ]
  },
  {
   "attachments": {},
   "cell_type": "markdown",
   "id": "a964d334",
   "metadata": {},
   "source": [
    "# What to expect in this chapter"
   ]
  },
  {
   "attachments": {},
   "cell_type": "markdown",
   "id": "0c27f5c7",
   "metadata": {},
   "source": [
    "# 1 Checks, balances, and contingencies"
   ]
  },
  {
   "attachments": {},
   "cell_type": "markdown",
   "id": "121465ed",
   "metadata": {},
   "source": [
    "## 1.1 assert"
   ]
  },
  {
   "cell_type": "markdown",
   "id": "a6071bd2-3cac-43f0-8d1a-c96e8f495af5",
   "metadata": {},
   "source": [
    "'assert' checks for condition and halt execution if necessary!"
   ]
  },
  {
   "cell_type": "code",
   "execution_count": 12,
   "id": "b0f9542a-2656-49ef-980a-f08e1bae1cff",
   "metadata": {},
   "outputs": [],
   "source": [
    "#Syntax is as follows: assert condition-to-check, message\n",
    "# Note that assert WILL STOP the flow if the condition fails:\n",
    "x = 10\n",
    "assert x >= 0, 'x is becoming negative!' \n",
    "# The program will run without a problem!\n",
    "y = -1\n",
    "#assert y >= 0, 'y is becoming negative!'    # (Undo the first # in this line to see the effects)\n",
    "# Note how this fails the conditions and hence will throw out an 'Assertion Error!'"
   ]
  },
  {
   "attachments": {},
   "cell_type": "markdown",
   "id": "5b0e0517",
   "metadata": {},
   "source": [
    "## 1.2 try-except"
   ]
  },
  {
   "cell_type": "markdown",
   "id": "8a42929f-6a95-46d4-b7ef-e3f7647261cf",
   "metadata": {},
   "source": [
    "try-except can be used to control what happens if u have a faulty input!!"
   ]
  },
  {
   "cell_type": "code",
   "execution_count": 8,
   "id": "dc7c0364-fc09-4298-9e08-4611cccaf1ca",
   "metadata": {},
   "outputs": [
    {
     "name": "stdin",
     "output_type": "stream",
     "text": [
      "Give me a number and I will calculate its square. 0\n"
     ]
    },
    {
     "name": "stdout",
     "output_type": "stream",
     "text": [
      "The square of 0 is 0!\n"
     ]
    }
   ],
   "source": [
    "number = input('Give me a number and I will calculate its square.')\n",
    "square = int(number) ** 2\n",
    "print(f'The square of {number} is {square}!')      # This program will only work if the input for number is an integer"
   ]
  },
  {
   "cell_type": "code",
   "execution_count": 13,
   "id": "5b8b1c49-3412-4f36-b281-d801cfdf08d7",
   "metadata": {},
   "outputs": [
    {
     "name": "stdin",
     "output_type": "stream",
     "text": [
      "Give me a number and i will calculate its square. o\n"
     ]
    },
    {
     "name": "stdout",
     "output_type": "stream",
     "text": [
      "Oh oh! I cannot square o!\n"
     ]
    }
   ],
   "source": [
    "# We can use try-exceot toget around the problem if number is not an integer!\n",
    "\n",
    "try:\n",
    "    number = input('Give me a number and i will calculate its square.')\n",
    "    square = int(number) ** 2\n",
    "    print(f'The square of {number} is {square}!')\n",
    "except: \n",
    "    print(f'Oh oh! I cannot square {number}!')"
   ]
  },
  {
   "attachments": {},
   "cell_type": "markdown",
   "id": "f7c72b16",
   "metadata": {},
   "source": [
    "## 1.3 A simple suggestion"
   ]
  },
  {
   "attachments": {},
   "cell_type": "markdown",
   "id": "38742081",
   "metadata": {},
   "source": [
    "# 2 Some loose ends"
   ]
  },
  {
   "attachments": {},
   "cell_type": "markdown",
   "id": "f81dd093",
   "metadata": {},
   "source": [
    "## 2.1 Positional, keyword and default arguments"
   ]
  },
  {
   "cell_type": "code",
   "execution_count": 17,
   "id": "8daf0bed-c005-4ef3-a957-084cf4403566",
   "metadata": {},
   "outputs": [],
   "source": [
    "def side_by_side(a, b, c = 42):\n",
    "    return f'{a: 2d} | {b: 2d} | {c: 2d}'"
   ]
  },
  {
   "cell_type": "code",
   "execution_count": 20,
   "id": "2c5032e9-8cf0-47ee-9273-a6f5f22512d2",
   "metadata": {},
   "outputs": [
    {
     "data": {
      "text/plain": [
       "' 1 |  2 |  3'"
      ]
     },
     "execution_count": 20,
     "metadata": {},
     "output_type": "execute_result"
    }
   ],
   "source": [
    "side_by_side(1, 2, 3)    # Changes the positional order of the arguments"
   ]
  },
  {
   "cell_type": "code",
   "execution_count": 22,
   "id": "ba2565e1-5ce0-4b6c-83e5-48ffc20f796f",
   "metadata": {},
   "outputs": [
    {
     "data": {
      "text/plain": [
       "' 2 |  1 |  3'"
      ]
     },
     "execution_count": 22,
     "metadata": {},
     "output_type": "execute_result"
    }
   ],
   "source": [
    "side_by_side(c = 3, b = 1, a = 2)    # Specify the keyword to assign the values to each of the 'a,b,c' (order doesn't matter)"
   ]
  },
  {
   "cell_type": "code",
   "execution_count": 25,
   "id": "5186985c-e903-494d-8473-a424a9a4e0a6",
   "metadata": {},
   "outputs": [
    {
     "data": {
      "text/plain": [
       "' 1 |  2 |  42'"
      ]
     },
     "execution_count": 25,
     "metadata": {},
     "output_type": "execute_result"
    }
   ],
   "source": [
    "side_by_side(1, b = 2)   # Default"
   ]
  },
  {
   "cell_type": "code",
   "execution_count": 26,
   "id": "3d2f1cb9-b832-44be-8f68-c49951df4ad8",
   "metadata": {},
   "outputs": [
    {
     "data": {
      "text/plain": [
       "' 1 |  2 |  42'"
      ]
     },
     "execution_count": 26,
     "metadata": {},
     "output_type": "execute_result"
    }
   ],
   "source": [
    "# Note the following:\n",
    "\n",
    "side_by_side(1, 2)           # Two positional, 1 default\n",
    "#' 1| 2| 42'\n",
    "side_by_side(1, 2, 3)        # Three positional\n",
    "# ' 1| 2| 3'\n",
    "side_by_side(a=1, b=2)       # Two keyword, 1 default\n",
    "# ' 1| 2| 42'\n",
    "side_by_side(c=3, b=1, a=2)  # Three keyword\n",
    "# ' 2| 1| 3'\n",
    "side_by_side(1, c=3, b=2)    # One positional, 2 keyword\n",
    "# ' 1| 2| 3'\n",
    "side_by_side(1, b=2)         # One positional, 1 keyword, 1 default\n",
    "# ' 1| 2| 42'"
   ]
  },
  {
   "cell_type": "code",
   "execution_count": 27,
   "id": "97ec52bd-b4af-46f6-aefc-90969037d543",
   "metadata": {},
   "outputs": [
    {
     "ename": "SyntaxError",
     "evalue": "positional argument follows keyword argument (2001208629.py, line 2)",
     "output_type": "error",
     "traceback": [
      "\u001b[1;36m  Cell \u001b[1;32mIn[27], line 2\u001b[1;36m\u001b[0m\n\u001b[1;33m    side_by_sode(a = 2, 1)   # This will not work\u001b[0m\n\u001b[1;37m                         ^\u001b[0m\n\u001b[1;31mSyntaxError\u001b[0m\u001b[1;31m:\u001b[0m positional argument follows keyword argument\n"
     ]
    }
   ],
   "source": [
    "# Note also that the following will not work as Python cannot unambiguously determine the position of 1.\n",
    "side_by_sode(a = 2, 1)   # This will not work\n",
    "# Keywords cannot be followed by positional arguments."
   ]
  },
  {
   "attachments": {},
   "cell_type": "markdown",
   "id": "2aebb545",
   "metadata": {},
   "source": [
    "## 2.2 Docstrings"
   ]
  },
  {
   "cell_type": "code",
   "execution_count": 28,
   "id": "8493eac5-d936-4921-8fbb-bc851e5764d1",
   "metadata": {},
   "outputs": [
    {
     "name": "stdout",
     "output_type": "stream",
     "text": [
      "Help on function side_by_side in module __main__:\n",
      "\n",
      "side_by_side(a, b, c=42)\n",
      "    A test function to demonstrate how\n",
      "    positional, keyword and default arguments\n",
      "    work.\n",
      "\n"
     ]
    }
   ],
   "source": [
    "def side_by_side(a, b, c=42):\n",
    "    '''\n",
    "    A test function to demonstrate how \n",
    "    positional, keyword and default arguments \n",
    "    work.\n",
    "    '''\n",
    "    return f'{a: 2d}|{b: 2d}|{c: 2d}'\n",
    "    \n",
    "# The docstring can return the comment when using 'help()'\n",
    "help(side_by_side)"
   ]
  },
  {
   "attachments": {},
   "cell_type": "markdown",
   "id": "cad1ce68",
   "metadata": {},
   "source": [
    "## 2.3 Function are first-class citizens"
   ]
  },
  {
   "cell_type": "code",
   "execution_count": 32,
   "id": "97384ce2-d0c4-48a1-835b-e48076bfd1e1",
   "metadata": {},
   "outputs": [
    {
     "data": {
      "text/plain": [
       "np.float64(-1.0)"
      ]
     },
     "execution_count": 32,
     "metadata": {},
     "output_type": "execute_result"
    }
   ],
   "source": [
    "# Functions can be considered as variables!!\n",
    "import numpy as np\n",
    "def my_function(angle, trig_function):\n",
    "    return trig_function(angle)\n",
    "\n",
    "# Using the function:\n",
    "my_function(np.pi/2, np.sin)\n",
    "## 1.0\n",
    "my_function(np.pi/2, np.cos)\n",
    "## 6.123233995736766e-17\n",
    "my_function(np.pi/2, lambda x: np.cos(2 * x))\n",
    "## -1.0\n",
    "\n",
    "# Note: when we pass a function as an argument, we do not include the parenthesis()."
   ]
  },
  {
   "attachments": {},
   "cell_type": "markdown",
   "id": "7223324c",
   "metadata": {},
   "source": [
    "## 2.4 More about unpacking"
   ]
  },
  {
   "cell_type": "code",
   "execution_count": 33,
   "id": "48c5c3f3-0b45-4047-867d-315bc3cdb4e4",
   "metadata": {},
   "outputs": [
    {
     "data": {
      "text/plain": [
       "(1, 2, 3)"
      ]
     },
     "execution_count": 33,
     "metadata": {},
     "output_type": "execute_result"
    }
   ],
   "source": [
    "# unpacking can make extracting info from lists and arrays a breeze.\n",
    "\n",
    "x, y, z = [1, 2, 3]\n",
    "x, y, z"
   ]
  },
  {
   "cell_type": "code",
   "execution_count": 34,
   "id": "e59a9574-6ed5-48f4-875d-19290954fb3f",
   "metadata": {},
   "outputs": [
    {
     "data": {
      "text/plain": [
       "(np.int64(1), np.int64(2), np.int64(3))"
      ]
     },
     "execution_count": 34,
     "metadata": {},
     "output_type": "execute_result"
    }
   ],
   "source": [
    "x, y, z = np.array([1, 2, 3])\n",
    "x, y, z"
   ]
  },
  {
   "cell_type": "code",
   "execution_count": 35,
   "id": "f28a8142-2972-43a0-bb6e-3f330c3cf936",
   "metadata": {},
   "outputs": [
    {
     "data": {
      "text/plain": [
       "(np.int64(1), [np.int64(2), np.int64(3), np.int64(4)], np.int64(5))"
      ]
     },
     "execution_count": 35,
     "metadata": {},
     "output_type": "execute_result"
    }
   ],
   "source": [
    "x, *y, z = np.array([1, 2, 3, 4, 5])\n",
    "x, y, z"
   ]
  },
  {
   "cell_type": "code",
   "execution_count": 37,
   "id": "0de4fd52-ee87-4381-beb9-7bb373eca2e7",
   "metadata": {},
   "outputs": [
    {
     "data": {
      "text/plain": [
       "(1, 5)"
      ]
     },
     "execution_count": 37,
     "metadata": {},
     "output_type": "execute_result"
    }
   ],
   "source": [
    "x, *_, y = [1, 2, 3, 4, 5]\n",
    "x, y"
   ]
  }
 ],
 "metadata": {
  "kernelspec": {
   "display_name": "Python 3 (ipykernel)",
   "language": "python",
   "name": "python3"
  },
  "language_info": {
   "codemirror_mode": {
    "name": "ipython",
    "version": 3
   },
   "file_extension": ".py",
   "mimetype": "text/x-python",
   "name": "python",
   "nbconvert_exporter": "python",
   "pygments_lexer": "ipython3",
   "version": "3.12.3"
  },
  "toc": {
   "base_numbering": 1,
   "nav_menu": {},
   "number_sections": true,
   "sideBar": true,
   "skip_h1_title": false,
   "title_cell": "Table of Contents",
   "title_sidebar": "Contents",
   "toc_cell": false,
   "toc_position": {},
   "toc_section_display": true,
   "toc_window_display": false
  },
  "vscode": {
   "interpreter": {
    "hash": "31f2aee4e71d21fbe5cf8b01ff0e069b9275f58929596ceb00d14d90e3e16cd6"
   }
  }
 },
 "nbformat": 4,
 "nbformat_minor": 5
}
