{
 "cells": [
  {
   "attachments": {},
   "cell_type": "markdown",
   "id": "123456",
   "metadata": {},
   "source": [
    "<div style=\"text-align:left;font-size:2em\"><span style=\"font-weight:bolder;font-size:1.25em\">SP2273 | Learning Portfolio</span><br><br><span style=\"font-weight:bold;color:darkred\">Functions (Need)</span></div>"
   ]
  },
  {
   "attachments": {},
   "cell_type": "markdown",
   "id": "79957f53",
   "metadata": {},
   "source": [
    "# What to expect in this chapter"
   ]
  },
  {
   "cell_type": "markdown",
   "id": "afd85a85-cb95-4fbd-92e1-1b92a9b33a2f",
   "metadata": {},
   "source": [
    "this chapter is about defining our functions! Apart from using the standard python functions, we can also define new functions for ourselves to use so we don't need to keep copying and pasting."
   ]
  },
  {
   "attachments": {},
   "cell_type": "markdown",
   "id": "fcceecff",
   "metadata": {},
   "source": [
    "# 1 User-defined functions"
   ]
  },
  {
   "cell_type": "markdown",
   "id": "c1e51633-51c9-4c30-a128-5f78b562b39d",
   "metadata": {},
   "source": [
    "Note: print() is an example of internal functions in python. We can make our own functions, named VS anonymous."
   ]
  },
  {
   "attachments": {},
   "cell_type": "markdown",
   "id": "4c259caf",
   "metadata": {},
   "source": [
    "## 1.1 Named Functions"
   ]
  },
  {
   "attachments": {},
   "cell_type": "markdown",
   "id": "c62ed610",
   "metadata": {},
   "source": [
    "### Named functions that return"
   ]
  },
  {
   "cell_type": "markdown",
   "id": "83aaf6f6-32b0-43fc-8aef-87af6b57fa67",
   "metadata": {},
   "source": [
    "use of def to define a fucntion!"
   ]
  },
  {
   "cell_type": "code",
   "execution_count": 2,
   "id": "f369b702",
   "metadata": {},
   "outputs": [],
   "source": [
    "def greeting(name):\n",
    "    if name == 'Batman': \n",
    "        return 'Hello Batman! So nice to meet you!'\n",
    "    else: \n",
    "        return f'Hello {name}!'"
   ]
  },
  {
   "cell_type": "code",
   "execution_count": 3,
   "id": "32efc8de-6c73-4491-99a2-41e551490a8b",
   "metadata": {},
   "outputs": [],
   "source": [
    "# We can see this works as a function 'greeting()' with the input 'name'"
   ]
  },
  {
   "cell_type": "code",
   "execution_count": 5,
   "id": "3d2d31b5-4bd8-4cd6-b08d-08f8301f4b06",
   "metadata": {},
   "outputs": [
    {
     "data": {
      "text/plain": [
       "'Hello Super Man!'"
      ]
     },
     "execution_count": 5,
     "metadata": {},
     "output_type": "execute_result"
    }
   ],
   "source": [
    "greeting('Super Man')"
   ]
  },
  {
   "cell_type": "code",
   "execution_count": 6,
   "id": "97106162-f3c4-4341-baf0-9290e5dac62f",
   "metadata": {},
   "outputs": [
    {
     "data": {
      "text/plain": [
       "'Hello Super Man!'"
      ]
     },
     "execution_count": 6,
     "metadata": {},
     "output_type": "execute_result"
    }
   ],
   "source": [
    "greeting(name = 'Super Man')"
   ]
  },
  {
   "cell_type": "markdown",
   "id": "0a8b1acc-b1d8-45cc-b4e4-ca74c423242c",
   "metadata": {},
   "source": [
    "Note that the following also works, building off of the above:"
   ]
  },
  {
   "cell_type": "code",
   "execution_count": 8,
   "id": "e513cc5f-ae24-4d54-a7e2-f0bcc2fda2a4",
   "metadata": {},
   "outputs": [
    {
     "name": "stdout",
     "output_type": "stream",
     "text": [
      "Hello Super Man!\n"
     ]
    }
   ],
   "source": [
    "greet = greeting(name = 'Super Man')\n",
    "print(greet)"
   ]
  },
  {
   "cell_type": "code",
   "execution_count": 11,
   "id": "adb3f011-352a-4175-96c1-76f85ff9a0f6",
   "metadata": {},
   "outputs": [
    {
     "name": "stdout",
     "output_type": "stream",
     "text": [
      "Hello Super Man!\n"
     ]
    }
   ],
   "source": [
    "print(greeting(name = 'Super Man'))"
   ]
  },
  {
   "cell_type": "markdown",
   "id": "ab73d8e1-554c-44c7-b8d9-d9bd221bf062",
   "metadata": {},
   "source": [
    "Note you can use 'return' only within a function!"
   ]
  },
  {
   "cell_type": "code",
   "execution_count": 31,
   "id": "ed0f4304-f0a0-4f9c-9b4b-77e9680080ae",
   "metadata": {},
   "outputs": [],
   "source": [
    "import numpy as np\n",
    "def basic_stats(numbers):\n",
    "    np_numbers = np.array(numbers)\n",
    "    my_min = np_numbers.min()\n",
    "    my_max = np_numbers.max()\n",
    "    my_mean = np_numbers.mean()\n",
    "    return my_min, my_max, my_mean"
   ]
  },
  {
   "cell_type": "code",
   "execution_count": 27,
   "id": "c2bf7fa5-85ee-458f-8d84-b4f476b791ef",
   "metadata": {},
   "outputs": [
    {
     "data": {
      "text/plain": [
       "(np.int64(5), np.int64(1), np.float64(3.0))"
      ]
     },
     "execution_count": 27,
     "metadata": {},
     "output_type": "execute_result"
    }
   ],
   "source": [
    "basic_stats([1, 2, 3, 4, 5])"
   ]
  },
  {
   "cell_type": "code",
   "execution_count": 35,
   "id": "3282444c-7876-4a6e-8fb2-e3d7b4606fb0",
   "metadata": {},
   "outputs": [],
   "source": [
    "# Another way to do things!\n",
    "list_min, list_max, list_mean = basic_stats([1, 2, 3, 4, 5])"
   ]
  },
  {
   "cell_type": "code",
   "execution_count": 36,
   "id": "0d12b403-38eb-46cd-b39c-7979a69a5759",
   "metadata": {},
   "outputs": [
    {
     "data": {
      "text/plain": [
       "np.int64(5)"
      ]
     },
     "execution_count": 36,
     "metadata": {},
     "output_type": "execute_result"
    }
   ],
   "source": [
    "list_max"
   ]
  },
  {
   "attachments": {},
   "cell_type": "markdown",
   "id": "010f6bf5",
   "metadata": {},
   "source": [
    "### Named functions that don’t return"
   ]
  },
  {
   "attachments": {},
   "cell_type": "markdown",
   "id": "1b1a61f7",
   "metadata": {},
   "source": [
    "## 1.2 Anonymous functions"
   ]
  },
  {
   "cell_type": "code",
   "execution_count": 33,
   "id": "56643161",
   "metadata": {},
   "outputs": [],
   "source": [
    "# Lambda/Anonymous function is \n",
    "my_short_function = lambda name: f'Hello {name}!'"
   ]
  },
  {
   "cell_type": "code",
   "execution_count": 37,
   "id": "948a64b5-b7b1-4c97-8e26-3cf4d4fe2eed",
   "metadata": {},
   "outputs": [
    {
     "data": {
      "text/plain": [
       "'Hello Super Man!'"
      ]
     },
     "execution_count": 37,
     "metadata": {},
     "output_type": "execute_result"
    }
   ],
   "source": [
    "my_short_function(name = 'Super Man')\n",
    "# The function will always return the value of the last statement."
   ]
  },
  {
   "cell_type": "code",
   "execution_count": 38,
   "id": "aa9669dc-ccf4-43d4-a14b-506ca156ca45",
   "metadata": {},
   "outputs": [],
   "source": [
    "# Things get very anonymous below!\n",
    "numbers=[[9, 0, -10],\n",
    "         [8, 1, -11],\n",
    "         [7, 2, -12],\n",
    "         [6, 3, -13],\n",
    "         [5, 4, -14],\n",
    "         [4, 5, -15],\n",
    "         [3, 6, -16],\n",
    "         [2, 7, -17],\n",
    "         [1, 8, -18],\n",
    "         [0, 9, -19]]"
   ]
  },
  {
   "cell_type": "code",
   "execution_count": 43,
   "id": "b1835d39-8d4a-45cf-a6b5-659648ac7f12",
   "metadata": {},
   "outputs": [
    {
     "data": {
      "text/plain": [
       "[[0, 9, -19],\n",
       " [1, 8, -18],\n",
       " [2, 7, -17],\n",
       " [3, 6, -16],\n",
       " [4, 5, -15],\n",
       " [5, 4, -14],\n",
       " [6, 3, -13],\n",
       " [7, 2, -12],\n",
       " [8, 1, -11],\n",
       " [9, 0, -10]]"
      ]
     },
     "execution_count": 43,
     "metadata": {},
     "output_type": "execute_result"
    }
   ],
   "source": [
    "sorted(numbers)   # sorts based on first elements!"
   ]
  },
  {
   "cell_type": "code",
   "execution_count": 41,
   "id": "8f94f79d-c23b-4d72-abe1-6ffb4ce2c512",
   "metadata": {},
   "outputs": [
    {
     "data": {
      "text/plain": [
       "[[9, 0, -10],\n",
       " [8, 1, -11],\n",
       " [7, 2, -12],\n",
       " [6, 3, -13],\n",
       " [5, 4, -14],\n",
       " [4, 5, -15],\n",
       " [3, 6, -16],\n",
       " [2, 7, -17],\n",
       " [1, 8, -18],\n",
       " [0, 9, -19]]"
      ]
     },
     "execution_count": 41,
     "metadata": {},
     "output_type": "execute_result"
    }
   ],
   "source": [
    "sorted(numbers, key = lambda x: x[1])  # Sorts according to the 2nd element!"
   ]
  },
  {
   "cell_type": "code",
   "execution_count": 42,
   "id": "2956f836-5409-4242-96f4-a1c133926d76",
   "metadata": {},
   "outputs": [
    {
     "data": {
      "text/plain": [
       "[[0, 9, -19],\n",
       " [1, 8, -18],\n",
       " [2, 7, -17],\n",
       " [3, 6, -16],\n",
       " [4, 5, -15],\n",
       " [5, 4, -14],\n",
       " [6, 3, -13],\n",
       " [7, 2, -12],\n",
       " [8, 1, -11],\n",
       " [9, 0, -10]]"
      ]
     },
     "execution_count": 42,
     "metadata": {},
     "output_type": "execute_result"
    }
   ],
   "source": [
    "sorted(numbers, key = lambda x: sum(x))"
   ]
  },
  {
   "attachments": {},
   "cell_type": "markdown",
   "id": "d45e78dd",
   "metadata": {},
   "source": [
    "## 1.3 Optional arguments"
   ]
  },
  {
   "cell_type": "code",
   "execution_count": 44,
   "id": "13a9a19a-ab2f-4c65-ae3f-1ed607c6450b",
   "metadata": {},
   "outputs": [],
   "source": [
    "def greeting(name = 'no one'):\n",
    "    if name == 'Batman': \n",
    "        return 'Hello Batman! So nice to meet you!'\n",
    "    else: \n",
    "        return f'Hello {name}!'"
   ]
  },
  {
   "cell_type": "code",
   "execution_count": 46,
   "id": "8424ade8-cd52-4c78-98a5-d9250db48da3",
   "metadata": {},
   "outputs": [
    {
     "data": {
      "text/plain": [
       "'Hello no one!'"
      ]
     },
     "execution_count": 46,
     "metadata": {},
     "output_type": "execute_result"
    }
   ],
   "source": [
    "greeting()    # This function now works without an argument and will not throw out an error"
   ]
  },
  {
   "cell_type": "code",
   "execution_count": 48,
   "id": "b3fe173f-255e-4d4d-9e48-3808c4412037",
   "metadata": {},
   "outputs": [
    {
     "data": {
      "text/plain": [
       "\u001b[1;31mSignature:\u001b[0m \u001b[0mprint\u001b[0m\u001b[1;33m(\u001b[0m\u001b[1;33m*\u001b[0m\u001b[0margs\u001b[0m\u001b[1;33m,\u001b[0m \u001b[0msep\u001b[0m\u001b[1;33m=\u001b[0m\u001b[1;34m' '\u001b[0m\u001b[1;33m,\u001b[0m \u001b[0mend\u001b[0m\u001b[1;33m=\u001b[0m\u001b[1;34m'\\n'\u001b[0m\u001b[1;33m,\u001b[0m \u001b[0mfile\u001b[0m\u001b[1;33m=\u001b[0m\u001b[1;32mNone\u001b[0m\u001b[1;33m,\u001b[0m \u001b[0mflush\u001b[0m\u001b[1;33m=\u001b[0m\u001b[1;32mFalse\u001b[0m\u001b[1;33m)\u001b[0m\u001b[1;33m\u001b[0m\u001b[1;33m\u001b[0m\u001b[0m\n",
       "\u001b[1;31mDocstring:\u001b[0m\n",
       "Prints the values to a stream, or to sys.stdout by default.\n",
       "\n",
       "sep\n",
       "  string inserted between values, default a space.\n",
       "end\n",
       "  string appended after the last value, default a newline.\n",
       "file\n",
       "  a file-like object (stream); defaults to the current sys.stdout.\n",
       "flush\n",
       "  whether to forcibly flush the stream.\n",
       "\u001b[1;31mType:\u001b[0m      builtin_function_or_method"
      ]
     },
     "metadata": {},
     "output_type": "display_data"
    }
   ],
   "source": [
    "# Another example:\n",
    "?print"
   ]
  },
  {
   "cell_type": "code",
   "execution_count": 50,
   "id": "a0ccf4b4-33fd-4a29-98ab-fa0ca9210fa7",
   "metadata": {},
   "outputs": [
    {
     "name": "stdout",
     "output_type": "stream",
     "text": [
      "I am Batman!\n",
      "I---am---Batman!\n"
     ]
    }
   ],
   "source": [
    "# Using default values:\n",
    "print('I', 'am', 'Batman!')\n",
    "# To specify an optional argument:\n",
    "print('I', 'am', 'Batman!', sep = '---')"
   ]
  },
  {
   "attachments": {},
   "cell_type": "markdown",
   "id": "a6d394e9",
   "metadata": {},
   "source": [
    "## 1.4 The importance of functions?"
   ]
  },
  {
   "attachments": {},
   "cell_type": "markdown",
   "id": "9671ab2c",
   "metadata": {},
   "source": [
    "### An argument for functions"
   ]
  },
  {
   "cell_type": "code",
   "execution_count": null,
   "id": "6ae27c22",
   "metadata": {},
   "outputs": [],
   "source": [
    "\n",
    "# Your code here\n"
   ]
  },
  {
   "attachments": {},
   "cell_type": "markdown",
   "id": "0e66f7de",
   "metadata": {},
   "source": [
    "### A word of caution"
   ]
  },
  {
   "cell_type": "code",
   "execution_count": null,
   "id": "0e6ccb2b",
   "metadata": {},
   "outputs": [],
   "source": [
    "\n",
    "# Your code here\n"
   ]
  }
 ],
 "metadata": {
  "kernelspec": {
   "display_name": "Python 3 (ipykernel)",
   "language": "python",
   "name": "python3"
  },
  "language_info": {
   "codemirror_mode": {
    "name": "ipython",
    "version": 3
   },
   "file_extension": ".py",
   "mimetype": "text/x-python",
   "name": "python",
   "nbconvert_exporter": "python",
   "pygments_lexer": "ipython3",
   "version": "3.12.3"
  },
  "toc": {
   "base_numbering": 1,
   "nav_menu": {},
   "number_sections": true,
   "sideBar": true,
   "skip_h1_title": false,
   "title_cell": "Table of Contents",
   "title_sidebar": "Contents",
   "toc_cell": false,
   "toc_position": {},
   "toc_section_display": true,
   "toc_window_display": false
  },
  "vscode": {
   "interpreter": {
    "hash": "31f2aee4e71d21fbe5cf8b01ff0e069b9275f58929596ceb00d14d90e3e16cd6"
   }
  }
 },
 "nbformat": 4,
 "nbformat_minor": 5
}
