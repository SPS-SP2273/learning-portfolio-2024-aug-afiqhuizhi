{
 "cells": [
  {
   "attachments": {},
   "cell_type": "markdown",
   "id": "123456",
   "metadata": {},
   "source": [
    "<div style=\"text-align:left;font-size:2em\"><span style=\"font-weight:bolder;font-size:1.25em\">SP2273 | Learning Portfolio</span><br><br><span style=\"font-weight:bold;color:darkred\">Functions (Need) Exercises</span></div>"
   ]
  },
  {
   "cell_type": "markdown",
   "id": "7498e442-2413-42b2-a2d3-a94e5b1ee235",
   "metadata": {},
   "source": [
    "### Exercise 1 (Do you know why?)"
   ]
  },
  {
   "cell_type": "code",
   "execution_count": 2,
   "id": "22478501-f5ab-48f4-af44-95ca250bc8cc",
   "metadata": {},
   "outputs": [],
   "source": [
    "# The following works as expected despite not having an else statement. Use a markdown cell to explain why.\n",
    "def greeting(name):\n",
    "    if name == 'Batman':\n",
    "        return 'Hello Batman! So, nice to meet you!'\n",
    "    return f'Hello {name}!'"
   ]
  },
  {
   "cell_type": "markdown",
   "id": "50f353f4-e46d-422f-9857-3cedda5383dc",
   "metadata": {},
   "source": [
    "Ans: The 'if' statement makes it so that it checks if the variable 'name' is equal to 'Batman'. \n",
    "- If Batman is present it will return: 'Hello Batman! So nice to meet you'\n",
    "- If Batman is not present, it will skip this line and move on the next statement 'return 'f'hello {name}'!\n",
    "The else statement is not required because it is an implied 'else'."
   ]
  },
  {
   "cell_type": "code",
   "execution_count": 5,
   "id": "de3ecb36-fbfa-499a-92df-ba22eb11c752",
   "metadata": {},
   "outputs": [
    {
     "ename": "NameError",
     "evalue": "name 'Batman' is not defined",
     "output_type": "error",
     "traceback": [
      "\u001b[1;31m---------------------------------------------------------------------------\u001b[0m",
      "\u001b[1;31mNameError\u001b[0m                                 Traceback (most recent call last)",
      "Cell \u001b[1;32mIn[5], line 2\u001b[0m\n\u001b[0;32m      1\u001b[0m \u001b[38;5;66;03m# From Mentor:\u001b[39;00m\n\u001b[1;32m----> 2\u001b[0m greeting(\u001b[43mBatman\u001b[49m)\n",
      "\u001b[1;31mNameError\u001b[0m: name 'Batman' is not defined"
     ]
    }
   ],
   "source": [
    "# From Mentor:\n",
    "greeting(Batman)"
   ]
  },
  {
   "cell_type": "markdown",
   "id": "ade52885-005d-4c60-9a8d-763bac17d081",
   "metadata": {},
   "source": [
    "Revised answer:\n",
    "- The return in the 4th line will produce an output if name is equal to 'Batman' and stop the reading of code, which works as per normal.\n",
    "- Should name != 'Batman', the code will then skip the if and head directly for the 5th line.\n",
    "- The return in line 5 will work without needing an else, as Python will jump out of the function to return a value without needing the 'else' function.\n",
    "- The above hinges on the input for name being a string, and not a variable (e.g. 'Batman' vs Batman), which would require the defining of the variable Batman as shown above."
   ]
  },
  {
   "cell_type": "markdown",
   "id": "8d5de79c-a639-452e-9ec0-34125e8fa85a",
   "metadata": {},
   "source": [
    "re-revised answer:\n",
    "- the return will print for the when name == 'Batman': 'Hello Batman! So, nice to meet you!'\n",
    "- when the condition name == 'Batman' is not met, the function will jump out of the if to read the next line of code:\n",
    "- which will print 'Hello \"name\"!', where name is the variable inputted for name."
   ]
  },
  {
   "cell_type": "markdown",
   "id": "bf8b2008-a734-41dc-b697-5730e69a9840",
   "metadata": {},
   "source": [
    "### Exercise 2 (Chubby or not)"
   ]
  },
  {
   "cell_type": "code",
   "execution_count": 60,
   "id": "38267438-7695-4a36-b2a6-c4b08d23ba0b",
   "metadata": {},
   "outputs": [
    {
     "name": "stdout",
     "output_type": "stream",
     "text": [
      "To calculate BMI, type in the following: calculate_BMI(weight, height), weight in kilograms, height in metres\n"
     ]
    }
   ],
   "source": [
    "print('To calculate BMI, type in the following: calculate_BMI(weight, height), weight in kilograms, height in metres')\n",
    "def calculate_bmi(weight, height):\n",
    "    try:\n",
    "        w = float(weight)\n",
    "        h = float(height)\n",
    "        BMI = w / (h ** 2)\n",
    "        if BMI < 18.5:\n",
    "            print(f'your BMI is {BMI:.2f}, and you are in the Underweight category')\n",
    "        elif 18.5 <= BMI < 25:\n",
    "            print(f'your BMI is {BMI:.2f}, and you are in the Normal Weight category')\n",
    "        elif 25 <= BMI < 30:\n",
    "            print(f'your BMI is {BMI:.2f}, and you are in the Overweight Weight category')\n",
    "        else:\n",
    "            print(f'your BMI is {BMI:.2f}, and you are in the Obese Weight category')\n",
    "    except ValueError: \n",
    "        print('Please input numerical numbers for height and weight')\n",
    "    except ZeroDivisionError:\n",
    "        print('Please do not put 0kg as your weight')"
   ]
  },
  {
   "cell_type": "code",
   "execution_count": 61,
   "id": "c52a7543-9296-456e-a5b6-a8b27402aa37",
   "metadata": {},
   "outputs": [
    {
     "name": "stdout",
     "output_type": "stream",
     "text": [
      "Please do not put 0kg as your weight\n"
     ]
    }
   ],
   "source": [
    "calculate_bmi(7, 0)"
   ]
  },
  {
   "cell_type": "markdown",
   "id": "588f92db-2111-492f-bef9-7acb0c4f6766",
   "metadata": {},
   "source": [
    "### Exercise 3 (Factorials)"
   ]
  },
  {
   "cell_type": "code",
   "execution_count": 155,
   "id": "7e3a91f4-c912-4da4-914c-50c14a43dee8",
   "metadata": {},
   "outputs": [
    {
     "name": "stdout",
     "output_type": "stream",
     "text": [
      "To calculate factorial, type in the following: 'factorial(n)' where n denotes a non-negative integer.\n"
     ]
    }
   ],
   "source": [
    "print('To calculate factorial, type in the following: \\'factorial(n)\\' where n denotes a non-negative integer.')\n",
    "def factorial(n):\n",
    "    if type(n) == int:\n",
    "        if n < 0:\n",
    "            print('Please try again with a non-negative integer')\n",
    "        elif n == 0:\n",
    "            print('The factorial of 0 is 1')\n",
    "        else:\n",
    "            for i in range(1, n):\n",
    "                n = n * i\n",
    "            print(n)\n",
    "    else:\n",
    "        print('Please try again with a non-negative integer')"
   ]
  },
  {
   "cell_type": "code",
   "execution_count": 160,
   "id": "73f9a2a0-fe45-4c35-b0c9-554c53789965",
   "metadata": {},
   "outputs": [
    {
     "name": "stdout",
     "output_type": "stream",
     "text": [
      "120\n"
     ]
    }
   ],
   "source": [
    "factorial(5)"
   ]
  }
 ],
 "metadata": {
  "kernelspec": {
   "display_name": "Python 3 (ipykernel)",
   "language": "python",
   "name": "python3"
  },
  "language_info": {
   "codemirror_mode": {
    "name": "ipython",
    "version": 3
   },
   "file_extension": ".py",
   "mimetype": "text/x-python",
   "name": "python",
   "nbconvert_exporter": "python",
   "pygments_lexer": "ipython3",
   "version": "3.12.3"
  },
  "toc": {
   "base_numbering": 1,
   "nav_menu": {},
   "number_sections": true,
   "sideBar": true,
   "skip_h1_title": false,
   "title_cell": "Table of Contents",
   "title_sidebar": "Contents",
   "toc_cell": false,
   "toc_position": {},
   "toc_section_display": true,
   "toc_window_display": false
  },
  "vscode": {
   "interpreter": {
    "hash": "31f2aee4e71d21fbe5cf8b01ff0e069b9275f58929596ceb00d14d90e3e16cd6"
   }
  }
 },
 "nbformat": 4,
 "nbformat_minor": 5
}
