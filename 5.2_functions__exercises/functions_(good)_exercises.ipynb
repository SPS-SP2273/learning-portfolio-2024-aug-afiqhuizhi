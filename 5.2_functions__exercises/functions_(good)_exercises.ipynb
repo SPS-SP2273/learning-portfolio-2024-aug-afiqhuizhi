{
 "cells": [
  {
   "attachments": {},
   "cell_type": "markdown",
   "id": "123456",
   "metadata": {},
   "source": [
    "<div style=\"text-align:left;font-size:2em\"><span style=\"font-weight:bolder;font-size:1.25em\">SP2273 | Learning Portfolio</span><br><br><span style=\"font-weight:bold;color:darkred\">Functions (Good) Exercises</span></div>"
   ]
  },
  {
   "cell_type": "markdown",
   "id": "01d2a7bc-6198-4095-bbf3-6cc4530ff19f",
   "metadata": {},
   "source": [
    "### Exercise 1 (Celsius to Farenheit or Kelvin)"
   ]
  },
  {
   "cell_type": "code",
   "execution_count": 44,
   "id": "7b04dfa2-d8b0-4d9c-97de-6fe2033e85c8",
   "metadata": {},
   "outputs": [
    {
     "name": "stdout",
     "output_type": "stream",
     "text": [
      "To convert temperatures from celsius to either farenheit or kelvin, type the following: 'convert_celsius(temperature in celsius, 'Kelvin' OR 'Farenheit')' \n"
     ]
    }
   ],
   "source": [
    "print('To convert temperatures from celsius to either farenheit or kelvin, type the following: \\'convert_celsius(temperature in celsius, \\'Kelvin\\' OR \\'Farenheit\\')\\' ')\n",
    "def convert_celsius(temperature_celsius, target_scale):   \n",
    "    if target_scale == 'Kelvin':\n",
    "        tk = temperature_celsius + 273.15\n",
    "        print(f'{temperature_celsius} degree celsius is {tk} degree kelvin')\n",
    "    else:\n",
    "        tf = temperature_celsius * (9 / 5) + 32\n",
    "        print(f'{temperature_celsius} degree celsius is {tf} degree farenheit')"
   ]
  },
  {
   "cell_type": "code",
   "execution_count": 45,
   "id": "e28850fe-5b93-4c16-8708-c2ba3512240f",
   "metadata": {},
   "outputs": [
    {
     "name": "stdout",
     "output_type": "stream",
     "text": [
      "9 degree celsius is 48.2 degree farenheit\n"
     ]
    }
   ],
   "source": [
    "convert_celsius(9, 'Kelv')"
   ]
  },
  {
   "cell_type": "code",
   "execution_count": 31,
   "id": "846d16f7-ab35-4f29-8301-c14636ac830b",
   "metadata": {},
   "outputs": [],
   "source": [
    "# Revised code: 'convert_celsius(Temp. in celsius, 'Kelvin')'\n",
    "def convert_celsius(temperature_celsius, target_scale = 'Farenheit'):    # Sets the default to be farenheit\n",
    "    if target_scale == 'Kelvin':\n",
    "        tk = temperature_celsius + 273.15\n",
    "        return(f'{temperature_celsius} degree C is {tk} degree Kelvin')\n",
    "    tf = temperature_celsius * (9 / 5) + 32\n",
    "    return(f'{temperature_celsius} degree celsius is {tf} degree Farenheit')"
   ]
  },
  {
   "cell_type": "code",
   "execution_count": 34,
   "id": "d645b3d5-46f7-4452-af13-0545d54e0e02",
   "metadata": {},
   "outputs": [
    {
     "data": {
      "text/plain": [
       "'100 degree C is 373.15 degree Kelvin'"
      ]
     },
     "execution_count": 34,
     "metadata": {},
     "output_type": "execute_result"
    }
   ],
   "source": [
    "convert_celsius(100, 'Kelvin')"
   ]
  },
  {
   "cell_type": "markdown",
   "id": "ff6cb39d-1ffe-44a6-a65a-121ed94bbf07",
   "metadata": {},
   "source": [
    "### Exercise 2 (Fahrenheit to Celsius or Kelvin) "
   ]
  },
  {
   "cell_type": "code",
   "execution_count": 21,
   "id": "9a04401e-be4f-4250-85b2-f51af9895c36",
   "metadata": {},
   "outputs": [
    {
     "name": "stdout",
     "output_type": "stream",
     "text": [
      "To convert temperatures from farenheit to celsius or kelvin, type the following: 'convert_farenheit(temperature in farenheit, 'Kelvin' OR 'Celsius')' \n"
     ]
    }
   ],
   "source": [
    "print('To convert temperatures from farenheit to celsius or kelvin, type the following: \\'convert_farenheit(temperature in farenheit, \\'Kelvin\\' OR \\'Celsius\\')\\' ')\n",
    "def convert_farenheit(temperature_farenheit, target_scale1):   \n",
    "    if target_scale1 == 'Kelvin':\n",
    "        tk1 = (5/9) * (temperature_farenheit - 32) + 273.15\n",
    "        print(f'{temperature_farenheit} degree farenheit is {tk1} degree kelvin')\n",
    "    else:\n",
    "        tc1 = (5/9) * (temperature_farenheit - 32)\n",
    "        print(f'{temperature_farenheit} degree farenheit is {tc1} degree celsius')"
   ]
  },
  {
   "cell_type": "code",
   "execution_count": 22,
   "id": "daebef01-e2c4-45d0-8df1-ff597afe4cfb",
   "metadata": {},
   "outputs": [
    {
     "name": "stdout",
     "output_type": "stream",
     "text": [
      "900 degree farenheit is 482.22222222222223 degree celsius\n"
     ]
    }
   ],
   "source": [
    "convert_farenheit(900, 'Kelvn')"
   ]
  },
  {
   "cell_type": "code",
   "execution_count": 35,
   "id": "ad0c29eb-a596-4549-8057-505d31bb1ffb",
   "metadata": {},
   "outputs": [],
   "source": [
    "#Revised code:\n",
    "def convert_farenheit(temperature_farenheit, target_scale1 = 'Celsius'):\n",
    "    if target_scale1 == 'Kelvin':\n",
    "        tk1 = (5/9) * (temperature_farenheit - 32) + 273.15\n",
    "        return(f'{temperature_farenheit} degree farenheit is {tk1} degree kelvin')\n",
    "    tc1 = (5/9) * (temperature_farenheit - 32)\n",
    "    return(f'{temperature_farenheit} degree farenheit is {tc1} degree celsius')"
   ]
  },
  {
   "cell_type": "code",
   "execution_count": 39,
   "id": "3b2cf72a-de03-4eae-b928-c904b22a8a3a",
   "metadata": {},
   "outputs": [
    {
     "data": {
      "text/plain": [
       "'900 degree farenheit is 482.22222222222223 degree celsius'"
      ]
     },
     "execution_count": 39,
     "metadata": {},
     "output_type": "execute_result"
    }
   ],
   "source": [
    "convert_farenheit(900)"
   ]
  },
  {
   "cell_type": "markdown",
   "id": "f0f50bf5-3452-4528-911a-7dbf0375f574",
   "metadata": {},
   "source": [
    "### Exercise 3 (General Temperature Conversion)"
   ]
  },
  {
   "cell_type": "code",
   "execution_count": 41,
   "id": "f0ebad36-831f-463d-85ac-ee8ee5e3fd9d",
   "metadata": {},
   "outputs": [
    {
     "name": "stdout",
     "output_type": "stream",
     "text": [
      "To convert temperatures, type the following: 'convert_temperature(temperature, initial scale: 'Celsius' OR 'Farenheit' OR 'Kelvin', final scale: 'Celsius' OR 'Farenheit' OR 'Kelvin'\n",
      "Note: this will default to kelvin if inappropriate inputs are given.\n"
     ]
    }
   ],
   "source": [
    "print('To convert temperatures, type the following: \\'convert_temperature(temperature, initial scale: \\'Celsius\\' OR \\'Farenheit\\' OR \\'Kelvin\\', final scale: \\'Celsius\\' OR \\'Farenheit\\' OR \\'Kelvin\\'')\n",
    "print('Note: this will default to kelvin if inappropriate inputs are given.')"
   ]
  },
  {
   "cell_type": "code",
   "execution_count": 42,
   "id": "5c12c3b8-eb68-4eff-9a9e-79e1351d069e",
   "metadata": {},
   "outputs": [],
   "source": [
    "def convert_temperature(temperature, source_scale, target_scale2):\n",
    "    if source_scale == 'Celsius':\n",
    "        convert_celsius(temperature, target_scale2)\n",
    "        if target_scale2 == 'Celsius':\n",
    "            print(f'{temperature} degree celsius is {temperature} degree celsius')\n",
    "    elif source_scale == 'Farenheit':\n",
    "        convert_farenheit(temperature, target_scale2)\n",
    "        if target_scale2 == 'Farenheit':\n",
    "            print(f'{temperature} degree Farenheit is {temperature} degree Farenheit')\n",
    "    else:\n",
    "        if target_scale2 == 'Celsius':\n",
    "            tc2 = temperature - 273.15\n",
    "            print(f'{temperature} degree Kelvin is {tc2} degree Celsius')\n",
    "        elif target_scale2 == 'Farenheit':\n",
    "            tf2 = 1.8 * (temperature - 273.15) + 32\n",
    "            print(f'{temperature} degree Kelvin is {tf2} degree Farenheit')\n",
    "        else: \n",
    "            print(f'{temperature} degree Kelvin is {temperature} degree Kelvin')"
   ]
  },
  {
   "cell_type": "code",
   "execution_count": 43,
   "id": "9f0342b6-dab2-4d43-b229-b233d8f9d766",
   "metadata": {},
   "outputs": [
    {
     "name": "stdout",
     "output_type": "stream",
     "text": [
      "9000 degree Kelvin is 9000 degree Kelvin\n"
     ]
    }
   ],
   "source": [
    "convert_temperature(9000, 'Farenhit', 'Kevin')"
   ]
  }
 ],
 "metadata": {
  "kernelspec": {
   "display_name": "Python 3 (ipykernel)",
   "language": "python",
   "name": "python3"
  },
  "language_info": {
   "codemirror_mode": {
    "name": "ipython",
    "version": 3
   },
   "file_extension": ".py",
   "mimetype": "text/x-python",
   "name": "python",
   "nbconvert_exporter": "python",
   "pygments_lexer": "ipython3",
   "version": "3.12.3"
  },
  "toc": {
   "base_numbering": 1,
   "nav_menu": {},
   "number_sections": true,
   "sideBar": true,
   "skip_h1_title": false,
   "title_cell": "Table of Contents",
   "title_sidebar": "Contents",
   "toc_cell": false,
   "toc_position": {},
   "toc_section_display": true,
   "toc_window_display": false
  },
  "vscode": {
   "interpreter": {
    "hash": "31f2aee4e71d21fbe5cf8b01ff0e069b9275f58929596ceb00d14d90e3e16cd6"
   }
  }
 },
 "nbformat": 4,
 "nbformat_minor": 5
}
