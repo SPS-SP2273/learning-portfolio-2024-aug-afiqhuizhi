{
 "cells": [
  {
   "attachments": {},
   "cell_type": "markdown",
   "id": "123456",
   "metadata": {},
   "source": [
    "<div style=\"text-align:left;font-size:2em\"><span style=\"font-weight:bolder;font-size:1.25em\">SP2273 | Learning Portfolio</span><br><br><span style=\"font-weight:bold;color:darkred\">Using Jupyter (Good)</span></div>"
   ]
  },
  {
   "attachments": {},
   "cell_type": "markdown",
   "id": "26b45f6d",
   "metadata": {},
   "source": [
    "# What to expect in this chapter"
   ]
  },
  {
   "attachments": {},
   "cell_type": "markdown",
   "id": "5384c313",
   "metadata": {},
   "source": [
    "# 1 Some tips and tricks"
   ]
  },
  {
   "attachments": {},
   "cell_type": "markdown",
   "id": "962f9bef",
   "metadata": {},
   "source": [
    "## 1.1 Keyboard Shortcuts"
   ]
  },
  {
   "attachments": {},
   "cell_type": "markdown",
   "id": "aced8d39",
   "metadata": {},
   "source": [
    "### Things to note"
   ]
  },
  {
   "cell_type": "code",
   "execution_count": null,
   "id": "bcc36c49",
   "metadata": {},
   "outputs": [],
   "source": [
    "\n",
    "# Your code here\n"
   ]
  },
  {
   "attachments": {},
   "cell_type": "markdown",
   "id": "2cb815e1",
   "metadata": {},
   "source": [
    "## 1.2 Shell commands"
   ]
  },
  {
   "cell_type": "markdown",
   "id": "b813df01-ad52-4ea8-9d8f-30755e8cb682",
   "metadata": {},
   "source": [
    "!cd to print current working directory\n"
   ]
  },
  {
   "cell_type": "code",
   "execution_count": 3,
   "id": "da4a9440-e39f-440e-989e-02a411f77526",
   "metadata": {},
   "outputs": [
    {
     "name": "stdout",
     "output_type": "stream",
     "text": [
      "C:\\Users\\User\\Desktop\\NUS_NOTES\\SP2273\\learning-portfolio-2024-aug-afiqhuizhi\\1.1_using_jupyter\n"
     ]
    }
   ],
   "source": [
    "!cd"
   ]
  },
  {
   "cell_type": "markdown",
   "id": "9bfcce56-0217-4e08-a697-4149089f27e6",
   "metadata": {},
   "source": [
    "!dir to list directory"
   ]
  },
  {
   "cell_type": "code",
   "execution_count": 2,
   "id": "4781d70d-5c5f-410c-987f-5fa8c91c5747",
   "metadata": {},
   "outputs": [
    {
     "name": "stdout",
     "output_type": "stream",
     "text": [
      " Volume in drive C is Windows\n",
      " Volume Serial Number is 1AE2-9510\n",
      "\n",
      " Directory of C:\\Users\\User\\Desktop\\NUS_NOTES\\SP2273\\learning-portfolio-2024-aug-afiqhuizhi\\1.1_using_jupyter\n",
      "\n",
      "15/08/2024  13:23    <DIR>          .\n",
      "13/08/2024  08:54    <DIR>          ..\n",
      "15/08/2024  13:23    <DIR>          .ipynb_checkpoints\n",
      "15/08/2024  13:23             5,204 using-jupyter_need.ipynb\n",
      "15/08/2024  12:31             4,215 using_jupyter-need(exercises).ipynb\n",
      "15/08/2024  13:19             3,037 using_jupyter_(good).ipynb\n",
      "15/08/2024  13:23             8,059 using_jupyter_(need).ipynb\n",
      "               4 File(s)         20,515 bytes\n",
      "               3 Dir(s)  734,694,039,552 bytes free\n"
     ]
    }
   ],
   "source": [
    "!dir"
   ]
  },
  {
   "attachments": {},
   "cell_type": "markdown",
   "id": "e143cb61",
   "metadata": {},
   "source": [
    "# 2 Install Notebook 7"
   ]
  },
  {
   "attachments": {},
   "cell_type": "markdown",
   "id": "6782449e",
   "metadata": {
    "jp-MarkdownHeadingCollapsed": true
   },
   "source": [
    "# Jupyter Extensions"
   ]
  },
  {
   "attachments": {},
   "cell_type": "markdown",
   "id": "94e1e917",
   "metadata": {},
   "source": [
    "## Installing the extensions"
   ]
  },
  {
   "attachments": {},
   "cell_type": "markdown",
   "id": "af085f3e",
   "metadata": {},
   "source": [
    "## Enabling the extensions"
   ]
  },
  {
   "attachments": {},
   "cell_type": "markdown",
   "id": "911f33e8",
   "metadata": {},
   "source": [
    "# 3 Shell Magic"
   ]
  },
  {
   "cell_type": "markdown",
   "id": "ee8d52c0-9481-447a-a525-f9919cf0e608",
   "metadata": {},
   "source": [
    "Use of %timeit x=10 applies to single line\n",
    "vs %%timeit which applies to whole cell"
   ]
  },
  {
   "cell_type": "code",
   "execution_count": 2,
   "id": "ed90fb96-2a26-488d-89e8-aebd06280acb",
   "metadata": {},
   "outputs": [
    {
     "name": "stdout",
     "output_type": "stream",
     "text": [
      "45.5 ns ± 11.4 ns per loop (mean ± std. dev. of 7 runs, 10,000,000 loops each)\n"
     ]
    }
   ],
   "source": [
    "%%timeit\n",
    "x=10\n",
    "y=10\n",
    "z=10"
   ]
  },
  {
   "attachments": {},
   "cell_type": "markdown",
   "id": "49f6169c",
   "metadata": {},
   "source": [
    "# 4 The Kernel"
   ]
  }
 ],
 "metadata": {
  "kernelspec": {
   "display_name": "Python 3 (ipykernel)",
   "language": "python",
   "name": "python3"
  },
  "language_info": {
   "codemirror_mode": {
    "name": "ipython",
    "version": 3
   },
   "file_extension": ".py",
   "mimetype": "text/x-python",
   "name": "python",
   "nbconvert_exporter": "python",
   "pygments_lexer": "ipython3",
   "version": "3.12.3"
  },
  "toc": {
   "base_numbering": 1,
   "nav_menu": {},
   "number_sections": true,
   "sideBar": true,
   "skip_h1_title": false,
   "title_cell": "Table of Contents",
   "title_sidebar": "Contents",
   "toc_cell": false,
   "toc_position": {},
   "toc_section_display": true,
   "toc_window_display": false
  },
  "vscode": {
   "interpreter": {
    "hash": "31f2aee4e71d21fbe5cf8b01ff0e069b9275f58929596ceb00d14d90e3e16cd6"
   }
  }
 },
 "nbformat": 4,
 "nbformat_minor": 5
}
