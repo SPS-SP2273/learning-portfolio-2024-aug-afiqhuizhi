{
 "cells": [
  {
   "cell_type": "code",
   "execution_count": 1,
   "id": "a01a4a70-eb26-469a-b9e4-eda3e1594c23",
   "metadata": {
    "scrolled": true
   },
   "outputs": [
    {
     "name": "stdout",
     "output_type": "stream",
     "text": [
      "Hello World!\n"
     ]
    }
   ],
   "source": [
    "print('Hello World!')"
   ]
  },
  {
   "cell_type": "markdown",
   "id": "1ff2d446-eb6d-462d-9e3f-f3668d2e762b",
   "metadata": {},
   "source": [
    "The ships hung in the sky in much the same way that bricks don’t"
   ]
  },
  {
   "cell_type": "markdown",
   "id": "dad6489f-81dd-40bf-add3-3e83fab509a8",
   "metadata": {},
   "source": [
    "The ships *hung in the sky* in much the same way that **bricks don't.**<sup>1</sup><sub>QUOTE</sub>"
   ]
  },
  {
   "cell_type": "markdown",
   "id": "fe16a9bf-cb2c-4764-bd03-ce16a245dc77",
   "metadata": {},
   "source": [
    "`print('Hello World')`"
   ]
  },
  {
   "cell_type": "markdown",
   "id": "7de3797d-0dba-4708-bb08-2506460872d4",
   "metadata": {},
   "source": [
    "```python\n",
    "print(`Hello World!`)\n",
    "```"
   ]
  },
  {
   "cell_type": "markdown",
   "id": "09074ff1-1195-402e-85de-32eedcbe7da1",
   "metadata": {},
   "source": [
    "`print('Hello World')`"
   ]
  },
  {
   "cell_type": "markdown",
   "id": "0e357c74-bf4c-4744-867b-58d5b30382d8",
   "metadata": {},
   "source": [
    "```python\n",
    "print('Hello World!')\n",
    "```"
   ]
  },
  {
   "cell_type": "markdown",
   "id": "c1e36e39-3c9d-49e7-bd36-5a8d7f34c599",
   "metadata": {},
   "source": [
    "[SP2273 Website](https://sps.nus.edu.sg/sp2273)\n"
   ]
  },
  {
   "cell_type": "markdown",
   "id": "dfb598f1-a0e8-4959-af76-9cd24ebcc098",
   "metadata": {},
   "source": [
    "![](https://nus.edu.sg/images/default-source/base/logo.png)"
   ]
  },
  {
   "cell_type": "markdown",
   "id": "8b94b83d-051f-4d19-9491-31d852f39e3c",
   "metadata": {},
   "source": [
    "|A   |B   |C   |\n",
    "|:---|:--:|---:|\n",
    "|a1  |b1  |c1  |\n",
    "|a2  |b2  |c2  |\n",
    "|a1  |b3  |c3  |"
   ]
  },
  {
   "cell_type": "markdown",
   "id": "a8654262-c1fe-4b3d-876f-91152f2c60e0",
   "metadata": {},
   "source": [
    "1. Master Yoda\n",
    "2. Luke Skywalker\n",
    "3. Anakin Skywalker"
   ]
  },
  {
   "cell_type": "markdown",
   "id": "47a85024-026f-4f1e-9d36-ed4b426efd0d",
   "metadata": {},
   "source": [
    "- Master Yoda\n",
    "- Luke Skywalker\n",
    "- Anakin Skywalker"
   ]
  },
  {
   "cell_type": "markdown",
   "id": "b62326b6-5e33-4419-9e79-6b44f095b5a7",
   "metadata": {},
   "source": [
    "1. Master Yoda\n",
    "   1. Was a Jedi\n",
    "   1. Was a bit green\n",
    "1. Luke Skywalker\n",
    "   1. Was a Jedi\n",
    "   1. Is Anakin's son.\n",
    "1. Anakin Skywalker\n",
    "   1. Was a Jedi then became a baddie\n",
    "   1. Is famous for saying 'Luke, I am your father'"
   ]
  },
  {
   "cell_type": "markdown",
   "id": "aa97b153-ed77-496b-ae73-920ced2ab671",
   "metadata": {},
   "source": [
    "1. Master Yoda\n",
    "   - Was a Jedi\n",
    "   - Was a bit green\n",
    "1. Luke Skywalker\n",
    "   - Was a Jedi\n",
    "   - Is Anakin's son.\n",
    "1. Anakin Skywalker\n",
    "   - Was a Jedi then, became a baddie\n",
    "   - Is famous for saying, _'Luke, I am your father'_."
   ]
  },
  {
   "cell_type": "markdown",
   "id": "bc834493-1499-4a1c-80a8-27ae142510c9",
   "metadata": {},
   "source": [
    "$\\sqrt{b^2-4ac}$"
   ]
  },
  {
   "cell_type": "markdown",
   "id": "a397ae31-3235-4171-9e0b-57e19879a50a",
   "metadata": {},
   "source": [
    "$$\n",
    "x = \\dfrac{-b \\pm \\sqrt{b^2-4ac}}{2a}\n",
    "$$"
   ]
  },
  {
   "cell_type": "markdown",
   "id": "0b17da52-bedb-49c2-ab2f-ef4d4bd8c1e8",
   "metadata": {},
   "source": [
    "| | Input| Rendered|\n",
    "|:--|:--:|---:|\n",
    "|Fraction|\\dfrac{y}{x}|$\\dfrac{y}{x}$  |\n",
    "|Subscript|x_{a}|$x_{a}$|\n",
    "|Power|x^{(y+z)}|$x^{(y+z)}$  |\n",
    "|Square Root|\\sqrt{(a+b+c)|$\\sqrt{(a+b+c)}$  |\n",
    "|Sum|\\sum_{n=1}^{n=\\infty}x_n|$\\sum_{n=1}^{n=\\infty}x_n$  |\n",
    "|Integral|\\int_{x=1}^{x=\\infty}f(x)dx|$\\int_{x=1}^{x=\\infty}f(x)dx$ | \n",
    "|Not Equal|a \\ne b|$a \\ne b$|\n",
    "|Less Than|a \\lt b|$a \\lt b$  |\n",
    "|Greater than|a \\gt b|$a \\gt b$  |\n",
    "|Greater than or equal to|a \\geq b|$a \\geq b$  |\n",
    "|Less than or equal to|a \\leq b|$a \\leq b$  |\n",
    "|Greek letters|\\alpha, \\beta, \\gamma, \\pi, \\lambda|$\\alpha, \\beta, \\gamma, \\pi, \\lambda$  |\n",
    "\n",
    "Note: rmb the $ before and after"
   ]
  },
  {
   "cell_type": "code",
   "execution_count": null,
   "id": "d8c5cb0f-dd18-4fd1-8342-b05cb2e42d51",
   "metadata": {},
   "outputs": [],
   "source": []
  }
 ],
 "metadata": {
  "kernelspec": {
   "display_name": "Python 3 (ipykernel)",
   "language": "python",
   "name": "python3"
  },
  "language_info": {
   "codemirror_mode": {
    "name": "ipython",
    "version": 3
   },
   "file_extension": ".py",
   "mimetype": "text/x-python",
   "name": "python",
   "nbconvert_exporter": "python",
   "pygments_lexer": "ipython3",
   "version": "3.12.3"
  }
 },
 "nbformat": 4,
 "nbformat_minor": 5
}
