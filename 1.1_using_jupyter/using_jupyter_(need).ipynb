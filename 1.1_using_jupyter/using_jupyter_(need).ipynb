{
 "cells": [
  {
   "attachments": {},
   "cell_type": "markdown",
   "id": "8ebeb599",
   "metadata": {},
   "source": [
    "# What to expect in this chapter"
   ]
  },
  {
   "attachments": {},
   "cell_type": "markdown",
   "id": "fff8cb8a",
   "metadata": {},
   "source": [
    "# 1 Getting ready"
   ]
  },
  {
   "attachments": {},
   "cell_type": "markdown",
   "id": "e9643b81",
   "metadata": {},
   "source": [
    "# 2 Getting started with Jupyter"
   ]
  },
  {
   "attachments": {},
   "cell_type": "markdown",
   "id": "0995ee55",
   "metadata": {},
   "source": [
    "## 2.1 It is all about running cells"
   ]
  },
  {
   "attachments": {},
   "cell_type": "markdown",
   "id": "a950c797",
   "metadata": {},
   "source": [
    "## 2.2 A traditional start"
   ]
  },
  {
   "cell_type": "code",
   "execution_count": 6,
   "id": "11cd3cd2-af95-4005-8adb-477c8ff528d1",
   "metadata": {},
   "outputs": [
    {
     "name": "stdout",
     "output_type": "stream",
     "text": [
      "Hello World!\n"
     ]
    }
   ],
   "source": [
    "print('Hello World!')"
   ]
  },
  {
   "attachments": {},
   "cell_type": "markdown",
   "id": "7d81e20d",
   "metadata": {},
   "source": [
    "# 3 All about Markdown"
   ]
  },
  {
   "attachments": {},
   "cell_type": "markdown",
   "id": "ac9ec6ef",
   "metadata": {},
   "source": [
    "## 3.1 Rendering Markdown cells"
   ]
  },
  {
   "cell_type": "markdown",
   "id": "5e6623f7-bf6b-4867-9b7e-481510f0018e",
   "metadata": {},
   "source": [
    "\n",
    "(Use ESC + M for markdown)\n",
    "\n",
    "The ships hung in the sky in much the same way that bricks don’t."
   ]
  },
  {
   "attachments": {},
   "cell_type": "markdown",
   "id": "93bcdb5d",
   "metadata": {},
   "source": [
    "## 3.2 Some basic syntax"
   ]
  },
  {
   "cell_type": "markdown",
   "id": "c3b169d7-de94-4ffe-b695-9a49268ccfc7",
   "metadata": {},
   "source": [
    "The ships *hung in the sky* in much the same way that **bricks don't.**<sup>1</sup><sub>QUOTE</sub>"
   ]
  },
  {
   "attachments": {},
   "cell_type": "markdown",
   "id": "b9b99422",
   "metadata": {},
   "source": [
    "## 3.3 Headings"
   ]
  },
  {
   "cell_type": "markdown",
   "id": "5ed9f2ea-5146-4391-8d33-1389b9c4c012",
   "metadata": {},
   "source": [
    "'#' The largest heading\n",
    "'##' The second-largest heading\n",
    "'###' The third-largest heading\n",
    "'####' The smallest heading"
   ]
  },
  {
   "attachments": {},
   "cell_type": "markdown",
   "id": "daf54720",
   "metadata": {},
   "source": [
    "## 3.4 Displaying Code"
   ]
  },
  {
   "cell_type": "markdown",
   "id": "4719dae0-c30c-492d-a090-6905d6dac708",
   "metadata": {},
   "source": [
    "  \n",
    "  \n",
    " \n",
    "```python  \n",
    "print('Hello World!')  \n",
    "```  "
   ]
  },
  {
   "attachments": {},
   "cell_type": "markdown",
   "id": "580a405b",
   "metadata": {},
   "source": [
    "## 3.5 Links"
   ]
  },
  {
   "cell_type": "markdown",
   "id": "67a4887d-1b69-4749-81a7-3254ea2c61fa",
   "metadata": {},
   "source": [
    "Enclose text in [] with link in ()\n",
    "E.g. [SP2273 Website].(https://sps.nus.edu.sg/sp2273) (remove the period)\n",
    "\n",
    "Rendered: [SP2273 Website](https://sps.nus.edu.sg/sp2273)"
   ]
  },
  {
   "attachments": {},
   "cell_type": "markdown",
   "id": "613ff88d",
   "metadata": {},
   "source": [
    "## 3.6 Images"
   ]
  },
  {
   "cell_type": "markdown",
   "id": "871b29e6-c4a3-4d14-a299-89d38fe05603",
   "metadata": {},
   "source": [
    "Syntax is:\n",
    "![XXX].(XXX) (Remove the period)  \n",
    "\n",
    "![](https://nus.edu.sg/images/default-source/base/logo.png)"
   ]
  },
  {
   "attachments": {},
   "cell_type": "markdown",
   "id": "291f7078",
   "metadata": {},
   "source": [
    "## 3.7 Tables"
   ]
  },
  {
   "cell_type": "markdown",
   "id": "ad311d68-d23a-4c61-ac46-a8b78be37e76",
   "metadata": {},
   "source": [
    "Use of | x | x | X | to generate a table  \n",
    "Note: To generate lines/dividers in a table: use :--/:---:/--: depending on location of cell used\n",
    "\n",
    "E.g.     \n",
    "|A|B|C|    \n",
    "|:--.|:--:|--:|  \n",
    "|c|B|A|  \n",
    "(Note: Remove periods)  \n",
    "\n",
    "To get:\n",
    "|A   |B   |C   |\n",
    "|:---|:--:|---:|\n",
    "|a1  |b1  |c1  |\n",
    "|a2  |b2  |c2  |\n",
    "|a1  |b3  |c3  |\n"
   ]
  },
  {
   "attachments": {},
   "cell_type": "markdown",
   "id": "6717b676",
   "metadata": {},
   "source": [
    "## 3.8 Lists"
   ]
  },
  {
   "cell_type": "markdown",
   "id": "667264ea-e8b2-438b-945d-ed90ba29344d",
   "metadata": {},
   "source": [
    "Numbered:  (1.)  \n",
    "1. Master Yoda\n",
    "2. Luke Skywalker\n",
    "3. Anakin Skywalker"
   ]
  },
  {
   "cell_type": "markdown",
   "id": "7d38a1e7-78cf-4bd4-8dda-f72f92cc18a9",
   "metadata": {},
   "source": [
    "Unnumbered:   (-)  \n",
    "- Master Yoda\n",
    "- Luke Skywalker\n",
    "- Anakin Skywalker"
   ]
  },
  {
   "cell_type": "markdown",
   "id": "e3786506-88be-46fb-85ca-2a24a7c69484",
   "metadata": {},
   "source": [
    "Numbered-Numbered: (1. 1.)\n",
    "1. Master Yoda\n",
    "   1. Was a Jedi\n",
    "   1. Was a bit green\n",
    "1. Luke Skywalker\n",
    "   1. Was a Jedi\n",
    "   1. Is Anakin's son.\n",
    "1. Anakin Skywalker\n",
    "   1. Was a Jedi then became a baddie\n",
    "   1. Is famous for saying 'Luke, I am your father'"
   ]
  },
  {
   "cell_type": "markdown",
   "id": "68ea9701-3b2b-4489-9e5f-a573c583bc26",
   "metadata": {
    "jp-MarkdownHeadingCollapsed": true
   },
   "source": [
    "Numbered-Unnumbered: (1. -)  \n",
    "1. Master Yoda\n",
    "   - Was a Jedi\n",
    "   - Was a bit green\n",
    "1. Luke Skywalker\n",
    "   - Was a Jedi\n",
    "   - Is Anakin's son.\n",
    "1. Anakin Skywalker\n",
    "   - Was a Jedi then, became a baddie\n",
    "   - Is famous for saying, _'Luke, I am your father'_."
   ]
  },
  {
   "attachments": {},
   "cell_type": "markdown",
   "id": "c9423626",
   "metadata": {},
   "source": [
    "## 3.9 Equations (use of $)"
   ]
  },
  {
   "cell_type": "markdown",
   "id": "ad6d6b6a-05c7-4c31-bd42-7df0f171fdb4",
   "metadata": {},
   "source": [
    "| | Input| Rendered|\n",
    "|:--|:--:|---:|\n",
    "|Fraction|\\dfrac{y}{x}|$\\dfrac{y}{x}$  |\n",
    "|Subscript|x_{a}|$x_{a}$|\n",
    "|Power|x^{(y+z)}|$x^{(y+z)}$  |\n",
    "|Square Root|\\sqrt{(a+b+c)|$\\sqrt{(a+b+c)}$  |\n",
    "|Sum|\\sum_{n=1}^{n=\\infty}x_n|$\\sum_{n=1}^{n=\\infty}x_n$  |\n",
    "|Integral|\\int_{x=1}^{x=\\infty}f(x)dx|$\\int_{x=1}^{x=\\infty}f(x)dx$ | \n",
    "|Not Equal|a \\ne b|$a \\ne b$|\n",
    "|Less Than|a \\lt b|$a \\lt b$  |\n",
    "|Greater than|a \\gt b|$a \\gt b$  |\n",
    "|Greater than or equal to|a \\geq b|$a \\geq b$  |\n",
    "|Less than or equal to|a \\leq b|$a \\leq b$  |\n",
    "|Greek letters|\\alpha, \\beta, \\gamma, \\pi, \\lambda|$\\alpha, \\beta, \\gamma, \\pi, \\lambda$  |\n",
    "\n",
    "Note: rmb the $ before and after"
   ]
  },
  {
   "attachments": {},
   "cell_type": "markdown",
   "id": "2cc4dbb5",
   "metadata": {},
   "source": [
    "## Footnotes"
   ]
  }
 ],
 "metadata": {
  "kernelspec": {
   "display_name": "Python 3 (ipykernel)",
   "language": "python",
   "name": "python3"
  },
  "language_info": {
   "codemirror_mode": {
    "name": "ipython",
    "version": 3
   },
   "file_extension": ".py",
   "mimetype": "text/x-python",
   "name": "python",
   "nbconvert_exporter": "python",
   "pygments_lexer": "ipython3",
   "version": "3.12.3"
  },
  "toc": {
   "base_numbering": 1,
   "nav_menu": {},
   "number_sections": true,
   "sideBar": true,
   "skip_h1_title": false,
   "title_cell": "Table of Contents",
   "title_sidebar": "Contents",
   "toc_cell": false,
   "toc_position": {},
   "toc_section_display": true,
   "toc_window_display": false
  },
  "vscode": {
   "interpreter": {
    "hash": "31f2aee4e71d21fbe5cf8b01ff0e069b9275f58929596ceb00d14d90e3e16cd6"
   }
  }
 },
 "nbformat": 4,
 "nbformat_minor": 5
}
