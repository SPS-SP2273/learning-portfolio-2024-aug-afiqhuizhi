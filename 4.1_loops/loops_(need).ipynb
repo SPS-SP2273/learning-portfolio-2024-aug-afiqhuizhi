{
 "cells": [
  {
   "attachments": {},
   "cell_type": "markdown",
   "id": "123456",
   "metadata": {},
   "source": [
    "<div style=\"text-align:left;font-size:2em\"><span style=\"font-weight:bolder;font-size:1.25em\">SP2273 | Learning Portfolio</span><br><br><span style=\"font-weight:bold;color:darkred\">Loops (Need)</span></div>"
   ]
  },
  {
   "attachments": {},
   "cell_type": "markdown",
   "id": "95a0e378",
   "metadata": {},
   "source": [
    "# What to expect in this chapter"
   ]
  },
  {
   "attachments": {},
   "cell_type": "markdown",
   "id": "09f71706",
   "metadata": {},
   "source": [
    "# 1 The for iterator"
   ]
  },
  {
   "cell_type": "code",
   "execution_count": 5,
   "id": "0656f57a-3198-462d-a309-9d579c01cfed",
   "metadata": {},
   "outputs": [
    {
     "name": "stdout",
     "output_type": "stream",
     "text": [
      "Natasha Romanoff is a Marvel superhero!\n",
      "Tony Stark is a Marvel superhero!\n",
      "Stephen Strange is a Marvel superhero!\n"
     ]
    }
   ],
   "source": [
    "# This is stupidly inefficient. Imagine if you have 100 names.\n",
    "real_names = ['Natasha Romanoff', 'Tony Stark', 'Stephen Strange']\n",
    "\n",
    "name = real_names[0]\n",
    "print(f'{name} is a Marvel superhero!')\n",
    "name = real_names[1]\n",
    "print(f'{name} is a Marvel superhero!')\n",
    "name = real_names[2]\n",
    "print(f'{name} is a Marvel superhero!')"
   ]
  },
  {
   "attachments": {},
   "cell_type": "markdown",
   "id": "8f38db95",
   "metadata": {},
   "source": [
    "## 1.1 for with a list"
   ]
  },
  {
   "cell_type": "code",
   "execution_count": 7,
   "id": "c7979c81-0767-46e2-9da5-16f751da6e9a",
   "metadata": {},
   "outputs": [
    {
     "name": "stdout",
     "output_type": "stream",
     "text": [
      "Natasha Romanoff is a Marvel superhero!\n",
      "Tony Stark is a Marvel superhero!\n",
      "Stephen Strange is a Marvel superhero!\n"
     ]
    }
   ],
   "source": [
    "for name in real_names:\n",
    "    print(f'{name} is a Marvel superhero!')\n",
    "# A useful way to use loops!"
   ]
  },
  {
   "cell_type": "code",
   "execution_count": 8,
   "id": "85c46321-6541-4793-a9d8-6e07f3875969",
   "metadata": {},
   "outputs": [
    {
     "name": "stdout",
     "output_type": "stream",
     "text": [
      "Natasha Romanoff is a Marvel superhero!\n",
      "Tony Stark is a Marvel superhero!\n",
      "Stephen Strange is a Marvel superhero!\n"
     ]
    }
   ],
   "source": [
    "for x in real_names:\n",
    "    print(f'{x} is a Marvel superhero!')\n",
    "# This will work but it is very cryptic!"
   ]
  },
  {
   "attachments": {},
   "cell_type": "markdown",
   "id": "16c431c7",
   "metadata": {},
   "source": [
    "## 1.2 for with enumerate"
   ]
  },
  {
   "cell_type": "code",
   "execution_count": 10,
   "id": "d0317fab-2640-45e5-a36d-b7c5e6d4da44",
   "metadata": {},
   "outputs": [
    {
     "name": "stdout",
     "output_type": "stream",
     "text": [
      "0: Natasha Romanoff is a Marvel superhero!\n",
      "1: Tony Stark is a Marvel superhero!\n",
      "2: Stephen Strange is a Marvel superhero!\n"
     ]
    }
   ],
   "source": [
    "super_names = ['Black Widow', 'Iron Man', 'Doctor Strange']\n",
    "real_names = ['Natasha Romanoff', 'Tony Stark', 'Stephen Strange']\n",
    "\n",
    "# Note: 'for' loop only accepts one list. We can use enumerate(). \n",
    "for count, name in enumerate(real_names):\n",
    "    print(f'{count}: {name} is a Marvel superhero!')\n",
    "# We can use enumerate to keep track of things in the list!"
   ]
  },
  {
   "cell_type": "code",
   "execution_count": 13,
   "id": "7ebcc775-1eb6-4a84-9e42-50b97b6da04e",
   "metadata": {},
   "outputs": [
    {
     "name": "stdout",
     "output_type": "stream",
     "text": [
      "Natasha Romanoff is Black Widow!\n",
      "Tony Stark is Iron Man!\n",
      "Stephen Strange is Doctor Strange!\n"
     ]
    }
   ],
   "source": [
    "for index, name in enumerate(real_names):\n",
    "    superhero_name = super_names[index]    # To index superhero_name with a specific super_names (i.e. change of variables)\n",
    "    print(f'{name} is {superhero_name}!')"
   ]
  },
  {
   "cell_type": "markdown",
   "id": "6d98a9b0-b5bb-40b5-8359-e405d942c08c",
   "metadata": {},
   "source": [
    "Note that:  \n",
    "- enumerate() can be used with count and index to match their logical use. RMB that we are writing programmes for humans.\n",
    "- enumerate() defaults from 0, but we can set it to 100 for easy management. (e.g. below)"
   ]
  },
  {
   "cell_type": "code",
   "execution_count": 14,
   "id": "f7d8e240-6b0d-45ed-950c-41d07e655091",
   "metadata": {},
   "outputs": [
    {
     "name": "stdout",
     "output_type": "stream",
     "text": [
      "100: Natasha Romanoff is a Marvel superhero!\n",
      "101: Tony Stark is a Marvel superhero!\n",
      "102: Stephen Strange is a Marvel superhero!\n"
     ]
    }
   ],
   "source": [
    "for count, name in enumerate(real_names, 100):\n",
    "    print(f'{count}: {name} is a Marvel superhero!')"
   ]
  },
  {
   "attachments": {},
   "cell_type": "markdown",
   "id": "bc42cb81",
   "metadata": {},
   "source": [
    "## 1.3 for with range"
   ]
  },
  {
   "cell_type": "code",
   "execution_count": 16,
   "id": "9ad67031-9b95-48ee-9557-231341c455a3",
   "metadata": {},
   "outputs": [
    {
     "name": "stdout",
     "output_type": "stream",
     "text": [
      "0\n",
      "1\n",
      "2\n",
      "3\n",
      "4\n"
     ]
    }
   ],
   "source": [
    "for i in range(5):       # i is from 0 to 4 (5 elements in total)\n",
    "    print(i)"
   ]
  },
  {
   "cell_type": "code",
   "execution_count": 17,
   "id": "fe7ca65d-86af-4fb5-b2be-6ef62ff94edc",
   "metadata": {},
   "outputs": [
    {
     "name": "stdout",
     "output_type": "stream",
     "text": [
      "5\n",
      "6\n",
      "7\n",
      "8\n",
      "9\n"
     ]
    }
   ],
   "source": [
    "for i in range(5, 10):   # i is from 5 to 9 (5 elements in total)\n",
    "    print(i)   "
   ]
  },
  {
   "cell_type": "code",
   "execution_count": 21,
   "id": "4c1c27bf-dc69-4606-b13a-0eb4261c4189",
   "metadata": {},
   "outputs": [
    {
     "name": "stdout",
     "output_type": "stream",
     "text": [
      "1\n",
      "4\n",
      "7\n"
     ]
    }
   ],
   "source": [
    "for i in range(1, 10, 3):  # i is from 1 to 9 in steps of 3\n",
    "    print(i)"
   ]
  },
  {
   "cell_type": "markdown",
   "id": "cbb0e607-37f8-4005-85b9-b5040e50388f",
   "metadata": {},
   "source": [
    "Note that range( ) and enumerate( ) only work with looping structures, but range() ends 1 short of the ending number."
   ]
  },
  {
   "cell_type": "code",
   "execution_count": 23,
   "id": "d360a7b5-dc91-4a99-92be-20b490668083",
   "metadata": {},
   "outputs": [
    {
     "name": "stdout",
     "output_type": "stream",
     "text": [
      "Natasha Romanoff is Marvel's Black Widow!\n",
      "Tony Stark is Marvel's Iron Man!\n",
      "Stephen Strange is Marvel's Doctor Strange!\n"
     ]
    }
   ],
   "source": [
    "for i in range(len(real_names)):       #len(real_names) to get the numebr of times the loop will run\n",
    "    real_name = real_names[i]\n",
    "    super_name = super_names[i]\n",
    "    print(f'{real_name} is Marvel\\'s {super_name}!')"
   ]
  },
  {
   "attachments": {},
   "cell_type": "markdown",
   "id": "7d32bc09",
   "metadata": {},
   "source": [
    "# 2 while"
   ]
  },
  {
   "cell_type": "code",
   "execution_count": 25,
   "id": "da878947-b7dd-48ec-9ca5-c0762e2f3514",
   "metadata": {},
   "outputs": [
    {
     "name": "stdout",
     "output_type": "stream",
     "text": [
      "0\n",
      "1\n",
      "2\n",
      "3\n",
      "4\n"
     ]
    }
   ],
   "source": [
    "number = 0 \n",
    "\n",
    "while number < 5:      # when the condition is true, this will auto loop!\n",
    "    print(number)\n",
    "    number += 1"
   ]
  }
 ],
 "metadata": {
  "kernelspec": {
   "display_name": "Python 3 (ipykernel)",
   "language": "python",
   "name": "python3"
  },
  "language_info": {
   "codemirror_mode": {
    "name": "ipython",
    "version": 3
   },
   "file_extension": ".py",
   "mimetype": "text/x-python",
   "name": "python",
   "nbconvert_exporter": "python",
   "pygments_lexer": "ipython3",
   "version": "3.12.3"
  },
  "toc": {
   "base_numbering": 1,
   "nav_menu": {},
   "number_sections": true,
   "sideBar": true,
   "skip_h1_title": false,
   "title_cell": "Table of Contents",
   "title_sidebar": "Contents",
   "toc_cell": false,
   "toc_position": {},
   "toc_section_display": true,
   "toc_window_display": false
  },
  "vscode": {
   "interpreter": {
    "hash": "31f2aee4e71d21fbe5cf8b01ff0e069b9275f58929596ceb00d14d90e3e16cd6"
   }
  }
 },
 "nbformat": 4,
 "nbformat_minor": 5
}
