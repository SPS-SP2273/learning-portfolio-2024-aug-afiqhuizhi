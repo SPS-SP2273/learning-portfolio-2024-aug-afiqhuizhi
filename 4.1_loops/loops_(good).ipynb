{
 "cells": [
  {
   "attachments": {},
   "cell_type": "markdown",
   "id": "123456",
   "metadata": {},
   "source": [
    "<div style=\"text-align:left;font-size:2em\"><span style=\"font-weight:bolder;font-size:1.25em\">SP2273 | Learning Portfolio</span><br><br><span style=\"font-weight:bold;color:darkred\">Loops (Good)</span></div>"
   ]
  },
  {
   "attachments": {},
   "cell_type": "markdown",
   "id": "5de91e9a",
   "metadata": {},
   "source": [
    "# What to expect in this chapter"
   ]
  },
  {
   "cell_type": "markdown",
   "id": "b2e93b30-5595-43ff-9431-aede5e64c2af",
   "metadata": {},
   "source": [
    "Use of 'continue', 'break' and list comprehension (a more optimised for loop)"
   ]
  },
  {
   "attachments": {},
   "cell_type": "markdown",
   "id": "0cc91f73",
   "metadata": {},
   "source": [
    "# 1 Interrupting the flow"
   ]
  },
  {
   "cell_type": "code",
   "execution_count": 2,
   "id": "40386ba4-d942-4b3d-bde8-a285b6282606",
   "metadata": {},
   "outputs": [
    {
     "name": "stdout",
     "output_type": "stream",
     "text": [
      "1 10\n",
      "2 100\n",
      "3 1000\n"
     ]
    }
   ],
   "source": [
    "for power in range(1,5):\n",
    "    number = 10 ** power\n",
    "    if number > 5000: \n",
    "        break                         # Stops the loop once the next number > 5000\n",
    "    print(power, number)              # Note: This works with a while loop!"
   ]
  },
  {
   "cell_type": "code",
   "execution_count": 6,
   "id": "39ef9fb8-e097-4f21-aa9b-f898b5660fe8",
   "metadata": {},
   "outputs": [
    {
     "name": "stdout",
     "output_type": "stream",
     "text": [
      "0 1\n",
      "1 10\n",
      "2 100\n",
      "4 10000\n"
     ]
    }
   ],
   "source": [
    "for power in range(5):\n",
    "    if power == 3:\n",
    "        continue          # Don't continue the loop for power = 3\n",
    "    number = 10 ** power\n",
    "    print(power, number)  # Note: this works for a while loop as well"
   ]
  },
  {
   "cell_type": "code",
   "execution_count": 8,
   "id": "d313dd89-3993-4bad-9f19-e66f1719dfb1",
   "metadata": {},
   "outputs": [
    {
     "name": "stdout",
     "output_type": "stream",
     "text": [
      "1\n",
      "3\n",
      "5\n",
      "7\n",
      "9\n"
     ]
    }
   ],
   "source": [
    "for number in range(10):\n",
    "    if number % 2 == 0: \n",
    "        continue         # Skips even numbers!\n",
    "    print(number)"
   ]
  },
  {
   "cell_type": "code",
   "execution_count": 15,
   "id": "b012f84c-8175-4626-a457-539f7c7cba9d",
   "metadata": {},
   "outputs": [
    {
     "name": "stdout",
     "output_type": "stream",
     "text": [
      "0\n",
      "1\n",
      "2\n",
      "3\n",
      "4\n"
     ]
    }
   ],
   "source": [
    "number = 0\n",
    "while True:                   # While loop time!\n",
    "    print(number)\n",
    "    number +=  1\n",
    "    if number > 4: break      # Breaks the loop if number is higher than 4"
   ]
  },
  {
   "attachments": {},
   "cell_type": "markdown",
   "id": "56ffdeca",
   "metadata": {},
   "source": [
    "# 2 List comprehension!"
   ]
  },
  {
   "attachments": {},
   "cell_type": "markdown",
   "id": "fa3810d9",
   "metadata": {},
   "source": [
    "## 2.1 Basic syntax"
   ]
  },
  {
   "cell_type": "code",
   "execution_count": 11,
   "id": "20daa428-9e75-497e-adeb-1f600081d777",
   "metadata": {},
   "outputs": [
    {
     "data": {
      "text/plain": [
       "[0, 1, 2, 3, 4]"
      ]
     },
     "execution_count": 11,
     "metadata": {},
     "output_type": "execute_result"
    }
   ],
   "source": [
    "[number for number in range(5)]   # Note: This is a list"
   ]
  },
  {
   "cell_type": "code",
   "execution_count": 13,
   "id": "ceb06f4a-57c3-40a7-9467-e85e9a37c9a7",
   "metadata": {},
   "outputs": [
    {
     "data": {
      "text/plain": [
       "[0, 1, 4, 9, 16]"
      ]
     },
     "execution_count": 13,
     "metadata": {},
     "output_type": "execute_result"
    }
   ],
   "source": [
    "[number ** 2 for number in range(5)]  # Recall that number is 0 to 4"
   ]
  },
  {
   "attachments": {},
   "cell_type": "markdown",
   "id": "64a232bf",
   "metadata": {},
   "source": [
    "## 2.2 List comprehension with conditions"
   ]
  },
  {
   "cell_type": "code",
   "execution_count": 14,
   "id": "b86ff56f-fc86-4b32-b4bb-65fee1e5ddd4",
   "metadata": {},
   "outputs": [
    {
     "data": {
      "text/plain": [
       "[0, 2, 4, 6, 8]"
      ]
     },
     "execution_count": 14,
     "metadata": {},
     "output_type": "execute_result"
    }
   ],
   "source": [
    "[number for number in range(10) if number % 2 == 0]    # Only even numbers!"
   ]
  },
  {
   "attachments": {},
   "cell_type": "markdown",
   "id": "64e4db42",
   "metadata": {},
   "source": [
    "# 3 Other useful stuff"
   ]
  },
  {
   "attachments": {},
   "cell_type": "markdown",
   "id": "a2d7ee12",
   "metadata": {},
   "source": [
    "## 3.1 for with unpacking"
   ]
  },
  {
   "cell_type": "code",
   "execution_count": 17,
   "id": "9e4b33f9-1209-43c8-a027-933714d92c14",
   "metadata": {},
   "outputs": [
    {
     "name": "stdout",
     "output_type": "stream",
     "text": [
      "x = 1, y = 2, z = 3\n"
     ]
    }
   ],
   "source": [
    "x, y, z = [1, 2, 3]\n",
    "print(f'x = {x}, y = {y}, z = {z}')"
   ]
  },
  {
   "cell_type": "code",
   "execution_count": 20,
   "id": "24e622b7-0945-4dc1-b43f-2d950ac5cbb7",
   "metadata": {},
   "outputs": [
    {
     "name": "stdout",
     "output_type": "stream",
     "text": [
      "Natasha Romanoff is Marvel's Black Widow!\n",
      "Tony Stark is Marvel's Iron Man!\n",
      "Stephen Strange is Marvel's Doctor Strange!\n"
     ]
    }
   ],
   "source": [
    "py_superhero_info = [['Natasha Romanoff', 'Black Widow'],\n",
    "                     ['Tony Stark', 'Iron Man'],\n",
    "                     ['Stephen Strange', 'Doctor Strange']]\n",
    "\n",
    "for real_name, super_name in py_superhero_info:\n",
    "    print(f'{real_name} is Marvel\\'s {super_name}!')      # loops this command for all x, y, z"
   ]
  },
  {
   "attachments": {},
   "cell_type": "markdown",
   "id": "2721664d",
   "metadata": {},
   "source": [
    "## 3.2 for with zip()"
   ]
  },
  {
   "cell_type": "code",
   "execution_count": 21,
   "id": "eff54442-599f-4900-b54a-cfdfc56d9f04",
   "metadata": {},
   "outputs": [
    {
     "name": "stdout",
     "output_type": "stream",
     "text": [
      "Natasha Romanoff is Marvel's Black Widow!\n",
      "Tony Stark is Marvel's Iron Man!\n",
      "Stephen Strange is Marvel's Doctor Strange!\n"
     ]
    }
   ],
   "source": [
    "# from above:\n",
    "super_names = [\"Black Widow\", \"Iron Man\", \"Doctor Strange\"]\n",
    "real_names = [\"Natasha Romanoff\", \"Tony Stark\", \"Stephen Strange\"]\n",
    "\n",
    "for real_name, super_name in zip(real_names,super_names):    # Note output for zip requires to be used in a 'for' loop or a list!\n",
    "    print(f\"{real_name} is Marvel's {super_name}!\")"
   ]
  },
  {
   "attachments": {},
   "cell_type": "markdown",
   "id": "059c6897",
   "metadata": {},
   "source": [
    "## 3.3 for with dictionaries"
   ]
  },
  {
   "cell_type": "code",
   "execution_count": 24,
   "id": "818b9276-e029-4883-b7db-fc61cf081781",
   "metadata": {},
   "outputs": [
    {
     "name": "stdout",
     "output_type": "stream",
     "text": [
      "Natasha Romanoff is Marvel's Black Widow!\n",
      "Tony Stark is Marvel's Iron Man!\n",
      "Stephen Strange is Marvel's Doctor Strange!\n"
     ]
    }
   ],
   "source": [
    "superhero_info = {'Natasha Romanoff': 'Black Widow',\n",
    "                  'Tony Stark': 'Iron Man',\n",
    "                  'Stephen Strange': 'Doctor Strange'}\n",
    "for key, value in superhero_info.items():       # items() spits out both key and corresponding value!\n",
    "    print(f'{key} is Marvel\\'s {value}!')"
   ]
  },
  {
   "cell_type": "code",
   "execution_count": 26,
   "id": "69e883c5-b20f-4602-ab61-ae67e2c00584",
   "metadata": {},
   "outputs": [
    {
     "name": "stdout",
     "output_type": "stream",
     "text": [
      "Natasha Romanoff is Marvel's Black Widow!\n",
      "Tony Stark is Marvel's Iron Man!\n",
      "Stephen Strange is Marvel's Doctor Strange!\n"
     ]
    }
   ],
   "source": [
    "# Another way to directly access the keys:\n",
    "for key in superhero_info.keys():\n",
    "    value = superhero_info[key]\n",
    "    print(f'{key} is Marvel\\'s {value}!')   # possible to use other var than 'key' and 'value'"
   ]
  },
  {
   "attachments": {},
   "cell_type": "markdown",
   "id": "ee574218",
   "metadata": {},
   "source": [
    "## Footnotes"
   ]
  }
 ],
 "metadata": {
  "kernelspec": {
   "display_name": "Python 3 (ipykernel)",
   "language": "python",
   "name": "python3"
  },
  "language_info": {
   "codemirror_mode": {
    "name": "ipython",
    "version": 3
   },
   "file_extension": ".py",
   "mimetype": "text/x-python",
   "name": "python",
   "nbconvert_exporter": "python",
   "pygments_lexer": "ipython3",
   "version": "3.12.3"
  },
  "toc": {
   "base_numbering": 1,
   "nav_menu": {},
   "number_sections": true,
   "sideBar": true,
   "skip_h1_title": false,
   "title_cell": "Table of Contents",
   "title_sidebar": "Contents",
   "toc_cell": false,
   "toc_position": {},
   "toc_section_display": true,
   "toc_window_display": false
  },
  "vscode": {
   "interpreter": {
    "hash": "31f2aee4e71d21fbe5cf8b01ff0e069b9275f58929596ceb00d14d90e3e16cd6"
   }
  }
 },
 "nbformat": 4,
 "nbformat_minor": 5
}
