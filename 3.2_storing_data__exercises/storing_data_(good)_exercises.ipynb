{
 "cells": [
  {
   "attachments": {},
   "cell_type": "markdown",
   "id": "123456",
   "metadata": {},
   "source": [
    "<div style=\"text-align:left;font-size:2em\"><span style=\"font-weight:bolder;font-size:1.25em\">SP2273 | Learning Portfolio</span><br><br><span style=\"font-weight:bold;color:darkred\">Storing Data (Good) Exercises</span></div>"
   ]
  },
  {
   "cell_type": "markdown",
   "id": "17eef0ce-f15b-4726-a710-74224da36319",
   "metadata": {},
   "source": [
    "### Exercise 1 (Total Recall)"
   ]
  },
  {
   "cell_type": "markdown",
   "id": "81e743d6-ef51-49ab-ac2f-d79bb06f6f11",
   "metadata": {},
   "source": [
    "| Term       | Brief Description                                                                        |\n",
    "|------------|------------------------------------------------------------------------------------------|\n",
    "| Subsetting | To split the data into different, smaller subsets. (analogy to set theory) <br/>  _To select_ |\n",
    "| Indexing   | To pick a certain element or entry in list                                               |\n",
    "| Slicing    | To pick a certain index in a list <br/> _To select a range of elements_                      |\n",
    "| Masking    | To pick the entries with a desired criteria (e.g. x > 4)                                 |"
   ]
  },
  {
   "cell_type": "markdown",
   "id": "efffa834-3bd0-4855-983c-abf52bdd3d7f",
   "metadata": {},
   "source": [
    "### Exercise 2 (show me the 'odd' letters)"
   ]
  },
  {
   "cell_type": "code",
   "execution_count": 1,
   "id": "e9cdfd4c-a542-4d35-9060-86426838158b",
   "metadata": {},
   "outputs": [],
   "source": [
    "import numpy as np\n",
    "np_array_2d = np.array([[1, \"A\"], [3, \"C\"], [2, \"B\"], [4, \"D\"],\n",
    "                        [5, \"E\"], [7, \"G\"], [6, \"F\"], [8, \"H\"],\n",
    "                        [10, \"J\"], [9, \"I\"]])"
   ]
  },
  {
   "cell_type": "code",
   "execution_count": 85,
   "id": "d5127b46-3653-4635-85e3-6ac19783f6bd",
   "metadata": {},
   "outputs": [
    {
     "name": "stdout",
     "output_type": "stream",
     "text": [
      "['A' 'C' 'E' 'G' 'I']\n"
     ]
    }
   ],
   "source": [
    "# Goal: To get odd letter\n",
    "num_let = np.array(np_array_2d[:,0])\n",
    "odd = np.array(np.float64(num_let) % 2 == 1)   # np.float64 floats all array str into floats, which can modulo 2 to check for odd.\n",
    "np_array_2d[odd,1]   # Mask to determine which odd numbers to pick from, and 1 to indicate the index which is pulled (letter)\n",
    "print(np_array_2d[odd,1])"
   ]
  },
  {
   "cell_type": "markdown",
   "id": "f156f846-bf05-41b8-819e-1cf762f2cb1f",
   "metadata": {},
   "source": [
    "### Exercise 3"
   ]
  },
  {
   "cell_type": "code",
   "execution_count": 83,
   "id": "fe024e0e-a341-4fc2-9f17-563aa3172c5c",
   "metadata": {},
   "outputs": [
    {
     "name": "stdout",
     "output_type": "stream",
     "text": [
      "[[ 1  0  1 -1 -1]\n",
      " [ 1 -1  1 -1 -1]\n",
      " [ 1 -1 -1  1 -1]\n",
      " [-1  1  1 -1 -1]\n",
      " [ 1 -1  1 -1  1]]\n"
     ]
    }
   ],
   "source": [
    "help = np.array([[66, 50, 57, -1, -1],\n",
    " [92, -1, 88, -1, -1],\n",
    " [75, -1, -1, 76, -1],\n",
    " [-1, 51, 87, -1, -1],\n",
    " [71, -1, 67, -1, 69]])\n",
    "under = np.array(help[:,:] < 50)    # Check if array has any value thats below 50\n",
    "over = np.array(help[:,:] > 50)\n",
    "equal = np.array(help[:,:] == 50)\n",
    "help[under.astype(bool)] = -1       # astype(bool) to change True to value of -1  \n",
    "help[over.astype(bool)] = +1        # astype(bool) to change True to value of 1\n",
    "help[equal.astype(bool)] = 0        # astype(bool) to change True to value of 0\n",
    "print(help)"
   ]
  },
  {
   "cell_type": "markdown",
   "id": "c0125e32-dcac-4624-b537-e298b2cba17a",
   "metadata": {},
   "source": [
    "note to mentor: is there a way to compact the code because it feels like I'm typing a lot of repeated steps?"
   ]
  }
 ],
 "metadata": {
  "kernelspec": {
   "display_name": "Python 3 (ipykernel)",
   "language": "python",
   "name": "python3"
  },
  "language_info": {
   "codemirror_mode": {
    "name": "ipython",
    "version": 3
   },
   "file_extension": ".py",
   "mimetype": "text/x-python",
   "name": "python",
   "nbconvert_exporter": "python",
   "pygments_lexer": "ipython3",
   "version": "3.12.3"
  },
  "toc": {
   "base_numbering": 1,
   "nav_menu": {},
   "number_sections": true,
   "sideBar": true,
   "skip_h1_title": false,
   "title_cell": "Table of Contents",
   "title_sidebar": "Contents",
   "toc_cell": false,
   "toc_position": {},
   "toc_section_display": true,
   "toc_window_display": false
  },
  "vscode": {
   "interpreter": {
    "hash": "31f2aee4e71d21fbe5cf8b01ff0e069b9275f58929596ceb00d14d90e3e16cd6"
   }
  }
 },
 "nbformat": 4,
 "nbformat_minor": 5
}
