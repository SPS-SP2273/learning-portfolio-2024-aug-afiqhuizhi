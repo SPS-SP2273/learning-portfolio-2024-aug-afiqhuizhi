{
 "cells": [
  {
   "attachments": {},
   "cell_type": "markdown",
   "id": "123456",
   "metadata": {},
   "source": [
    "<div style=\"text-align:left;font-size:2em\"><span style=\"font-weight:bolder;font-size:1.25em\">SP2273 | Learning Portfolio</span><br><br><span style=\"font-weight:bold;color:darkred\">Storing Data (Need) Exercises</span></div>"
   ]
  },
  {
   "cell_type": "markdown",
   "id": "2d4b7d13-324a-4b79-8d46-5f79526da743",
   "metadata": {},
   "source": [
    "### Exercise 1 (Total recall?)\n"
   ]
  },
  {
   "cell_type": "markdown",
   "id": "e9d4eee2-22de-4ff4-9eec-487f229f95c9",
   "metadata": {},
   "source": [
    "2 similarities between lists and arrays:\n",
    "- lists and arrays can both be used to store data\n",
    "- lists and arrays can both have functions applied to them\n",
    "\n",
    "2 differences between lists and arrays:\n",
    "- lists are more accommodating to the different types of variables whereas arrays are more particular (i.e. everything has to be a str or int or float, but not multiple)\n",
    "- the functions attached to lists and arrays perform different actions, such as the case for multiplying the lists, for lists it appends copies of the lists to it, while for arrays it is an elements-wise operation (multiplies each element)\n",
    "\n",
    "What is a dictionary?\n",
    "- A dictionary stores data with keys : values. Sort of like a real dictionary, where the key can be used to pull up the value tagged to that key."
   ]
  },
  {
   "cell_type": "markdown",
   "id": "f8264133-cb7c-4a88-b6b2-59427996eb94",
   "metadata": {},
   "source": [
    "### Exercise 2 (Indexing)"
   ]
  },
  {
   "cell_type": "code",
   "execution_count": 5,
   "id": "a8d67c7e-e827-4919-a448-accc098d0389",
   "metadata": {},
   "outputs": [
    {
     "name": "stdout",
     "output_type": "stream",
     "text": [
      "a1 c3 e5 g7 i9\n"
     ]
    }
   ],
   "source": [
    "py_list = [\"a1\", \"b2\", \"c3\", \"d4\", \"e5\", \"f6\", \"g7\", \"h8\", \"i9\", \"j10\"]\n",
    "print(py_list[0], py_list[2], py_list[4], py_list[6], py_list[8])\n",
    "# this prints out all odd entries, i.e. a1, c3, e5, g7, i9"
   ]
  },
  {
   "cell_type": "markdown",
   "id": "f08be910-e9ec-415d-a256-2d075ee2eed3",
   "metadata": {},
   "source": [
    "### Exercise 3 (Index Again)"
   ]
  },
  {
   "cell_type": "code",
   "execution_count": 6,
   "id": "f690250c-8f08-46d6-a31f-882f9c875517",
   "metadata": {},
   "outputs": [
    {
     "name": "stdout",
     "output_type": "stream",
     "text": [
      "Berylium Berylium\n"
     ]
    }
   ],
   "source": [
    "elements = ['Hydrogen',\n",
    "            'Helium', 'Lithium',\n",
    "            'Berylium', 'Boron', 'Carbon',\n",
    "            'Nitrogen', 'Oxygen',\n",
    "            'Fluorine',\n",
    "            'Neon']\n",
    "\n",
    "print(elements[3], elements[-7])"
   ]
  },
  {
   "cell_type": "markdown",
   "id": "53c3192e-d726-46ad-ad72-5c708f1056df",
   "metadata": {},
   "source": [
    "### Exercise 4 (How many ones)"
   ]
  },
  {
   "cell_type": "code",
   "execution_count": 25,
   "id": "22713e42-8933-4e44-94d3-2f104a692b55",
   "metadata": {},
   "outputs": [
    {
     "data": {
      "text/plain": [
       "np.int64(9)"
      ]
     },
     "execution_count": 25,
     "metadata": {},
     "output_type": "execute_result"
    }
   ],
   "source": [
    "import numpy as np\n",
    "numbers=[45, 60, 1, 30, 96, 1, 96, 57, 16, 1,\n",
    "        99, 62, 86, 43, 42, 60, 59, 1, 1, 35,\n",
    "        83, 47, 34, 28, 68, 23, 22, 92, 1, 79,\n",
    "        1, 29, 94, 72, 46, 47, 1, 74, 32, 20,\n",
    "        8, 37, 35, 1, 89, 29, 86, 19, 43, 61]                          \n",
    "num = np.array(numbers)\n",
    "sum(num == 1) \n",
    "# sums the true false values in the array. if true, is 1. if false, is 0."
   ]
  },
  {
   "cell_type": "markdown",
   "id": "61653c42-9dc3-4fb2-948a-caeb492e8a69",
   "metadata": {},
   "source": [
    "### Exercise 5 (A Matter of Statistics)"
   ]
  },
  {
   "cell_type": "code",
   "execution_count": 30,
   "id": "18ffa41b-67c2-4499-a12b-90a91ffdce81",
   "metadata": {},
   "outputs": [
    {
     "name": "stdout",
     "output_type": "stream",
     "text": [
      "38.5\n",
      "302.5\n"
     ]
    }
   ],
   "source": [
    "x_1 = [1, 4, 9, 16, 25, 36, 49, 64, 81, 100]\n",
    "x_2 = [1, 8, 27, 64, 125, 216, 343, 512, 729, 1000]\n",
    "x1 = np.array(x_1)\n",
    "x2 = np.array(x_2)\n",
    "\n",
    "#1\n",
    "print(np.mean(x1))\n",
    "print(np.mean(x2))"
   ]
  },
  {
   "cell_type": "code",
   "execution_count": 31,
   "id": "afd50297-ab20-49aa-a506-cb94bc00180a",
   "metadata": {},
   "outputs": [
    {
     "name": "stdout",
     "output_type": "stream",
     "text": [
      "32.41990129534635\n",
      "326.0893282522444\n"
     ]
    }
   ],
   "source": [
    "#2\n",
    "print(np.std(x1))\n",
    "print(np.std(x2))"
   ]
  },
  {
   "cell_type": "code",
   "execution_count": 47,
   "id": "4a9359ae-4dba-43f0-9578-d619e3339e0d",
   "metadata": {},
   "outputs": [
    {
     "name": "stdout",
     "output_type": "stream",
     "text": [
      "0.9871796626270701\n"
     ]
    }
   ],
   "source": [
    "#3\n",
    "import math as m\n",
    "X = x1 - np.mean(x1)\n",
    "Y = x2 - np.mean(x2)\n",
    "XY = x1 * x2\n",
    "n = len(X)\n",
    "r = sum(X * Y)/ m.sqrt(sum(X ** 2) * sum(Y ** 2))\n",
    "print(r)"
   ]
  },
  {
   "cell_type": "code",
   "execution_count": 49,
   "id": "3b477302-21a2-4197-a0c8-678a3789cd27",
   "metadata": {},
   "outputs": [
    {
     "data": {
      "text/plain": [
       "array([[1.        , 0.98717966],\n",
       "       [0.98717966, 1.        ]])"
      ]
     },
     "execution_count": 49,
     "metadata": {},
     "output_type": "execute_result"
    }
   ],
   "source": [
    "np.corrcoef(X,Y)"
   ]
  },
  {
   "cell_type": "markdown",
   "id": "9a9bf9b6-7c7a-40cc-a6fe-e903e7b2abb0",
   "metadata": {},
   "source": [
    "Conclusion: They are the same."
   ]
  }
 ],
 "metadata": {
  "kernelspec": {
   "display_name": "Python 3 (ipykernel)",
   "language": "python",
   "name": "python3"
  },
  "language_info": {
   "codemirror_mode": {
    "name": "ipython",
    "version": 3
   },
   "file_extension": ".py",
   "mimetype": "text/x-python",
   "name": "python",
   "nbconvert_exporter": "python",
   "pygments_lexer": "ipython3",
   "version": "3.12.3"
  },
  "toc": {
   "base_numbering": 1,
   "nav_menu": {},
   "number_sections": true,
   "sideBar": true,
   "skip_h1_title": false,
   "title_cell": "Table of Contents",
   "title_sidebar": "Contents",
   "toc_cell": false,
   "toc_position": {},
   "toc_section_display": true,
   "toc_window_display": false
  },
  "vscode": {
   "interpreter": {
    "hash": "31f2aee4e71d21fbe5cf8b01ff0e069b9275f58929596ceb00d14d90e3e16cd6"
   }
  }
 },
 "nbformat": 4,
 "nbformat_minor": 5
}
