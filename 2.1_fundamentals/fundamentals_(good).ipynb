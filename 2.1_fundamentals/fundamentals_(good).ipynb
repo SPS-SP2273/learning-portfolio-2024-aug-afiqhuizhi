{
 "cells": [
  {
   "attachments": {},
   "cell_type": "markdown",
   "id": "123456",
   "metadata": {},
   "source": [
    "<div style=\"text-align:left;font-size:2em\"><span style=\"font-weight:bolder;font-size:1.25em\">SP2273 | Learning Portfolio</span><br><br><span style=\"font-weight:bold;color:darkred\">Fundamentals (Good)</span></div>"
   ]
  },
  {
   "attachments": {},
   "cell_type": "markdown",
   "id": "e3808194",
   "metadata": {},
   "source": [
    "# What to expect in this chapter"
   ]
  },
  {
   "attachments": {},
   "cell_type": "markdown",
   "id": "6b9d72d3",
   "metadata": {},
   "source": [
    "# 1 There is more to if"
   ]
  },
  {
   "cell_type": "markdown",
   "id": "8a1e610d-0a19-4ace-b064-210ed5edc994",
   "metadata": {},
   "source": [
    "Use of 'elif' (else if), for more branches in an 'if' statement.  \n",
    "Check the following:"
   ]
  },
  {
   "cell_type": "code",
   "execution_count": 1,
   "id": "a732dc1a-1e69-496f-a3a9-a0768d3bc008",
   "metadata": {},
   "outputs": [
    {
     "name": "stdout",
     "output_type": "stream",
     "text": [
      "Hello Kakavasha\n"
     ]
    }
   ],
   "source": [
    "name = 'Aventurine'\n",
    "\n",
    "if name == 'Dr Ratio':\n",
    "    print('Hello Dr Ratio!')\n",
    "elif name == 'Aventurine':\n",
    "    print('Hello Kakavasha')\n",
    "else:\n",
    "    print('Hello World')"
   ]
  },
  {
   "attachments": {},
   "cell_type": "markdown",
   "id": "427088b8",
   "metadata": {},
   "source": [
    "# 2 Asking questions"
   ]
  },
  {
   "cell_type": "markdown",
   "id": "d200cc91-8a64-4713-b851-0ebe9f7999db",
   "metadata": {},
   "source": [
    "Use of 'if' to ask questions:"
   ]
  },
  {
   "cell_type": "code",
   "execution_count": 13,
   "id": "573c942e-3cf1-412c-b6d1-7283d0146913",
   "metadata": {},
   "outputs": [
    {
     "name": "stdout",
     "output_type": "stream",
     "text": [
      "True\n",
      "False\n",
      "True\n",
      "True\n",
      "True\n"
     ]
    }
   ],
   "source": [
    "fruits = ['apple', 'banana', 'pineapple', 'jackfruit']\n",
    "vegetables = ['celery', 'potato', 'broccoli', 'kale']\n",
    "\n",
    "# Is 'apple' in the list fruits?    (True)\n",
    "if 'apple' in fruits:\n",
    "    print('True')\n",
    "\n",
    "# Is 'peach' in the list fruits?   (False)\n",
    "if 'peach' in fruits:\n",
    "    print('True')\n",
    "else:\n",
    "    print('False')\n",
    "\n",
    "# Is 'peach' not in fruits?   (True)\n",
    "if 'peach' not in fruits:\n",
    "    print('True')\n",
    "else: \n",
    "    print('False')\n",
    "\n",
    "# Is 'apple' in the list fruits AND is 'celery' in the list vegetables?   (True)\n",
    "if ('apple' in fruits) and ('celery' in vegetables):\n",
    "    print('True')\n",
    "else: \n",
    "    print('False')\n",
    "\n",
    "# Is 'app' in 'apple'   (True)\n",
    "if('app' in 'apple'):\n",
    "    print('True')\n",
    "else:\n",
    "    print('False')"
   ]
  },
  {
   "cell_type": "markdown",
   "id": "aeb022d8-00a1-4a95-b05f-9a7d43f8866c",
   "metadata": {},
   "source": [
    "Important to understand that basic Python only knows how to compare similar things/type (e.g. number-number, variables-variables, but NOT number-variables."
   ]
  },
  {
   "cell_type": "code",
   "execution_count": 16,
   "id": "fc0f2c47-0133-46fd-87c1-93e0863da9fe",
   "metadata": {},
   "outputs": [
    {
     "data": {
      "text/plain": [
       "False"
      ]
     },
     "execution_count": 16,
     "metadata": {},
     "output_type": "execute_result"
    }
   ],
   "source": [
    "'apples' > 'oranges'    # Comparing 'apples' and 'oranges' works as English letters are internally represented as numbers.\n",
    "                        # 'a' is 97, while 'o' is 111 (This should return a false)\n",
    "3 > 10.5                # This will return a false, naturally"
   ]
  },
  {
   "attachments": {},
   "cell_type": "markdown",
   "id": "046e43a4",
   "metadata": {},
   "source": [
    "## 2.1 Asking Math questions"
   ]
  },
  {
   "cell_type": "markdown",
   "id": "89dac299-a0de-42a3-9b7f-9b294ea47327",
   "metadata": {},
   "source": [
    "The following are the symbols we can use for mathematical questions!"
   ]
  },
  {
   "cell_type": "markdown",
   "id": "07886dc1-efed-4614-bae8-5f383624b2cb",
   "metadata": {
    "jp-MarkdownHeadingCollapsed": true
   },
   "source": [
    "|Question/Condition + Symbol|Python Symbols|\n",
    "|:---|---:|\n",
    "|Equals (=)|==|\n",
    "|Not Equal to (=/=)|!=|\n",
    "|Less than (<)|<|\n",
    "|Greater than (>)|>|\n",
    "|Less than or equal (≤)|<=|\n",
    "|Greater than or equal (≥)|>=|  \n",
    "The following syntax are also accepted:"
   ]
  },
  {
   "cell_type": "code",
   "execution_count": 17,
   "id": "4e00afe9-3f12-4b52-a43f-492e4e1f5be5",
   "metadata": {},
   "outputs": [
    {
     "ename": "NameError",
     "evalue": "name 'x' is not defined",
     "output_type": "error",
     "traceback": [
      "\u001b[1;31m---------------------------------------------------------------------------\u001b[0m",
      "\u001b[1;31mNameError\u001b[0m                                 Traceback (most recent call last)",
      "Cell \u001b[1;32mIn[17], line 1\u001b[0m\n\u001b[1;32m----> 1\u001b[0m \u001b[43mx\u001b[49m \u001b[38;5;241m>\u001b[39m \u001b[38;5;241m5\u001b[39m \u001b[38;5;129;01mand\u001b[39;00m x \u001b[38;5;241m<\u001b[39m \u001b[38;5;241m15\u001b[39m\n\u001b[0;32m      2\u001b[0m (x \u001b[38;5;241m>\u001b[39m \u001b[38;5;241m5\u001b[39m) \u001b[38;5;129;01mand\u001b[39;00m (x \u001b[38;5;241m<\u001b[39m \u001b[38;5;241m15\u001b[39m)\n\u001b[0;32m      3\u001b[0m \u001b[38;5;241m5\u001b[39m \u001b[38;5;241m<\u001b[39m x \u001b[38;5;241m<\u001b[39m \u001b[38;5;241m15\u001b[39m\n",
      "\u001b[1;31mNameError\u001b[0m: name 'x' is not defined"
     ]
    }
   ],
   "source": [
    "x > 5 and x < 15\n",
    "(x > 5) and (x < 15)\n",
    "5 < x < 15\n",
    "# These are all ways to represent the check whether x is between 5 and 15. (To a math major, the last one is hella intuitive!)"
   ]
  },
  {
   "attachments": {},
   "cell_type": "markdown",
   "id": "bfca5130",
   "metadata": {},
   "source": [
    "# 3 Python stores information in different formats or types"
   ]
  },
  {
   "cell_type": "markdown",
   "id": "47f97b96-3d10-48aa-a487-e96e4725b0ef",
   "metadata": {},
   "source": [
    "Note the following ways to store information for efficiency.  \n",
    "These utilise the function 'type( )' to ask Python how it is storing the information."
   ]
  },
  {
   "cell_type": "code",
   "execution_count": 25,
   "id": "5e824af7-5cc5-437c-8a4a-3c13026b2c18",
   "metadata": {},
   "outputs": [
    {
     "name": "stdout",
     "output_type": "stream",
     "text": [
      "1 <class 'int'>\n",
      "1.234 <class 'str'>\n",
      "1.234 <class 'float'>\n",
      "(1.234+0j) <class 'complex'>\n"
     ]
    }
   ],
   "source": [
    "# Floor function (int)\n",
    "x = int(1.234)\n",
    "print(x, type(x))       # Drops the decimal portion (i.e. Floors the function)\n",
    "\n",
    "# String function (str)\n",
    "x = str(1.234)          # This classifies 1.234 as an english word.\n",
    "print(x, type(x))\n",
    "\n",
    "# Decimal number (float)\n",
    "x = float(1.234)        # This classifies 1.234 as a decimal number\n",
    "print(x, type(x))\n",
    "\n",
    "# Complex Number (complex)\n",
    "x = complex(1.234)        # This includes a complex component (though here it is 0j)\n",
    "print(x, type(x))"
   ]
  },
  {
   "cell_type": "code",
   "execution_count": 26,
   "id": "7e8778e2-8b3d-4eb7-9156-4e7c49016dca",
   "metadata": {},
   "outputs": [
    {
     "name": "stdout",
     "output_type": "stream",
     "text": [
      "1.234 <class 'str'>\n",
      "1.234 <class 'float'>\n"
     ]
    }
   ],
   "source": [
    "# Note: for string, using quotation marks provides the same effect.\n",
    "x = '1.234'              # x is now a string.\n",
    "print(x, type(x))\n",
    "\n",
    "x = float(x)             # float turns x (currently a variable) to a decimal number.\n",
    "print(x, type(x))\n",
    "# This is classified as typecasting, where we cast x to the type float."
   ]
  },
  {
   "attachments": {},
   "cell_type": "markdown",
   "id": "c9c8f5e7",
   "metadata": {},
   "source": [
    "# 4 Never compare floats directly"
   ]
  },
  {
   "attachments": {},
   "cell_type": "markdown",
   "id": "53713b93",
   "metadata": {},
   "source": [
    "## 4.1 The Problem"
   ]
  },
  {
   "cell_type": "markdown",
   "id": "22126cbc-7003-4bd1-b804-2890254aa8f2",
   "metadata": {},
   "source": [
    "The numbers in a computer are fruity for some reason and floating is always weird, leading to roundoff errors due to finite hardware :("
   ]
  },
  {
   "cell_type": "code",
   "execution_count": 27,
   "id": "c1a7385f-ddaa-403d-96bd-d3e4b3063637",
   "metadata": {},
   "outputs": [
    {
     "data": {
      "text/plain": [
       "False"
      ]
     },
     "execution_count": 27,
     "metadata": {},
     "output_type": "execute_result"
    }
   ],
   "source": [
    "a = 0.1\n",
    "a3 = 0.3\n",
    "a * 3 == a3      # To check if 0.1 x 3 = 0.3"
   ]
  },
  {
   "cell_type": "code",
   "execution_count": 29,
   "id": "b5ada4bf-80b6-454e-897a-2fa29f7cc633",
   "metadata": {},
   "outputs": [
    {
     "data": {
      "text/plain": [
       "'0.29999999999999999'"
      ]
     },
     "execution_count": 29,
     "metadata": {},
     "output_type": "execute_result"
    }
   ],
   "source": [
    "# We will now check f to the 17th decimal place to see what went wrong\n",
    "f'{0.3:.17f}'"
   ]
  },
  {
   "cell_type": "code",
   "execution_count": 30,
   "id": "a737f212-1ee8-4020-982a-4d0d22893d1a",
   "metadata": {},
   "outputs": [],
   "source": [
    "#Bruh"
   ]
  },
  {
   "attachments": {},
   "cell_type": "markdown",
   "id": "3461b950",
   "metadata": {},
   "source": [
    "## 4.2 A solution"
   ]
  },
  {
   "cell_type": "markdown",
   "id": "70b4556b-5e79-4bd4-bfe7-7a08635f47dd",
   "metadata": {},
   "source": [
    "To get around these types of issues, we will check if the variable is **close** to the expected value instead of comparing them directly!"
   ]
  },
  {
   "cell_type": "code",
   "execution_count": 31,
   "id": "980d8e27-564d-4d74-8f87-867de43315d9",
   "metadata": {},
   "outputs": [
    {
     "data": {
      "text/plain": [
       "True"
      ]
     },
     "execution_count": 31,
     "metadata": {},
     "output_type": "execute_result"
    }
   ],
   "source": [
    "eps = 1E-10\n",
    "abs(a * 3 - a3) < eps\n"
   ]
  },
  {
   "cell_type": "markdown",
   "id": "74d199c4-0f47-4066-a977-c32a1bfe9562",
   "metadata": {},
   "source": [
    "In case anyone asks, this reminds me of the _epsilon-delta definition of limits_, sorta like how if the number you're looking at is close enough to the desired neighbourhood of the other variable for a specific value, you've proven the limit."
   ]
  },
  {
   "cell_type": "markdown",
   "id": "b8cc748f-29f7-4929-9b94-19625ada6f94",
   "metadata": {},
   "source": [
    "The alternative to this is to use Numpy!"
   ]
  },
  {
   "cell_type": "code",
   "execution_count": 35,
   "id": "5e133237-f4d4-466f-a2f3-9a24a4363c01",
   "metadata": {},
   "outputs": [
    {
     "data": {
      "text/plain": [
       "np.True_"
      ]
     },
     "execution_count": 35,
     "metadata": {},
     "output_type": "execute_result"
    }
   ],
   "source": [
    "import numpy as np\n",
    "np.isclose(a * 3, a3)"
   ]
  },
  {
   "attachments": {},
   "cell_type": "markdown",
   "id": "14c39374",
   "metadata": {},
   "source": [
    "# 5 Combining English and variables"
   ]
  },
  {
   "cell_type": "markdown",
   "id": "318c22c3-15c6-4bf1-8b88-f2db340ff5a6",
   "metadata": {},
   "source": [
    "We can combine text and variables for doing all sorts of thing like automating personalised emails to a large class.  \n",
    "The following will illustrate how it works:"
   ]
  },
  {
   "cell_type": "code",
   "execution_count": 43,
   "id": "a316e471-3008-43dc-8e66-c6d945fe416c",
   "metadata": {},
   "outputs": [
    {
     "name": "stdout",
     "output_type": "stream",
     "text": [
      "Hello Batman!\n",
      "Hello BATMAN!\n"
     ]
    }
   ],
   "source": [
    "name = 'Batman'\n",
    "print(f'Hello {name}!')           # Print Hello name(var)\n",
    "print(f'Hello {name.upper()}!')   # Print Hello NAME(var) (The .upper CAPS it)"
   ]
  },
  {
   "cell_type": "code",
   "execution_count": 42,
   "id": "867773e2-a691-4b68-9c2c-ac5da57f4612",
   "metadata": {},
   "outputs": [
    {
     "name": "stdout",
     "output_type": "stream",
     "text": [
      "The value of 10 squared is 100!\n"
     ]
    }
   ],
   "source": [
    "x = 10t\n",
    "print(f'The value of {x} squared is {x**2}!')\n",
    "# the purpose of the 'f' is for string interpolation or called the f-string (haha) \n",
    "# f-string or the formatted string literals allows for dynamic formatting, in essence makes it faster. "
   ]
  },
  {
   "cell_type": "markdown",
   "id": "8a64727a-b111-41d4-b7b5-43ab9d0a2c5c",
   "metadata": {},
   "source": [
    "Note that using the f-string or in other words, whatever is inside f'{}', can be formatted for wtv purposes needed."
   ]
  },
  {
   "cell_type": "code",
   "execution_count": 46,
   "id": "0303e51c-406e-4ec3-bfec-9171f5d35cbc",
   "metadata": {},
   "outputs": [
    {
     "name": "stdout",
     "output_type": "stream",
     "text": [
      "Bruce Wayne is Batman.\n"
     ]
    }
   ],
   "source": [
    "text = 'Bruce Wayne is Batman.' \n",
    "print(f'{text}')                   # f-string used to format texts (Strings)"
   ]
  },
  {
   "cell_type": "code",
   "execution_count": 47,
   "id": "76df550f-8e00-402b-8ff3-a3f695728b42",
   "metadata": {},
   "outputs": [
    {
     "name": "stdout",
     "output_type": "stream",
     "text": [
      "        Bruce Wayne is Batman.\n",
      "    Bruce Wayne is Batman.    \n",
      "Bruce Wayne is Batman.        \n"
     ]
    }
   ],
   "source": [
    "print(f'{text:>30}')                # A block of 30 characters, aligned right.\n",
    "                                    # '>' denotes aligned right, '30' denotes 30 characters \n",
    "\n",
    "print(f'{text:^30}')                # A block of 30 characters, aligned centre.\n",
    "                                    # '^' denotes aligned centre, '30' for 30 characters\n",
    "\n",
    "print(f'{text:<30}')                # A block of 30 characters, aligned left.\n",
    "                                    # '<' denotes aligned left, '30' for 30 characters"
   ]
  },
  {
   "cell_type": "markdown",
   "id": "cf5d7fd7-a144-47f7-9220-27339c4e34eb",
   "metadata": {},
   "source": [
    "The f-string can be also be used to format numbers."
   ]
  },
  {
   "cell_type": "code",
   "execution_count": 50,
   "id": "8e076b5f-3cf5-468b-be31-6888a57f0f30",
   "metadata": {},
   "outputs": [
    {
     "name": "stdout",
     "output_type": "stream",
     "text": [
      "The cube of pi to 6 decimal places is 31.006277\n"
     ]
    }
   ],
   "source": [
    "print(f'The cube of pi to 6 decimal places is {np.pi**3:.6f}')       # np.pi for pi, **3 for power of 3\n",
    "                                                                     # :.6f denotes float to 6 decimal places"
   ]
  },
  {
   "cell_type": "code",
   "execution_count": 51,
   "id": "1b1bd38a-f985-44bd-bebf-9eabe61182e3",
   "metadata": {},
   "outputs": [
    {
     "name": "stdout",
     "output_type": "stream",
     "text": [
      "The cube of pi to 6 decimal places is 3.100628e+01\n"
     ]
    }
   ],
   "source": [
    "print(f'The cube of pi to 6 decimal places is {np.pi**3:.6e}')       # np.pi for pi, **3 for power of 3\n",
    "                                                                     # :.6e denotes round to 6dp, in standard form"
   ]
  },
  {
   "attachments": {},
   "cell_type": "markdown",
   "id": "ea62b035",
   "metadata": {},
   "source": [
    "## 5.1 Structure of f-strings"
   ]
  },
  {
   "cell_type": "markdown",
   "id": "74c60c33-337c-4f47-8196-e5680b0d5ef5",
   "metadata": {},
   "source": [
    "To format a structure of an f-string, use the following structure: **{X:>0Y.ZW}**   \n",
    "The following will indicate how the different parts function in the formatting:\n",
    "|Letter|Action|Possible Options|\n",
    "|:---|:---:|---:|\n",
    "|X|Variable to Format|Can be a number or a string|\n",
    "|>|Alignment of string|<ul><li><: Left Justified </li><li>^: Centre Justified</li><li>>: Right Justified</li><ul>|\n",
    "|0|Use 0's to pad the spaces|Note: You can use spaces|\n",
    "|Y|Total number of characters needed to format||\n",
    "|Z|Number of decimal places||\n",
    "|W|Specifies the type of variable to format it to|<ul><li>f: Float</li><li>d: integer</li><li>s: string</li><li>g: asks pyhton to figure it out</li><ul>|\n"
   ]
  },
  {
   "attachments": {},
   "cell_type": "markdown",
   "id": "15c4e3d6",
   "metadata": {},
   "source": [
    "# 6 Escape sequences"
   ]
  },
  {
   "cell_type": "markdown",
   "id": "dd8aecd6-e5a2-45f5-9905-025b8a95bcf3",
   "metadata": {},
   "source": [
    "The following are used to break a line and add a tab, etc. (Useful for english)"
   ]
  },
  {
   "cell_type": "code",
   "execution_count": 53,
   "id": "e0e51115-a854-4156-8283-85e3812d4401",
   "metadata": {},
   "outputs": [
    {
     "name": "stdout",
     "output_type": "stream",
     "text": [
      "Line 1\n",
      "\tLine 2\n",
      "\t\tLine 3\n"
     ]
    }
   ],
   "source": [
    "print('Line 1\\n\\tLine 2\\n\\t\\tLine 3')\n",
    "# Note that \\n denotes the command to break line\n",
    "# Note also that \\t indicates Horizontal tab"
   ]
  },
  {
   "cell_type": "markdown",
   "id": "3c716cbf-99a8-491b-8bbe-ea404ccec90e",
   "metadata": {},
   "source": [
    "The following table contains some of the useful escape sequences:\n",
    "|Escape sequence|Meaning|\n",
    "|:---|---:|\n",
    "|\\'| Single quote|\n",
    "|\\\\|Backslash|\n",
    "|\\n|Newline|\n",
    "|\\t|Horizontal tab|\n",
    "The bottom will showcase them in all their glory!"
   ]
  },
  {
   "cell_type": "code",
   "execution_count": 54,
   "id": "ecb478cb-b002-41c4-ab2e-269b163f378a",
   "metadata": {},
   "outputs": [
    {
     "name": "stdout",
     "output_type": "stream",
     "text": [
      "You're twenty years old\n",
      "A\\B\\C\n",
      "A\n",
      "B\n",
      "C\n",
      "A\tB\tC\n"
     ]
    }
   ],
   "source": [
    "print('You\\'re twenty years old')     # Now I can use quotation marks without fear!\n",
    "print('A\\\\B\\\\C')                      # Backslashes for you, Backslashes for you, Backslashes for EVERYONE :D\n",
    "print('A\\nB\\nC')                      # New line for all of them caz they stinky\n",
    "print('A\\tB\\tC')                      # Horizontal tabs caz social distancing is a thing!"
   ]
  },
  {
   "attachments": {},
   "cell_type": "markdown",
   "id": "966ec9b6",
   "metadata": {},
   "source": [
    "## 6.1 Self-documenting f-strings"
   ]
  },
  {
   "cell_type": "markdown",
   "id": "ae8167f3-8aff-47f7-97b3-600136f4a200",
   "metadata": {},
   "source": [
    "f-strings are useful because it offers a compact way to print the variable and the value by itself.  \n",
    "See below!!"
   ]
  },
  {
   "cell_type": "code",
   "execution_count": 56,
   "id": "ca44d10b-22bd-4c85-b9d7-2f86da65f880",
   "metadata": {},
   "outputs": [
    {
     "name": "stdout",
     "output_type": "stream",
     "text": [
      "x=42 and y=24\n"
     ]
    }
   ],
   "source": [
    "x, y = 42, 24\n",
    "print(f'{x=} and {y=}')       # Prints out x=... and y=... | Very compact, Very demure!"
   ]
  },
  {
   "cell_type": "code",
   "execution_count": 57,
   "id": "f4950873-a227-4de0-a311-c76636401dbf",
   "metadata": {},
   "outputs": [
    {
     "name": "stdout",
     "output_type": "stream",
     "text": [
      "x=8.400 and y=4.800000\n"
     ]
    }
   ],
   "source": [
    "x, y= 42/5, 24/5\n",
    "print(f'{x=:.3f} and {y=:.6f}')  # Recall that .3f floats x to 3dp, .6f floats y to 6dp"
   ]
  },
  {
   "attachments": {},
   "cell_type": "markdown",
   "id": "f98f86c3",
   "metadata": {},
   "source": [
    "# 7 Computers read = from Right to Left!"
   ]
  },
  {
   "cell_type": "markdown",
   "id": "ad129ec6-5af9-4606-9342-79d89289253f",
   "metadata": {},
   "source": [
    "The following is how we want to use x = 40, and y = x + 2 to find y (in math)"
   ]
  },
  {
   "cell_type": "code",
   "execution_count": 63,
   "id": "04b92eb4-1254-4ab4-ab58-5bfd5192c8eb",
   "metadata": {},
   "outputs": [
    {
     "name": "stdout",
     "output_type": "stream",
     "text": [
      "40 42\n"
     ]
    }
   ],
   "source": [
    "x = 40\n",
    "y = x + 2\n",
    "print(x,y)          # Note: This works for computing too"
   ]
  },
  {
   "cell_type": "code",
   "execution_count": 64,
   "id": "a73be04f-54e6-4b15-a10e-d96d31e8ec28",
   "metadata": {},
   "outputs": [
    {
     "name": "stdout",
     "output_type": "stream",
     "text": [
      "42\n"
     ]
    }
   ],
   "source": [
    "# How python works it out is as follows:\n",
    "y = 40\n",
    "y = y + 2\n",
    "print(y)\n",
    "# Take note that only the latest variable will be taken."
   ]
  },
  {
   "cell_type": "code",
   "execution_count": 65,
   "id": "56115262-c826-4bea-ab0b-39ea0ea43cb1",
   "metadata": {},
   "outputs": [
    {
     "name": "stdout",
     "output_type": "stream",
     "text": [
      "10 10\n"
     ]
    }
   ],
   "source": [
    "x = y = 10   # This is mathematically sound\n",
    "print(x,y) "
   ]
  },
  {
   "attachments": {},
   "cell_type": "markdown",
   "id": "e138162e",
   "metadata": {},
   "source": [
    "# 8 Shorter and Cleaner Code"
   ]
  },
  {
   "cell_type": "markdown",
   "id": "3eb5a3a7-7c8e-42bd-b051-cb8a1626f2db",
   "metadata": {},
   "source": [
    "There are shorter syntax for the previous points that will make code neater.  \n",
    "Although you may not use it, still it's good to understand it."
   ]
  },
  {
   "cell_type": "code",
   "execution_count": 68,
   "id": "bcd547d4-27bd-4728-837c-213822199d6a",
   "metadata": {},
   "outputs": [
    {
     "name": "stdout",
     "output_type": "stream",
     "text": [
      "42 42\n"
     ]
    }
   ],
   "source": [
    "# Consider the following:\n",
    "y = 40\n",
    "y = y + 2\n",
    "x = 40\n",
    "x += 2\n",
    "print(y, x)"
   ]
  },
  {
   "cell_type": "markdown",
   "id": "7ef86d82-311a-47f5-af04-c254525c07ab",
   "metadata": {},
   "source": [
    "Thus there exists a shorter way to express typical expressions:\n",
    "||Long form|Standard form|\n",
    "|:---|:---:|---:|\n",
    "|Addition|y = y+2|y += 2|\n",
    "|Subtraction|y = y-2|y -= 2|\n",
    "|Multiplication|y = y*2|y* = 2|\n",
    "|Division|y = y/2|y /= 2|\n",
    "|Exponentiation|y = y**2|y **= 2|\n"
   ]
  },
  {
   "cell_type": "code",
   "execution_count": 71,
   "id": "0c959912-a001-4556-81a4-59861a1295c6",
   "metadata": {},
   "outputs": [
    {
     "name": "stdout",
     "output_type": "stream",
     "text": [
      "16 16\n"
     ]
    }
   ],
   "source": [
    "# Ignore, this is personal testing\n",
    "x = 4\n",
    "x = x**2\n",
    "y = 4\n",
    "y **= 2\n",
    "print(x,y)"
   ]
  },
  {
   "attachments": {},
   "cell_type": "markdown",
   "id": "3e42d71e",
   "metadata": {},
   "source": [
    "# 9 Python can be a prima-donna."
   ]
  },
  {
   "cell_type": "markdown",
   "id": "94322dd3-407e-4300-ab8a-6abd98f25a20",
   "metadata": {},
   "source": [
    "Python is a diva! Debug!"
   ]
  },
  {
   "attachments": {},
   "cell_type": "markdown",
   "id": "3c699e61",
   "metadata": {},
   "source": [
    "# 10 Best Practices for Scientific Computing"
   ]
  },
  {
   "cell_type": "markdown",
   "id": "98feceb8-592d-4b83-a4f7-896b5d413048",
   "metadata": {},
   "source": [
    "- Write programs for people to understand!  \n",
    "- Optimise code ONLY AFTER it works!  \n",
    "- Document the design & purpose, not the mechanics.\n",
    "- Collaborate!"
   ]
  },
  {
   "attachments": {},
   "cell_type": "markdown",
   "id": "87922708",
   "metadata": {},
   "source": [
    "# 11 Looking for help"
   ]
  },
  {
   "cell_type": "code",
   "execution_count": null,
   "id": "665e8d77-4dd5-4998-8f8b-430e45981e00",
   "metadata": {},
   "outputs": [],
   "source": [
    "# If need help, you can use 'help(print)'\n",
    "# Though usually, go search for it online."
   ]
  },
  {
   "attachments": {},
   "cell_type": "markdown",
   "id": "87819e52",
   "metadata": {},
   "source": [
    "## References"
   ]
  },
  {
   "attachments": {},
   "cell_type": "markdown",
   "id": "008955bc",
   "metadata": {},
   "source": [
    "## Footnotes"
   ]
  }
 ],
 "metadata": {
  "kernelspec": {
   "display_name": "Python 3 (ipykernel)",
   "language": "python",
   "name": "python3"
  },
  "language_info": {
   "codemirror_mode": {
    "name": "ipython",
    "version": 3
   },
   "file_extension": ".py",
   "mimetype": "text/x-python",
   "name": "python",
   "nbconvert_exporter": "python",
   "pygments_lexer": "ipython3",
   "version": "3.12.3"
  },
  "toc": {
   "base_numbering": 1,
   "nav_menu": {},
   "number_sections": true,
   "sideBar": true,
   "skip_h1_title": false,
   "title_cell": "Table of Contents",
   "title_sidebar": "Contents",
   "toc_cell": false,
   "toc_position": {},
   "toc_section_display": true,
   "toc_window_display": false
  },
  "vscode": {
   "interpreter": {
    "hash": "31f2aee4e71d21fbe5cf8b01ff0e069b9275f58929596ceb00d14d90e3e16cd6"
   }
  }
 },
 "nbformat": 4,
 "nbformat_minor": 5
}
