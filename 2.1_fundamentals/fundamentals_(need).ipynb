{
 "cells": [
  {
   "attachments": {},
   "cell_type": "markdown",
   "id": "123456",
   "metadata": {},
   "source": [
    "<div style=\"text-align:left;font-size:2em\"><span style=\"font-weight:bolder;font-size:1.25em\">SP2273 | Learning Portfolio</span><br><br><span style=\"font-weight:bold;color:darkred\">Fundamentals (Need)</span></div>"
   ]
  },
  {
   "attachments": {},
   "cell_type": "markdown",
   "id": "976ad25d",
   "metadata": {},
   "source": [
    "# What to expect in this chapter"
   ]
  },
  {
   "attachments": {},
   "cell_type": "markdown",
   "id": "202e4e3f",
   "metadata": {},
   "source": [
    "# 1 Functions"
   ]
  },
  {
   "cell_type": "code",
   "execution_count": 1,
   "id": "0d7dcc1c-a3b0-4b75-919a-1a284ad445d9",
   "metadata": {},
   "outputs": [
    {
     "name": "stdout",
     "output_type": "stream",
     "text": [
      "Hello World!\n"
     ]
    }
   ],
   "source": [
    "print('Hello World!')"
   ]
  },
  {
   "cell_type": "markdown",
   "id": "2add13e8-16d1-4de6-835e-d49be88cbf50",
   "metadata": {},
   "source": [
    "print() is a function, 'Hello World!' is the argument (Note: Parantheses always follows a function '()')"
   ]
  },
  {
   "attachments": {},
   "cell_type": "markdown",
   "id": "9843f059",
   "metadata": {},
   "source": [
    "# 2 Python is interpreted"
   ]
  },
  {
   "cell_type": "markdown",
   "id": "1a91cddc-64ed-4e42-ba84-7952a6d180da",
   "metadata": {},
   "source": [
    "The interpreter works sequentially, one command at a time. (From top to bottom)  \n",
    "Note: if there is an error, the process will stop (look all the way at the bottom for the source)"
   ]
  },
  {
   "cell_type": "code",
   "execution_count": 2,
   "id": "50df5883-c813-46d3-ba6f-ce86e9b313d3",
   "metadata": {},
   "outputs": [
    {
     "name": "stdout",
     "output_type": "stream",
     "text": [
      "Hello world\n",
      "Hello World again!!\n"
     ]
    }
   ],
   "source": [
    "print('Hello world')\n",
    "print('Hello World again!!')"
   ]
  },
  {
   "attachments": {},
   "cell_type": "markdown",
   "id": "32d72d0c",
   "metadata": {},
   "source": [
    "# 3 Python is sensitive."
   ]
  },
  {
   "cell_type": "markdown",
   "id": "bd9e5ccb-d4ac-4e25-b9ec-1009a99196c9",
   "metadata": {},
   "source": [
    "Case sensitive!!! 'Print()' is different from 'print()'"
   ]
  },
  {
   "cell_type": "code",
   "execution_count": null,
   "id": "879a54ab-442e-4b67-ade6-c09550885ffb",
   "metadata": {},
   "outputs": [],
   "source": [
    "print('Hello world')\n",
    "Print('Hello world')"
   ]
  },
  {
   "attachments": {},
   "cell_type": "markdown",
   "id": "33c16bcf",
   "metadata": {},
   "source": [
    "# 4 Comments"
   ]
  },
  {
   "cell_type": "code",
   "execution_count": 3,
   "id": "d5f3aabe-2d22-4680-a0b6-15acb5d904a9",
   "metadata": {},
   "outputs": [
    {
     "name": "stdout",
     "output_type": "stream",
     "text": [
      "one\n"
     ]
    }
   ],
   "source": [
    "# (Use of '#' to indicate comment)\n",
    "# This means that in code, the intepreter ignores this line\n",
    "print('one') # this is a comment (yes this works)\n",
    "# print('Two') <---- The interpreter will ignore this\n",
    "                      # note this works too!\n"
   ]
  },
  {
   "cell_type": "code",
   "execution_count": 4,
   "id": "d5c847ee-5e0e-4cab-9d2b-e982929c2e29",
   "metadata": {},
   "outputs": [
    {
     "name": "stdout",
     "output_type": "stream",
     "text": [
      "Hello World\n"
     ]
    }
   ],
   "source": [
    "print(\"Hello World\")         # printing 'Hello world'\n",
    "# Note: use this feature to help your future self understand your code"
   ]
  },
  {
   "attachments": {},
   "cell_type": "markdown",
   "id": "baf50fda",
   "metadata": {},
   "source": [
    "# 5 = is not the same as =="
   ]
  },
  {
   "cell_type": "markdown",
   "id": "3084751b-76fb-43af-b775-34e410c71ea2",
   "metadata": {},
   "source": [
    "Use of '=' and '=='  \n",
    "- '=' is used to __set__ something equal"
   ]
  },
  {
   "cell_type": "code",
   "execution_count": 6,
   "id": "6fc30d56-1d65-4f60-b3b4-af07565d4a56",
   "metadata": {},
   "outputs": [],
   "source": [
    "name = 'batman'     # Make name (a variable) carry 'Batman'"
   ]
  },
  {
   "cell_type": "markdown",
   "id": "168b0ab1-23cd-4113-99cc-9015cd0630c9",
   "metadata": {},
   "source": [
    "- '==' is used to __check__ if something is equal (i.e. asking a question)"
   ]
  },
  {
   "cell_type": "code",
   "execution_count": 8,
   "id": "4f984103-359e-4bb1-8a4b-9ddb1eb299ca",
   "metadata": {},
   "outputs": [
    {
     "data": {
      "text/plain": [
       "False"
      ]
     },
     "execution_count": 8,
     "metadata": {},
     "output_type": "execute_result"
    }
   ],
   "source": [
    "name == 'Batman' # Is the variable 'name' equal to 'Batman'?\n",
    "                 # the answer given will be True or False"
   ]
  },
  {
   "attachments": {},
   "cell_type": "markdown",
   "id": "3eab6cb1",
   "metadata": {},
   "source": [
    "# 6 Use if to make decisions"
   ]
  },
  {
   "cell_type": "markdown",
   "id": "b15ca412-5f24-46ad-a0d9-9dab53e2a8b7",
   "metadata": {},
   "source": [
    "Use of __'if','then','else'__ to add conditionals to the statement.   \n",
    "Think of MA1100 and the whole truth tables thingy.  \n",
    "(if something is true ==> then it will execute. "
   ]
  },
  {
   "cell_type": "code",
   "execution_count": null,
   "id": "67640fb5-b88f-4aa8-8f48-d9810ad6fb4f",
   "metadata": {},
   "outputs": [],
   "source": [
    "name = 'Batman'\n",
    "\n",
    "if name == 'Batman':\n",
    "    print('Hello Batman!')\n",
    "else:\n",
    "    print('Hello World!')"
   ]
  },
  {
   "attachments": {},
   "cell_type": "markdown",
   "id": "8ead5729",
   "metadata": {},
   "source": [
    "# 7 Indentations (spaces) are sooo IMPORTANT!"
   ]
  },
  {
   "attachments": {},
   "cell_type": "markdown",
   "id": "ed1e1fb8",
   "metadata": {},
   "source": [
    "# 8 ‘age’ is English, age is a variable."
   ]
  },
  {
   "attachments": {},
   "cell_type": "markdown",
   "id": "07a51e1a",
   "metadata": {},
   "source": [
    "# 9 Brackets"
   ]
  },
  {
   "attachments": {},
   "cell_type": "markdown",
   "id": "fb7d256c",
   "metadata": {},
   "source": [
    "# 10 Giving Python superpowers with Packages"
   ]
  },
  {
   "attachments": {},
   "cell_type": "markdown",
   "id": "06b74a48",
   "metadata": {},
   "source": [
    "## 10.1 Some Context"
   ]
  },
  {
   "attachments": {},
   "cell_type": "markdown",
   "id": "f6d3c1dc",
   "metadata": {},
   "source": [
    "## 10.2 Importing the math package"
   ]
  },
  {
   "attachments": {},
   "cell_type": "markdown",
   "id": "249ca849",
   "metadata": {},
   "source": [
    "## 10.3 Importing the numpy package"
   ]
  },
  {
   "attachments": {},
   "cell_type": "markdown",
   "id": "bd5bf82f",
   "metadata": {},
   "source": [
    "## 10.4 Why so many packages?"
   ]
  },
  {
   "attachments": {},
   "cell_type": "markdown",
   "id": "60656747",
   "metadata": {},
   "source": [
    "# 11 The dot (.)"
   ]
  },
  {
   "attachments": {},
   "cell_type": "markdown",
   "id": "9f14707f",
   "metadata": {},
   "source": [
    "## Footnotes"
   ]
  }
 ],
 "metadata": {
  "kernelspec": {
   "display_name": "Python 3 (ipykernel)",
   "language": "python",
   "name": "python3"
  },
  "language_info": {
   "codemirror_mode": {
    "name": "ipython",
    "version": 3
   },
   "file_extension": ".py",
   "mimetype": "text/x-python",
   "name": "python",
   "nbconvert_exporter": "python",
   "pygments_lexer": "ipython3",
   "version": "3.12.3"
  },
  "toc": {
   "base_numbering": 1,
   "nav_menu": {},
   "number_sections": true,
   "sideBar": true,
   "skip_h1_title": false,
   "title_cell": "Table of Contents",
   "title_sidebar": "Contents",
   "toc_cell": false,
   "toc_position": {},
   "toc_section_display": true,
   "toc_window_display": false
  },
  "vscode": {
   "interpreter": {
    "hash": "31f2aee4e71d21fbe5cf8b01ff0e069b9275f58929596ceb00d14d90e3e16cd6"
   }
  }
 },
 "nbformat": 4,
 "nbformat_minor": 5
}
