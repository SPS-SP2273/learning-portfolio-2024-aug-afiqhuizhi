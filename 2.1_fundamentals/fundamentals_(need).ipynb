{
 "cells": [
  {
   "attachments": {},
   "cell_type": "markdown",
   "id": "123456",
   "metadata": {},
   "source": [
    "<div style=\"text-align:left;font-size:2em\"><span style=\"font-weight:bolder;font-size:1.25em\">SP2273 | Learning Portfolio</span><br><br><span style=\"font-weight:bold;color:darkred\">Fundamentals (Need)</span></div>"
   ]
  },
  {
   "attachments": {},
   "cell_type": "markdown",
   "id": "976ad25d",
   "metadata": {},
   "source": [
    "# What to expect in this chapter"
   ]
  },
  {
   "attachments": {},
   "cell_type": "markdown",
   "id": "202e4e3f",
   "metadata": {},
   "source": [
    "# 1 Functions"
   ]
  },
  {
   "cell_type": "code",
   "execution_count": 1,
   "id": "0d7dcc1c-a3b0-4b75-919a-1a284ad445d9",
   "metadata": {},
   "outputs": [
    {
     "name": "stdout",
     "output_type": "stream",
     "text": [
      "Hello World!\n"
     ]
    }
   ],
   "source": [
    "print('Hello World!')"
   ]
  },
  {
   "cell_type": "markdown",
   "id": "2add13e8-16d1-4de6-835e-d49be88cbf50",
   "metadata": {},
   "source": [
    "print() is a function, 'Hello World!' is the argument (Note: Parantheses always follows a function '()')"
   ]
  },
  {
   "attachments": {},
   "cell_type": "markdown",
   "id": "9843f059",
   "metadata": {},
   "source": [
    "# 2 Python is interpreted"
   ]
  },
  {
   "cell_type": "markdown",
   "id": "1a91cddc-64ed-4e42-ba84-7952a6d180da",
   "metadata": {},
   "source": [
    "The interpreter works sequentially, one command at a time. (From top to bottom)  \n",
    "Note: if there is an error, the process will stop (look all the way at the bottom for the source)"
   ]
  },
  {
   "cell_type": "code",
   "execution_count": 2,
   "id": "50df5883-c813-46d3-ba6f-ce86e9b313d3",
   "metadata": {},
   "outputs": [
    {
     "name": "stdout",
     "output_type": "stream",
     "text": [
      "Hello world\n",
      "Hello World again!!\n"
     ]
    }
   ],
   "source": [
    "print('Hello world')\n",
    "print('Hello World again!!')"
   ]
  },
  {
   "attachments": {},
   "cell_type": "markdown",
   "id": "32d72d0c",
   "metadata": {},
   "source": [
    "# 3 Python is sensitive."
   ]
  },
  {
   "cell_type": "markdown",
   "id": "bd9e5ccb-d4ac-4e25-b9ec-1009a99196c9",
   "metadata": {},
   "source": [
    "Case sensitive!!! 'Print()' is different from 'print()'"
   ]
  },
  {
   "cell_type": "code",
   "execution_count": null,
   "id": "879a54ab-442e-4b67-ade6-c09550885ffb",
   "metadata": {},
   "outputs": [],
   "source": [
    "print('Hello world')\n",
    "Print('Hello world')"
   ]
  },
  {
   "attachments": {},
   "cell_type": "markdown",
   "id": "33c16bcf",
   "metadata": {},
   "source": [
    "# 4 Comments"
   ]
  },
  {
   "cell_type": "code",
   "execution_count": 3,
   "id": "d5f3aabe-2d22-4680-a0b6-15acb5d904a9",
   "metadata": {},
   "outputs": [
    {
     "name": "stdout",
     "output_type": "stream",
     "text": [
      "one\n"
     ]
    }
   ],
   "source": [
    "# (Use of '#' to indicate comment)\n",
    "# This means that in code, the intepreter ignores this line\n",
    "print('one') # this is a comment (yes this works)\n",
    "# print('Two') <---- The interpreter will ignore this\n",
    "                      # note this works too!\n"
   ]
  },
  {
   "cell_type": "code",
   "execution_count": 4,
   "id": "d5c847ee-5e0e-4cab-9d2b-e982929c2e29",
   "metadata": {},
   "outputs": [
    {
     "name": "stdout",
     "output_type": "stream",
     "text": [
      "Hello World\n"
     ]
    }
   ],
   "source": [
    "print(\"Hello World\")         # printing 'Hello world'\n",
    "# Note: use this feature to help your future self understand your code"
   ]
  },
  {
   "attachments": {},
   "cell_type": "markdown",
   "id": "baf50fda",
   "metadata": {},
   "source": [
    "# 5 = is not the same as =="
   ]
  },
  {
   "cell_type": "markdown",
   "id": "3084751b-76fb-43af-b775-34e410c71ea2",
   "metadata": {},
   "source": [
    "Use of '=' and '=='  \n",
    "- '=' is used to __set__ something equal"
   ]
  },
  {
   "cell_type": "code",
   "execution_count": 6,
   "id": "6fc30d56-1d65-4f60-b3b4-af07565d4a56",
   "metadata": {},
   "outputs": [],
   "source": [
    "name = 'batman'     # Make name (a variable) carry 'Batman'"
   ]
  },
  {
   "cell_type": "markdown",
   "id": "168b0ab1-23cd-4113-99cc-9015cd0630c9",
   "metadata": {},
   "source": [
    "- '==' is used to __check__ if something is equal (i.e. asking a question)"
   ]
  },
  {
   "cell_type": "code",
   "execution_count": 8,
   "id": "4f984103-359e-4bb1-8a4b-9ddb1eb299ca",
   "metadata": {},
   "outputs": [
    {
     "data": {
      "text/plain": [
       "False"
      ]
     },
     "execution_count": 8,
     "metadata": {},
     "output_type": "execute_result"
    }
   ],
   "source": [
    "name == 'Batman' # Is the variable 'name' equal to 'Batman'?\n",
    "                 # the answer given will be True or False"
   ]
  },
  {
   "attachments": {},
   "cell_type": "markdown",
   "id": "3eab6cb1",
   "metadata": {},
   "source": [
    "# 6 Use if to make decisions"
   ]
  },
  {
   "cell_type": "markdown",
   "id": "b15ca412-5f24-46ad-a0d9-9dab53e2a8b7",
   "metadata": {},
   "source": [
    "Use of __'if','then','else'__ to add conditionals to the statement.   \n",
    "Think of MA1100 and the whole truth tables thingy.  \n",
    "(if something is true ==> then it will execute. Consquently 'if' something is false, the 'else' will happen)"
   ]
  },
  {
   "cell_type": "code",
   "execution_count": 1,
   "id": "67640fb5-b88f-4aa8-8f48-d9810ad6fb4f",
   "metadata": {},
   "outputs": [
    {
     "name": "stdout",
     "output_type": "stream",
     "text": [
      "Hello Batman!\n"
     ]
    }
   ],
   "source": [
    "name = 'Batman'\n",
    "\n",
    "if name == 'Batman':\n",
    "    print('Hello Batman!')\n",
    "else:\n",
    "    print('Hello World!')"
   ]
  },
  {
   "attachments": {},
   "cell_type": "markdown",
   "id": "8ead5729",
   "metadata": {},
   "source": [
    "# 7 Indentations (spaces) are sooo IMPORTANT!"
   ]
  },
  {
   "cell_type": "markdown",
   "id": "5634a555-bb3b-4fb7-a261-bdc081d4bdfa",
   "metadata": {},
   "source": [
    "Note the following examples:  \n",
    "The following will work:"
   ]
  },
  {
   "cell_type": "code",
   "execution_count": 2,
   "id": "1b3f14d9-5cec-4455-9711-254521482584",
   "metadata": {},
   "outputs": [
    {
     "name": "stdout",
     "output_type": "stream",
     "text": [
      "10\n"
     ]
    }
   ],
   "source": [
    "x = 10\n",
    "print(x) # this WILL work"
   ]
  },
  {
   "cell_type": "markdown",
   "id": "454e3985-745f-4ef1-a866-3188b8ad5cf1",
   "metadata": {},
   "source": [
    "The following will __NOT__ work:"
   ]
  },
  {
   "cell_type": "code",
   "execution_count": 4,
   "id": "3d3b7a45-c8a9-459b-9380-47d40def56de",
   "metadata": {},
   "outputs": [
    {
     "ename": "IndentationError",
     "evalue": "unexpected indent (644350092.py, line 2)",
     "output_type": "error",
     "traceback": [
      "\u001b[1;36m  Cell \u001b[1;32mIn[4], line 2\u001b[1;36m\u001b[0m\n\u001b[1;33m    print(x) # Note the extra space infront of the 'print'\u001b[0m\n\u001b[1;37m    ^\u001b[0m\n\u001b[1;31mIndentationError\u001b[0m\u001b[1;31m:\u001b[0m unexpected indent\n"
     ]
    }
   ],
   "source": [
    "x = 10\n",
    " print(x) # Note the extra space infront of the 'print'"
   ]
  },
  {
   "cell_type": "markdown",
   "id": "2eba358d-ffd3-455e-8693-cb5478d7b9f5",
   "metadata": {},
   "source": [
    "Note: Use the tab key instead of the spacebar."
   ]
  },
  {
   "attachments": {},
   "cell_type": "markdown",
   "id": "ed1e1fb8",
   "metadata": {},
   "source": [
    "# 8 ‘age’ is English, age is a variable."
   ]
  },
  {
   "cell_type": "markdown",
   "id": "fcf632c3-bf39-429b-b42a-e38bf9d76f3c",
   "metadata": {},
   "source": [
    "Usage of variables is required all the time!! You can give any name to a variable. (e.g. a = 24 or age = 24)  \n",
    "Note the following conventions:  "
   ]
  },
  {
   "cell_type": "code",
   "execution_count": 6,
   "id": "58abc16b-6d2b-4a43-81ec-58e3936edcf2",
   "metadata": {},
   "outputs": [
    {
     "name": "stdout",
     "output_type": "stream",
     "text": [
      "10\n",
      "age\n"
     ]
    }
   ],
   "source": [
    "age = 10\n",
    "print(age)      # Print the value of the variable age\n",
    "print(\"age\")    # Print the English word 'age'"
   ]
  },
  {
   "cell_type": "markdown",
   "id": "696f6a0d-5186-4eab-8933-54d1baea79cf",
   "metadata": {},
   "source": [
    "Note: It is good to be consistent between the use of '', \"\". Both are okay to be used."
   ]
  },
  {
   "attachments": {},
   "cell_type": "markdown",
   "id": "07a51e1a",
   "metadata": {},
   "source": [
    "# 9 Brackets"
   ]
  },
  {
   "cell_type": "markdown",
   "id": "9d83298f-12ad-46a8-9d6a-25599810f2d2",
   "metadata": {},
   "source": [
    "Python uses all '( )', '[ ]', '{ }'\n",
    "- '( )' is used for function, mathematics."
   ]
  },
  {
   "cell_type": "code",
   "execution_count": 11,
   "id": "dd3a1f75-c628-4f84-b0cb-4a88f9550960",
   "metadata": {},
   "outputs": [
    {
     "name": "stdout",
     "output_type": "stream",
     "text": [
      "Hello!\n"
     ]
    },
    {
     "data": {
      "text/plain": [
       "15"
      ]
     },
     "execution_count": 11,
     "metadata": {},
     "output_type": "execute_result"
    }
   ],
   "source": [
    "print('Hello!')     # In Functions\n",
    "(1 + 2) * 5         # For math"
   ]
  },
  {
   "cell_type": "markdown",
   "id": "3b3859ea-a287-4848-87d5-3343e4e18e28",
   "metadata": {},
   "source": [
    "- '[ ]' is used for lists of data."
   ]
  },
  {
   "cell_type": "code",
   "execution_count": 12,
   "id": "f80eb496-766c-483e-9d3f-1614ca391d72",
   "metadata": {},
   "outputs": [],
   "source": [
    "py_list = [1, 2, 3, 4, 5]   # a 1-Dim list\n",
    "\n",
    "py_list_2 = [               # a 2-Dim list\n",
    "                [1, \"A\"],\n",
    "                [2, \"B\"],\n",
    "                [3, \"C\"],\n",
    "                [4, \"D\"],\n",
    "                [5, \"E\"]\n",
    "]"
   ]
  },
  {
   "cell_type": "markdown",
   "id": "a08f0018-ee64-4677-8c08-73536a595a7b",
   "metadata": {},
   "source": [
    "- '{ }' is used to store data in a 'thing' called dictionary."
   ]
  },
  {
   "cell_type": "code",
   "execution_count": 1,
   "id": "9bc11731-7d45-46ab-9b1f-67bd8a08b455",
   "metadata": {},
   "outputs": [],
   "source": [
    "personal_info = {\n",
    "    'Names': 'Batman',\n",
    "    'Real Name': 'Bruce Wayne',\n",
    "    'Age': 55,\n",
    "    'Affiliation': 'Justice League',\n",
    "    'Universe': 'DC'\n",
    "}\n",
    "# Note: The ':' indicates Dictionary!"
   ]
  },
  {
   "cell_type": "markdown",
   "id": "9b1237c6-7b7c-479b-bfcd-9b47d46ebdc4",
   "metadata": {},
   "source": [
    "Dictionary uses a __key__ to identify a certain __value__:  \n",
    "e.g. 'Real Name' --> 'Bruce Wayne'  "
   ]
  },
  {
   "cell_type": "code",
   "execution_count": 14,
   "id": "e49b88a9-343f-4703-ac81-36531ab152c4",
   "metadata": {},
   "outputs": [
    {
     "name": "stdout",
     "output_type": "stream",
     "text": [
      "Bruce Wayne\n"
     ]
    }
   ],
   "source": [
    "print(personal_info['Real Name'])"
   ]
  },
  {
   "attachments": {},
   "cell_type": "markdown",
   "id": "fb7d256c",
   "metadata": {},
   "source": [
    "# 10 Giving Python superpowers with Packages"
   ]
  },
  {
   "attachments": {},
   "cell_type": "markdown",
   "id": "06b74a48",
   "metadata": {},
   "source": [
    "## 10.1 Some Context"
   ]
  },
  {
   "cell_type": "code",
   "execution_count": 15,
   "id": "f365ff17-c982-4efb-9c05-84020dbc6bb3",
   "metadata": {},
   "outputs": [
    {
     "data": {
      "text/plain": [
       "40.5"
      ]
     },
     "execution_count": 15,
     "metadata": {},
     "output_type": "execute_result"
    }
   ],
   "source": [
    "1 * ((2 - 3) + 4) ** 5 / 6"
   ]
  },
  {
   "cell_type": "markdown",
   "id": "b1b44dcf-e72c-46f9-87f5-95c70022d3c6",
   "metadata": {},
   "source": [
    "Note: Python is limited "
   ]
  },
  {
   "cell_type": "code",
   "execution_count": 16,
   "id": "d96e52f5-de1a-45b7-8d7b-09f0aa6c1ec2",
   "metadata": {},
   "outputs": [
    {
     "ename": "NameError",
     "evalue": "name 'sqrt' is not defined",
     "output_type": "error",
     "traceback": [
      "\u001b[1;31m---------------------------------------------------------------------------\u001b[0m",
      "\u001b[1;31mNameError\u001b[0m                                 Traceback (most recent call last)",
      "Cell \u001b[1;32mIn[16], line 1\u001b[0m\n\u001b[1;32m----> 1\u001b[0m \u001b[43msqrt\u001b[49m(\u001b[38;5;241m4\u001b[39m)    \u001b[38;5;66;03m# This doesn't work in Python!\u001b[39;00m\n",
      "\u001b[1;31mNameError\u001b[0m: name 'sqrt' is not defined"
     ]
    }
   ],
   "source": [
    "sqrt(4)    # This doesn't work in Python!"
   ]
  },
  {
   "cell_type": "markdown",
   "id": "6341370e-28a4-432f-93e1-113e6e1662d9",
   "metadata": {},
   "source": [
    "Need to import math package for more math!!"
   ]
  },
  {
   "attachments": {},
   "cell_type": "markdown",
   "id": "f6d3c1dc",
   "metadata": {},
   "source": [
    "## 10.2 Importing the math package"
   ]
  },
  {
   "cell_type": "code",
   "execution_count": null,
   "id": "4179a768-3cdf-446f-b67f-972b6839cdb5",
   "metadata": {},
   "outputs": [],
   "source": [
    "import math     # Adding(importing) the functions of the 'math' package"
   ]
  },
  {
   "cell_type": "markdown",
   "id": "7e8027b8-2758-436a-8874-169f86f0211c",
   "metadata": {},
   "source": [
    "Now can use 'sqrt( )' of the math module"
   ]
  },
  {
   "cell_type": "code",
   "execution_count": 19,
   "id": "508228be-48f5-4635-a186-8b3d52774a0d",
   "metadata": {},
   "outputs": [
    {
     "data": {
      "text/plain": [
       "2.0"
      ]
     },
     "execution_count": 19,
     "metadata": {},
     "output_type": "execute_result"
    }
   ],
   "source": [
    "import math\n",
    "math.sqrt(4)"
   ]
  },
  {
   "attachments": {},
   "cell_type": "markdown",
   "id": "249ca849",
   "metadata": {},
   "source": [
    "## 10.3 Importing the numpy package"
   ]
  },
  {
   "cell_type": "markdown",
   "id": "ab73aa9e-2c0a-4d3e-92b9-d67e97bbd661",
   "metadata": {},
   "source": [
    "math and Numpy has packages that allows for the use of sqrt( ) function.  \n",
    "We can import it with the alias ( np ) so that we can use 'np.'"
   ]
  },
  {
   "cell_type": "code",
   "execution_count": 31,
   "id": "787cb963-630a-41f1-bd5c-93d33a5f9445",
   "metadata": {},
   "outputs": [
    {
     "data": {
      "text/plain": [
       "np.float64(2.0)"
      ]
     },
     "execution_count": 31,
     "metadata": {},
     "output_type": "execute_result"
    }
   ],
   "source": [
    "import numpy as np    # Importing Numpy and giving it an alias np because we lazy\n",
    "np.sqrt(4)"
   ]
  },
  {
   "attachments": {},
   "cell_type": "markdown",
   "id": "bd5bf82f",
   "metadata": {},
   "source": [
    "## 10.4 Why so many packages?"
   ]
  },
  {
   "cell_type": "markdown",
   "id": "48a7d8b9-dd24-4184-a81c-98e7e553bece",
   "metadata": {},
   "source": [
    "The different packages are needed for different purposes!  \n",
    "Numpy can be used for processing lists of numbers.   \n",
    "E.g. use of math.sqrt( ) for single numbers, while np.sqrt( ) can be used for lists of numbers"
   ]
  },
  {
   "cell_type": "code",
   "execution_count": 32,
   "id": "b35a0926-88bd-47ca-a727-ca096b9c8a09",
   "metadata": {},
   "outputs": [
    {
     "data": {
      "text/plain": [
       "array([2., 3., 4.])"
      ]
     },
     "execution_count": 32,
     "metadata": {},
     "output_type": "execute_result"
    }
   ],
   "source": [
    "import numpy         # Note: Need to import numpy as package first\n",
    "np.sqrt([4, 9, 16])"
   ]
  },
  {
   "attachments": {},
   "cell_type": "markdown",
   "id": "60656747",
   "metadata": {},
   "source": [
    "# 11 The dot (.)"
   ]
  },
  {
   "cell_type": "markdown",
   "id": "3a445f73-752a-4ef2-bfd7-b6179123460a",
   "metadata": {},
   "source": [
    "'.' The period indicates ownership from whichever module they are using.\n",
    "Examples of ownership include:\n",
    "- math.sqrt(4) is using the sqrt() function from math.\n",
    "- np.sqrt(4) is using the sqrt() function from numpy."
   ]
  },
  {
   "cell_type": "markdown",
   "id": "dca41519-1636-462d-a0e4-e859c3c2b76e",
   "metadata": {},
   "source": [
    "Python can be accessed using the period, for example, the following will split the sentence into words."
   ]
  },
  {
   "cell_type": "code",
   "execution_count": 33,
   "id": "6c667843-068b-4d24-a8ed-4ef1a7cbde8b",
   "metadata": {},
   "outputs": [
    {
     "data": {
      "text/plain": [
       "['I', 'am', 'batman']"
      ]
     },
     "execution_count": 33,
     "metadata": {},
     "output_type": "execute_result"
    }
   ],
   "source": [
    "\"I am batman\".split()"
   ]
  },
  {
   "cell_type": "markdown",
   "id": "c3920887-470f-4a89-9325-cb5bd1642afd",
   "metadata": {},
   "source": [
    "Note that this doesn't work for any kind of strings of numbers. (Refer to below)"
   ]
  },
  {
   "cell_type": "code",
   "execution_count": 34,
   "id": "bb8809ce-84b1-4aa2-ba81-59daaf3bf7ab",
   "metadata": {},
   "outputs": [
    {
     "ename": "SyntaxError",
     "evalue": "invalid decimal literal (3897031440.py, line 1)",
     "output_type": "error",
     "traceback": [
      "\u001b[1;36m  Cell \u001b[1;32mIn[34], line 1\u001b[1;36m\u001b[0m\n\u001b[1;33m    1234.split()\u001b[0m\n\u001b[1;37m        ^\u001b[0m\n\u001b[1;31mSyntaxError\u001b[0m\u001b[1;31m:\u001b[0m invalid decimal literal\n"
     ]
    }
   ],
   "source": [
    "1234.split()"
   ]
  },
  {
   "attachments": {},
   "cell_type": "markdown",
   "id": "9f14707f",
   "metadata": {},
   "source": [
    "## Footnotes"
   ]
  }
 ],
 "metadata": {
  "kernelspec": {
   "display_name": "Python 3 (ipykernel)",
   "language": "python",
   "name": "python3"
  },
  "language_info": {
   "codemirror_mode": {
    "name": "ipython",
    "version": 3
   },
   "file_extension": ".py",
   "mimetype": "text/x-python",
   "name": "python",
   "nbconvert_exporter": "python",
   "pygments_lexer": "ipython3",
   "version": "3.12.3"
  },
  "toc": {
   "base_numbering": 1,
   "nav_menu": {},
   "number_sections": true,
   "sideBar": true,
   "skip_h1_title": false,
   "title_cell": "Table of Contents",
   "title_sidebar": "Contents",
   "toc_cell": false,
   "toc_position": {},
   "toc_section_display": true,
   "toc_window_display": false
  },
  "vscode": {
   "interpreter": {
    "hash": "31f2aee4e71d21fbe5cf8b01ff0e069b9275f58929596ceb00d14d90e3e16cd6"
   }
  }
 },
 "nbformat": 4,
 "nbformat_minor": 5
}
