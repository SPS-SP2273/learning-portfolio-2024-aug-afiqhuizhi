{
 "cells": [
  {
   "attachments": {},
   "cell_type": "markdown",
   "id": "123456",
   "metadata": {},
   "source": [
    "<div style=\"text-align:left;font-size:2em\"><span style=\"font-weight:bolder;font-size:1.25em\">SP2273 | Learning Portfolio</span><br><br><span style=\"font-weight:bold;color:darkred\">Fundamentals (Good) Exercises</span></div>"
   ]
  },
  {
   "cell_type": "markdown",
   "id": "a4f209dc-94e4-49ff-9d6b-4fa388fcccc8",
   "metadata": {},
   "source": [
    "### Exercise 1 (f-strings to the rescue)"
   ]
  },
  {
   "cell_type": "code",
   "execution_count": null,
   "id": "46c0b251-1484-41c9-853e-df87db98eac9",
   "metadata": {},
   "outputs": [],
   "source": [
    "user_input = input('Please provide me with a number?')\n",
    "print('You entered', user_input)"
   ]
  },
  {
   "cell_type": "code",
   "execution_count": null,
   "id": "05663276-7c0e-4bb4-97c6-3fab1ddfa678",
   "metadata": {},
   "outputs": [],
   "source": []
  }
 ],
 "metadata": {
  "kernelspec": {
   "display_name": "Python 3 (ipykernel)",
   "language": "python",
   "name": "python3"
  },
  "language_info": {
   "codemirror_mode": {
    "name": "ipython",
    "version": 3
   },
   "file_extension": ".py",
   "mimetype": "text/x-python",
   "name": "python",
   "nbconvert_exporter": "python",
   "pygments_lexer": "ipython3",
   "version": "3.12.3"
  },
  "toc": {
   "base_numbering": 1,
   "nav_menu": {},
   "number_sections": true,
   "sideBar": true,
   "skip_h1_title": false,
   "title_cell": "Table of Contents",
   "title_sidebar": "Contents",
   "toc_cell": false,
   "toc_position": {},
   "toc_section_display": true,
   "toc_window_display": false
  },
  "vscode": {
   "interpreter": {
    "hash": "31f2aee4e71d21fbe5cf8b01ff0e069b9275f58929596ceb00d14d90e3e16cd6"
   }
  }
 },
 "nbformat": 4,
 "nbformat_minor": 5
}
