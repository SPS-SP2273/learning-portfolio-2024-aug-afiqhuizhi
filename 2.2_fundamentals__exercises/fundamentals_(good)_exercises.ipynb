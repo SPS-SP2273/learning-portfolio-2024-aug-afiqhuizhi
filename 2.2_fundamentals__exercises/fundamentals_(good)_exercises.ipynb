{
 "cells": [
  {
   "attachments": {},
   "cell_type": "markdown",
   "id": "123456",
   "metadata": {},
   "source": [
    "<div style=\"text-align:left;font-size:2em\"><span style=\"font-weight:bolder;font-size:1.25em\">SP2273 | Learning Portfolio</span><br><br><span style=\"font-weight:bold;color:darkred\">Fundamentals (Good) Exercises</span></div>"
   ]
  },
  {
   "cell_type": "markdown",
   "id": "a4f209dc-94e4-49ff-9d6b-4fa388fcccc8",
   "metadata": {},
   "source": [
    "### Exercise 1 (f-strings to the rescue)"
   ]
  },
  {
   "cell_type": "markdown",
   "id": "2a2c5b35-6322-4ef3-9047-a62ff880e92c",
   "metadata": {},
   "source": [
    "#### Example 1"
   ]
  },
  {
   "cell_type": "code",
   "execution_count": 69,
   "id": "46c0b251-1484-41c9-853e-df87db98eac9",
   "metadata": {},
   "outputs": [
    {
     "name": "stdin",
     "output_type": "stream",
     "text": [
      "Please provide me with a number? 19\n"
     ]
    },
    {
     "name": "stdout",
     "output_type": "stream",
     "text": [
      "You entered 19\n"
     ]
    }
   ],
   "source": [
    "user_input = input('Please provide me with a number?')\n",
    "print('You entered', user_input)"
   ]
  },
  {
   "cell_type": "markdown",
   "id": "9d74b7bf-88b8-4b33-8646-0f8cbbbd7c9a",
   "metadata": {},
   "source": [
    "#### Task 1"
   ]
  },
  {
   "cell_type": "code",
   "execution_count": 70,
   "id": "0046e3b5-035f-4e9b-863d-b04cfe37e415",
   "metadata": {},
   "outputs": [
    {
     "name": "stdin",
     "output_type": "stream",
     "text": [
      "Hi there, what is your name? Afiq\n"
     ]
    },
    {
     "name": "stdout",
     "output_type": "stream",
     "text": [
      "How you doin \u001b[1mAFIQ\u001b[0m!\n"
     ]
    }
   ],
   "source": [
    "name = input('Hi there, what is your name?')\n",
    "print(f'How you doin \\033[1m{name.upper()}\\033[0m!')        # \\033[1m {X} \\033[0m is the way to format for bold"
   ]
  },
  {
   "cell_type": "markdown",
   "id": "957e6841-a836-4635-a8c9-b8bc242af25d",
   "metadata": {},
   "source": [
    "#### Task 2"
   ]
  },
  {
   "cell_type": "code",
   "execution_count": 71,
   "id": "54c08b74-33af-4243-bb90-214dde4c3f64",
   "metadata": {},
   "outputs": [
    {
     "name": "stdin",
     "output_type": "stream",
     "text": [
      "Howdy cowboy, what's your name? Afiq\n",
      "How old are you? 21\n"
     ]
    },
    {
     "name": "stdout",
     "output_type": "stream",
     "text": [
      "My name is \u001b[1mAFIQ\u001b[0m and I am \u001b[1m21\u001b[0m years old.\n"
     ]
    }
   ],
   "source": [
    "Name = input('Howdy cowboy, what\\'s your name?')\n",
    "age = input('How old are you?')\n",
    "print(f'My name is \\033[1m{Name.upper()}\\033[0m and I am \\033[1m{age}\\033[0m years old.')"
   ]
  },
  {
   "cell_type": "markdown",
   "id": "aaa694af-ad4a-40b9-bb51-2d0067532652",
   "metadata": {},
   "source": [
    "#### Task 3"
   ]
  },
  {
   "cell_type": "code",
   "execution_count": 11,
   "id": "9b157de5-f6f1-4693-bd7d-799a746822bd",
   "metadata": {},
   "outputs": [
    {
     "name": "stdout",
     "output_type": "stream",
     "text": [
      "The value of pi to 2 decimal places is: 3.14\n",
      "The value of pi to 3 decimal places is: 3.142\n",
      "The value of pi to 4 decimal places is: 3.1416\n"
     ]
    }
   ],
   "source": [
    "pi = 3.141592653589793\n",
    "print(f'The value of pi to 2 decimal places is: {pi:.2f}')\n",
    "print(f'The value of pi to 3 decimal places is: {pi:.3f}')\n",
    "print(f'The value of pi to 4 decimal places is: {pi:.4f}')"
   ]
  },
  {
   "cell_type": "markdown",
   "id": "578748e6-0e43-49fb-bb7d-448440c11783",
   "metadata": {},
   "source": [
    "#### Task 4"
   ]
  },
  {
   "cell_type": "code",
   "execution_count": 72,
   "id": "f9b2b967-6335-4241-8a40-ba22d92f91b7",
   "metadata": {},
   "outputs": [
    {
     "name": "stdout",
     "output_type": "stream",
     "text": [
      "Apple      $ 0.99\n",
      "Banana     $ 0.59\n",
      "Orange     $ 1.29\n"
     ]
    }
   ],
   "source": [
    "ap, ba, ora = 'Apple', 'Banana', 'Orange'\n",
    "pA, pB, pO = 0.99, 0.59, 1.29\n",
    "print(f'{ap: <10} $ {pA: <04}')\n",
    "print(f'{ba: <10} $ {pB: <04}')\n",
    "print(f'{ora: <10} $ {pO: <04}')"
   ]
  },
  {
   "cell_type": "markdown",
   "id": "7b54dfaf-6e4f-49c6-a380-71c8a32aed87",
   "metadata": {},
   "source": [
    "### Exercise 2 (What is your grade?)"
   ]
  },
  {
   "cell_type": "code",
   "execution_count": 59,
   "id": "e997dd12-0aab-4f8a-97e4-5b60ddb10d6d",
   "metadata": {},
   "outputs": [
    {
     "name": "stdin",
     "output_type": "stream",
     "text": [
      "What is your score? 89\n"
     ]
    },
    {
     "name": "stdout",
     "output_type": "stream",
     "text": [
      "The student's letter grade is: A\n"
     ]
    }
   ],
   "source": [
    "grade = input('What is your score?')\n",
    "try:\n",
    "    float(grade)    # Attempt to convert to float\n",
    "    g = float(grade)\n",
    "    a = 'The student\\'s letter grade is:'\n",
    "    if 70 <= g <= 100:\n",
    "        print(a, 'A')\n",
    "    elif 50 <= g < 70:\n",
    "        print(a, 'B')\n",
    "    elif 35 <= g < 50:\n",
    "        print(a, 'C')\n",
    "    else: print(a, 'Fail')\n",
    "except ValueError:  # ValueError indicates cannot turn str into float\n",
    "    print('An error occurred. Please enter a numerical value between 0 and 100.')"
   ]
  },
  {
   "cell_type": "markdown",
   "id": "60ea3d3d-ab29-4cd4-8095-be0cc470c739",
   "metadata": {},
   "source": [
    "### Exercise 3 (Debugging Code)"
   ]
  },
  {
   "cell_type": "code",
   "execution_count": 68,
   "id": "86a308a9-0490-4c94-91c1-e6afec1274ce",
   "metadata": {},
   "outputs": [
    {
     "name": "stdout",
     "output_type": "stream",
     "text": [
      "120\n",
      "Invalid input\n"
     ]
    }
   ],
   "source": [
    "def factorial(n):                                \n",
    "    if n < 0:                       # Error 1: The '>' needs to be flipped '<'\n",
    "        return \"Invalid input\"\n",
    "    elif n == 0:                    # Error 2: 0! = 1, so we need to check for n == 0\n",
    "        return 1\n",
    "    else:\n",
    "        result = 1\n",
    "        for number in range(1, n+1):\n",
    "            result *= number        # Error 3: += is to add everything, but we want to multiply everything hence *=\n",
    "        return result\n",
    "\n",
    "print(factorial(5))   # Testing, expected output: 120\n",
    "print(factorial(-1))  # Testing, expected output: Invalid input"
   ]
  },
  {
   "cell_type": "code",
   "execution_count": null,
   "id": "1cc04274-6430-4b25-b36d-fb401408d512",
   "metadata": {},
   "outputs": [],
   "source": []
  }
 ],
 "metadata": {
  "kernelspec": {
   "display_name": "Python 3 (ipykernel)",
   "language": "python",
   "name": "python3"
  },
  "language_info": {
   "codemirror_mode": {
    "name": "ipython",
    "version": 3
   },
   "file_extension": ".py",
   "mimetype": "text/x-python",
   "name": "python",
   "nbconvert_exporter": "python",
   "pygments_lexer": "ipython3",
   "version": "3.12.3"
  },
  "toc": {
   "base_numbering": 1,
   "nav_menu": {},
   "number_sections": true,
   "sideBar": true,
   "skip_h1_title": false,
   "title_cell": "Table of Contents",
   "title_sidebar": "Contents",
   "toc_cell": false,
   "toc_position": {},
   "toc_section_display": true,
   "toc_window_display": false
  },
  "vscode": {
   "interpreter": {
    "hash": "31f2aee4e71d21fbe5cf8b01ff0e069b9275f58929596ceb00d14d90e3e16cd6"
   }
  }
 },
 "nbformat": 4,
 "nbformat_minor": 5
}
