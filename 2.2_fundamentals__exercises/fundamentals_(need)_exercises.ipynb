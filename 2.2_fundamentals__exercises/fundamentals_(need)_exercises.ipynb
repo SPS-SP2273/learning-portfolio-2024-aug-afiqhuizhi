{
 "cells": [
  {
   "attachments": {},
   "cell_type": "markdown",
   "id": "123456",
   "metadata": {},
   "source": [
    "<div style=\"text-align:left;font-size:2em\"><span style=\"font-weight:bolder;font-size:1.25em\">SP2273 | Learning Portfolio</span><br><br><span style=\"font-weight:bold;color:darkred\">Fundamentals (Need) Exercises</span></div>"
   ]
  },
  {
   "cell_type": "markdown",
   "id": "9a261aca-dcb8-496d-a297-084e85bbef60",
   "metadata": {},
   "source": [
    "### Exercise 1 (Total recall?)"
   ]
  },
  {
   "cell_type": "markdown",
   "id": "ea9f4a9f-8315-47c2-a3fc-f4bc677168ca",
   "metadata": {},
   "source": [
    "Attempt:  \n",
    "|Command|Function|\n",
    "|:---|---:|\n",
    "|print()|Returns whatever in parentheses|\n",
    "|_#_|_Comments to be used in code_|\n",
    "|if, then, else|For conditional statements|\n",
    "|import|To import packages to be used|\n",
    "| = |To let a variable be equal to something|\n",
    "|==|To check if a variable is equal to something, returns 'True' or 'False'|\n",
    "|python_list|To store things in a list (use of square brackets needed)|\n",
    "|.|To denote where this is from|\n",
    "|splt()|To split sentences into individual items in a list|\n",
    "\n",
    "Other things:\n",
    "- Python reads code one line at a time\n",
    "- Spaces, Case, Parentheses mattesrs.\n",
    "- _Variables can be anything (almost)_\n",
    "- _math & numpy packages have different uses_"
   ]
  },
  {
   "cell_type": "markdown",
   "id": "66294336-d8d1-4f7a-ae46-8e239607a49b",
   "metadata": {},
   "source": [
    "### Exercise 2 (Debug me)"
   ]
  },
  {
   "cell_type": "code",
   "execution_count": 13,
   "id": "0da34d7d-eef6-49e7-a57c-56402171abf6",
   "metadata": {},
   "outputs": [
    {
     "ename": "IndentationError",
     "evalue": "unindent does not match any outer indentation level (<string>, line 4)",
     "output_type": "error",
     "traceback": [
      "\u001b[1;36m  File \u001b[1;32m<string>:4\u001b[1;36m\u001b[0m\n\u001b[1;33m    Print(x, y, z)\u001b[0m\n\u001b[1;37m                  ^\u001b[0m\n\u001b[1;31mIndentationError\u001b[0m\u001b[1;31m:\u001b[0m unindent does not match any outer indentation level\n"
     ]
    }
   ],
   "source": [
    "# Goal: To debug the following code:\n",
    "x, y = 3, 4\n",
    "        z = sqrt(x*2 + y**2)\n",
    "    Print(x, y, z)"
   ]
  },
  {
   "cell_type": "code",
   "execution_count": 14,
   "id": "f8cf20c2-a745-4279-9ef5-a2766b8840f5",
   "metadata": {},
   "outputs": [],
   "source": [
    "# Logical process:\n",
    "# Unnecessary indents, to be removed\n",
    "# to import math as sqrt is not defined without it\n",
    "# Print to be turned to print\n",
    "\n",
    "# Corrected code below:"
   ]
  },
  {
   "cell_type": "code",
   "execution_count": 15,
   "id": "0663c30b-0c69-4581-a420-c096727826f6",
   "metadata": {},
   "outputs": [
    {
     "name": "stdout",
     "output_type": "stream",
     "text": [
      "3 4 5.0\n"
     ]
    }
   ],
   "source": [
    "import math\n",
    "x, y = 3, 4\n",
    "z = math.sqrt(x**2 + y**2)\n",
    "print(x, y, z)"
   ]
  },
  {
   "cell_type": "markdown",
   "id": "a8ae8123-e2ec-442d-9aa6-1520f708770d",
   "metadata": {},
   "source": [
    "### Exercise 3 (In your own words)"
   ]
  },
  {
   "cell_type": "markdown",
   "id": "44f92eff-8c02-494d-8361-631de1d9f93a",
   "metadata": {},
   "source": [
    "|#|Term|Description|\n",
    "|:---|:---:|---:|\n",
    "|1|Function|An operation that performs something (be it to return the value via print or to split up words like in split())|\n",
    "|2|Arguments|What the functions operate on, of which can be your variables|\n",
    "|3|Comments|To make it clear to your future self what your purpose of the code is|\n",
    "|4|Indentations|Spaces and/or tabs to denote easier reading (though I would argue that it is one of the greatest sources of confusion)|\n",
    "|5|Packages|Special tools you can import to supercharge your python with more functions, like math and numpy|\n",
    "|6|.|Denotes where the function comes from, be it from math or numpy or python.|\n",
    "|7|:|Used to split between different variables, or to assign a value to a variable. _Correction: Used for indexing and splicing (Utilised in chapter 3)_|\n",
    "|8|[ ]|Used to denote lists of objects|\n",
    "|9|[[ ],[ ]]|Used to denote a 2-Dimensional list of objects (Think of Cartesian Coordinates as an example)|\n",
    "|10|{}|Used to represent storing data in a dictionary|"
   ]
  },
  {
   "cell_type": "markdown",
   "id": "be286e73",
   "metadata": {},
   "source": []
  },
  {
   "cell_type": "markdown",
   "id": "31a081b1-6fa6-4778-9db0-b561f17d31a2",
   "metadata": {},
   "source": [
    "### Exercise 4"
   ]
  },
  {
   "cell_type": "code",
   "execution_count": 18,
   "id": "0c4564b7-0cea-481d-9cd9-d7821065de30",
   "metadata": {},
   "outputs": [
    {
     "data": {
      "text/plain": [
       "2.5"
      ]
     },
     "execution_count": 18,
     "metadata": {},
     "output_type": "execute_result"
    }
   ],
   "source": [
    "5/2        # This is the mathematical operation of division"
   ]
  },
  {
   "cell_type": "code",
   "execution_count": 21,
   "id": "3ed7bfcd-e916-48c2-bbea-8c7f10ec01ab",
   "metadata": {},
   "outputs": [
    {
     "data": {
      "text/plain": [
       "2"
      ]
     },
     "execution_count": 21,
     "metadata": {},
     "output_type": "execute_result"
    }
   ],
   "source": [
    "5//2        # This is the integer portion of the quotient after dividing 5 by 2 without any decimals.\n",
    "            # This is after testing with 5//3"
   ]
  },
  {
   "cell_type": "code",
   "execution_count": 27,
   "id": "10453c71-1a3b-4b5b-a628-fdf03dafbb08",
   "metadata": {},
   "outputs": [
    {
     "data": {
      "text/plain": [
       "1"
      ]
     },
     "execution_count": 27,
     "metadata": {},
     "output_type": "execute_result"
    }
   ],
   "source": [
    "5%2         # This is 5 mod 2, in the mathematical sense. It is the remainder of the division of 5 with 2.\n",
    "            # This is after testing 5%3 and 5%4"
   ]
  },
  {
   "cell_type": "code",
   "execution_count": null,
   "id": "21ab8eea-cf44-466f-b23a-5edef9d7dc08",
   "metadata": {},
   "outputs": [],
   "source": []
  }
 ],
 "metadata": {
  "kernelspec": {
   "display_name": "Python 3 (ipykernel)",
   "language": "python",
   "name": "python3"
  },
  "language_info": {
   "codemirror_mode": {
    "name": "ipython",
    "version": 3
   },
   "file_extension": ".py",
   "mimetype": "text/x-python",
   "name": "python",
   "nbconvert_exporter": "python",
   "pygments_lexer": "ipython3",
   "version": "3.12.3"
  },
  "toc": {
   "base_numbering": 1,
   "nav_menu": {},
   "number_sections": true,
   "sideBar": true,
   "skip_h1_title": false,
   "title_cell": "Table of Contents",
   "title_sidebar": "Contents",
   "toc_cell": false,
   "toc_position": {},
   "toc_section_display": true,
   "toc_window_display": false
  },
  "vscode": {
   "interpreter": {
    "hash": "31f2aee4e71d21fbe5cf8b01ff0e069b9275f58929596ceb00d14d90e3e16cd6"
   }
  }
 },
 "nbformat": 4,
 "nbformat_minor": 5
}
